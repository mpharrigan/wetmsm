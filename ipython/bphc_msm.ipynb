{
 "metadata": {
  "name": "",
  "signature": "sha256:59f509c9bab6d5a2837c6da913ee8d1c68332c8dede8f570731ae35a56eba98f"
 },
 "nbformat": 3,
 "nbformat_minor": 0,
 "worksheets": [
  {
   "cells": [
    {
     "cell_type": "code",
     "collapsed": false,
     "input": [
      "%load_ext autoreload\n",
      "%autoreload 2\n",
      "%matplotlib inline"
     ],
     "language": "python",
     "metadata": {},
     "outputs": [
      {
       "output_type": "stream",
       "stream": "stdout",
       "text": [
        "The autoreload extension is already loaded. To reload it, use:\n",
        "  %reload_ext autoreload\n"
       ]
      }
     ],
     "prompt_number": 22
    },
    {
     "cell_type": "code",
     "collapsed": false,
     "input": [
      "cd ~/biox/implement/water/bphc/"
     ],
     "language": "python",
     "metadata": {},
     "outputs": [
      {
       "output_type": "stream",
       "stream": "stdout",
       "text": [
        "/home/harrigan/mnt/biox/biox3/home/harrigan/implement/water/bphc\n"
       ]
      }
     ],
     "prompt_number": 23
    },
    {
     "cell_type": "code",
     "collapsed": false,
     "input": [
      "solute_ind = np.loadtxt('solute_ca_indices.dat', dtype=int, ndmin=2)\n",
      "solvent_ind = np.loadtxt('solvent_indices.dat', dtype=int, ndmin=2)"
     ],
     "language": "python",
     "metadata": {},
     "outputs": [],
     "prompt_number": 24
    },
    {
     "cell_type": "markdown",
     "metadata": {},
     "source": [
      "## Load in fingerprint"
     ]
    },
    {
     "cell_type": "code",
     "collapsed": false,
     "input": [
      "import tables\n",
      "import glob"
     ],
     "language": "python",
     "metadata": {},
     "outputs": [],
     "prompt_number": 25
    },
    {
     "cell_type": "code",
     "collapsed": false,
     "input": [
      "fp3d_all = list()\n",
      "for sc_fn in glob.glob('data/SYS*/shells-*_count.h5'):\n",
      "    counts_f = tables.open_file(sc_fn)\n",
      "    fp3d_tmp = counts_f.root.shell_counts\n",
      "    print(sc_fn, fp3d_tmp.shape)\n",
      "    fp3d_all.append(fp3d_tmp)\n",
      "    #counts_f.close()"
     ],
     "language": "python",
     "metadata": {},
     "outputs": [
      {
       "output_type": "stream",
       "stream": "stdout",
       "text": [
        "data/SYS62/shells-0_centered.xtc_count.h5 (1001, 292, 5)\n",
        "data/SYS57/shells-0_centered.xtc_count.h5 (1001, 292, 5)\n",
        "data/SYS29/shells-0_centered.xtc_count.h5 (1001, 292, 5)\n",
        "data/SYS33/shells-0_centered.xtc_count.h5 (1001, 292, 5)\n",
        "data/SYS38/shells-0_centered.xtc_count.h5 (1001, 292, 5)\n",
        "data/SYS8/shells-0_centered.xtc_count.h5 (1001, 292, 5)\n",
        "data/SYS65/shells-0_centered.xtc_count.h5 (1001, 292, 5)\n",
        "data/SYS31/shells-0_centered.xtc_count.h5 (1001, 292, 5)\n",
        "data/SYS34/shells-0_centered.xtc_count.h5 (1001, 292, 5)\n",
        "data/SYS58/shells-0_centered.xtc_count.h5 (1001, 292, 5)\n",
        "data/SYS70/shells-0_centered.xtc_count.h5 (1001, 292, 5)\n",
        "data/SYS69/shells-0_centered.xtc_count.h5 (1001, 292, 5)\n",
        "data/SYS87/shells-0_centered.xtc_count.h5 (364, 292, 5)\n",
        "data/SYS20/shells-0_centered.xtc_count.h5 (1001, 292, 5)\n",
        "data/SYS49/shells-0_centered.xtc_count.h5 (1001, 292, 5)\n",
        "data/SYS51/shells-0_centered.xtc_count.h5 (1001, 292, 5)\n",
        "data/SYS88/shells-0_centered.xtc_count.h5 (362, 292, 5)\n",
        "data/SYS25/shells-0_centered.xtc_count.h5"
       ]
      },
      {
       "output_type": "stream",
       "stream": "stdout",
       "text": [
        " (1001, 292, 5)\n",
        "data/SYS77/shells-0_centered.xtc_count.h5 (1001, 292, 5)\n",
        "data/SYS9/shells-0_centered.xtc_count.h5 (1001, 292, 5)\n",
        "data/SYS37/shells-0_centered.xtc_count.h5 (1001, 292, 5)\n",
        "data/SYS47/shells-0_centered.xtc_count.h5 (1001, 292, 5)\n",
        "data/SYS91/shells-0_centered.xtc_count.h5 (351, 292, 5)\n",
        "data/SYS32/shells-0_centered.xtc_count.h5 (1001, 292, 5)\n",
        "data/SYS83/shells-0_centered.xtc_count.h5 (391, 292, 5)\n",
        "data/SYS80/shells-0_centered.xtc_count.h5 (766, 292, 5)\n",
        "data/SYS66/shells-0_centered.xtc_count.h5 (1001, 292, 5)\n",
        "data/SYS81/shells-0_centered.xtc_count.h5 (829, 292, 5)\n",
        "data/SYS11/shells-0_centered.xtc_count.h5 (1001, 292, 5)\n",
        "data/SYS71/shells-0_centered.xtc_count.h5 (1001, 292, 5)\n",
        "data/SYS73/shells-0_centered.xtc_count.h5 (1001, 292, 5)\n",
        "data/SYS98/shells-0_centered.xtc_count.h5 (331, 292, 5)\n",
        "data/SYS44/shells-0_centered.xtc_count.h5 (1001, 292, 5)\n",
        "data/SYS97/shells-0_centered.xtc_count.h5 (322, 292, 5)\n",
        "data/SYS41/shells-0_centered.xtc_count.h5 (1001, 292, 5)\n",
        "data/SYS90/shells-0_centered.xtc_count.h5 (356, 292, 5)\n",
        "data/SYS56/shells-0_centered.xtc_count.h5 (1001, 292, 5)\n",
        "data/SYS89/shells-0_centered.xtc_count.h5"
       ]
      },
      {
       "output_type": "stream",
       "stream": "stdout",
       "text": [
        " (351, 292, 5)\n",
        "data/SYS48/shells-0_centered.xtc_count.h5 (1001, 292, 5)\n",
        "data/SYS84/shells-0_centered.xtc_count.h5 (387, 292, 5)\n",
        "data/SYS76/shells-0_centered.xtc_count.h5 (1001, 292, 5)\n",
        "data/SYS67/shells-0_centered.xtc_count.h5 (1001, 292, 5)\n",
        "data/SYS5/shells-0_centered.xtc_count.h5 (1001, 292, 5)\n",
        "data/SYS30/shells-0_centered.xtc_count.h5 (1001, 292, 5)\n",
        "data/SYS46/shells-0_centered.xtc_count.h5 (1001, 292, 5)\n",
        "data/SYS14/shells-0_centered.xtc_count.h5 (1001, 292, 5)\n",
        "data/SYS50/shells-0_centered.xtc_count.h5 (1001, 292, 5)\n",
        "data/SYS16/shells-0_centered.xtc_count.h5 (1001, 292, 5)\n",
        "data/SYS2/shells-0_centered.xtc_count.h5 (1001, 292, 5)\n",
        "data/SYS99/shells-0_centered.xtc_count.h5 (321, 292, 5)\n",
        "data/SYS7/shells-0_centered.xtc_count.h5 (1001, 292, 5)\n",
        "data/SYS22/shells-0_centered.xtc_count.h5 (1001, 292, 5)\n",
        "data/SYS54/shells-0_centered.xtc_count.h5 (1001, 292, 5)\n",
        "data/SYS59/shells-0_centered.xtc_count.h5 (1001, 292, 5)\n",
        "data/SYS75/shells-0_centered.xtc_count.h5 (1001, 292, 5)\n",
        "data/SYS6/shells-0_centered.xtc_count.h5 (1001, 292, 5)\n",
        "data/SYS40/shells-0_centered.xtc_count.h5"
       ]
      },
      {
       "output_type": "stream",
       "stream": "stdout",
       "text": [
        " (1001, 292, 5)\n",
        "data/SYS17/shells-0_centered.xtc_count.h5 (1001, 292, 5)\n",
        "data/SYS18/shells-0_centered.xtc_count.h5 (1001, 292, 5)\n",
        "data/SYS1/shells-0_centered.xtc_count.h5 (1001, 292, 5)\n",
        "data/SYS35/shells-0_centered.xtc_count.h5 (1001, 292, 5)\n",
        "data/SYS42/shells-0_centered.xtc_count.h5 (1001, 292, 5)\n",
        "data/SYS96/shells-0_centered.xtc_count.h5 (331, 292, 5)\n",
        "data/SYS27/shells-0_centered.xtc_count.h5 (1001, 292, 5)\n",
        "data/SYS93/shells-0_centered.xtc_count.h5 (351, 292, 5)\n",
        "data/SYS15/shells-0_centered.xtc_count.h5 (1001, 292, 5)\n",
        "data/SYS63/shells-0_centered.xtc_count.h5 (1001, 292, 5)\n",
        "data/SYS92/shells-0_centered.xtc_count.h5 (343, 292, 5)\n",
        "data/SYS55/shells-0_centered.xtc_count.h5 (1001, 292, 5)\n",
        "data/SYS94/shells-0_centered.xtc_count.h5 (329, 292, 5)\n",
        "data/SYS85/shells-0_centered.xtc_count.h5 (361, 292, 5)\n",
        "data/SYS19/shells-0_centered.xtc_count.h5 (1001, 292, 5)\n",
        "data/SYS61/shells-0_centered.xtc_count.h5 (1001, 292, 5)\n",
        "data/SYS74/shells-0_centered.xtc_count.h5 (1001, 292, 5)\n",
        "data/SYS23/shells-0_centered.xtc_count.h5 "
       ]
      },
      {
       "output_type": "stream",
       "stream": "stdout",
       "text": [
        "(1001, 292, 5)\n",
        "data/SYS28/shells-0_centered.xtc_count.h5 (1001, 292, 5)\n",
        "data/SYS82/shells-0_centered.xtc_count.h5 (841, 292, 5)\n",
        "data/SYS72/shells-0_centered.xtc_count.h5 (1001, 292, 5)\n",
        "data/SYS95/shells-0_centered.xtc_count.h5 (325, 292, 5)\n",
        "data/SYS26/shells-0_centered.xtc_count.h5 (1001, 292, 5)\n",
        "data/SYS53/shells-0_centered.xtc_count.h5 (1001, 292, 5)\n",
        "data/SYS45/shells-0_centered.xtc_count.h5 (1001, 292, 5)\n",
        "data/SYS12/shells-0_centered.xtc_count.h5 (1001, 292, 5)\n",
        "data/SYS60/shells-0_centered.xtc_count.h5 (1001, 292, 5)\n",
        "data/SYS4/shells-0_centered.xtc_count.h5 (1001, 292, 5)\n",
        "data/SYS24/shells-0_centered.xtc_count.h5 (1001, 292, 5)\n",
        "data/SYS36/shells-0_centered.xtc_count.h5 (1001, 292, 5)\n",
        "data/SYS10/shells-0_centered.xtc_count.h5 (1001, 292, 5)\n",
        "data/SYS64/shells-0_centered.xtc_count.h5 (1001, 292, 5)\n",
        "data/SYS79/shells-0_centered.xtc_count.h5 (987, 292, 5)\n",
        "data/SYS68/shells-0_centered.xtc_count.h5 (1001, 292, 5)\n",
        "data/SYS13/shells-0_centered.xtc_count.h5 (1001, 292, 5)\n",
        "data/SYS78/shells-0_centered.xtc_count.h5 (973, 292, 5)\n",
        "data/SYS52/shells-0_centered.xtc_count.h5 (1001, 292, 5)\n",
        "data/SYS21/shells-0_centered.xtc_count.h5"
       ]
      },
      {
       "output_type": "stream",
       "stream": "stdout",
       "text": [
        " (1001, 292, 5)\n",
        "data/SYS100/shells-0_centered.xtc_count.h5 (285, 292, 5)\n",
        "data/SYS86/shells-0_centered.xtc_count.h5 (370, 292, 5)\n",
        "data/SYS43/shells-0_centered.xtc_count.h5 (1001, 292, 5)\n",
        "data/SYS39/shells-0_centered.xtc_count.h5 (1001, 292, 5)\n",
        "data/SYS3/shells-0_centered.xtc_count.h5 (1001, 292, 5)\n"
       ]
      }
     ],
     "prompt_number": 26
    },
    {
     "cell_type": "markdown",
     "metadata": {},
     "source": [
      "### See if any of the closest shells are occupied"
     ]
    },
    {
     "cell_type": "code",
     "collapsed": false,
     "input": [
      "import wetmsm.analysis as wa\n",
      "import logging\n",
      "wa.log.setLevel(logging.INFO)"
     ],
     "language": "python",
     "metadata": {},
     "outputs": [],
     "prompt_number": 31
    },
    {
     "cell_type": "code",
     "collapsed": false,
     "input": [
      "fp3dn_all = [wa.normalize(fp3d, shell_w=0.2) for fp3d in fp3d_all]"
     ],
     "language": "python",
     "metadata": {},
     "outputs": [],
     "prompt_number": 28
    },
    {
     "cell_type": "code",
     "collapsed": false,
     "input": [
      "fp2d_all = wa.prune_all([wa.reshape(fp3d) for fp3d in fp3dn_all])"
     ],
     "language": "python",
     "metadata": {},
     "outputs": [
      {
       "output_type": "stream",
       "stream": "stderr",
       "text": [
        "INFO:root:Trimming 292 features from all trajectories\n"
       ]
      }
     ],
     "prompt_number": 128
    },
    {
     "cell_type": "markdown",
     "metadata": {},
     "source": [
      "### Visualize some features"
     ]
    },
    {
     "cell_type": "code",
     "collapsed": false,
     "input": [
      "fp2d = fp2d_all[np.random.randint(len(fp2d_all))]\n",
      "for i in np.random.randint(0, fp2d.shape[1], 4):\n",
      "    plt.plot(fp2d[:, i], '.-', label=\"Feature {}\".format(i))\n",
      "plt.xlabel('Time'); plt.ylabel('Shells FP');\n",
      "plt.legend(loc='best')"
     ],
     "language": "python",
     "metadata": {},
     "outputs": [
      {
       "metadata": {},
       "output_type": "pyout",
       "prompt_number": 116,
       "text": [
        "<matplotlib.legend.Legend at 0x7f1d8cf79dd8>"
       ]
      },
      {
       "metadata": {},
       "output_type": "display_data",
       "png": "[encoded data removed]",
       "text": [
        "<matplotlib.figure.Figure at 0x7f1d8cf79c88>"
       ]
      }
     ],
     "prompt_number": 116
    },
    {
     "cell_type": "markdown",
     "metadata": {},
     "source": [
      "# Build an MSM"
     ]
    },
    {
     "cell_type": "markdown",
     "metadata": {},
     "source": [
      "## Do with smaller"
     ]
    },
    {
     "cell_type": "code",
     "collapsed": false,
     "input": [
      "fp2d_all = [fp2d[::10, :100] for fp2d in fp2d_all]"
     ],
     "language": "python",
     "metadata": {},
     "outputs": [],
     "prompt_number": 62
    },
    {
     "cell_type": "markdown",
     "metadata": {},
     "source": [
      "## Ok"
     ]
    },
    {
     "cell_type": "code",
     "collapsed": false,
     "input": [
      "_, n_features = fp2d_all[0].shape\n",
      "n_trajs = len(fp2d_all)\n",
      "n_datapoint = int(np.sum([len(fp2d) for fp2d in fp2d_all]))\n",
      "print(\"{} features in {} trajs\\nwith {} total data points\\ngiving {} \\\n",
      "datapoints per traj\\nor {:.2f} datapoints per feature\".format(\n",
      "            n_features, n_trajs, n_datapoint, n_datapoint/n_trajs, n_datapoint / (n_features)))"
     ],
     "language": "python",
     "metadata": {},
     "outputs": [
      {
       "output_type": "stream",
       "stream": "stdout",
       "text": [
        "1168 features in 100 trajs\n",
        "with 87704 total data points\n",
        "giving 877.04 datapoints per traj\n",
        "or 75.09 datapoints per feature\n"
       ]
      }
     ],
     "prompt_number": 129
    },
    {
     "cell_type": "code",
     "collapsed": false,
     "input": [
      "from mixtape.cluster import KMeans, KCenters\n",
      "from mixtape.markovstatemodel import MarkovStateModel"
     ],
     "language": "python",
     "metadata": {},
     "outputs": [],
     "prompt_number": 130
    },
    {
     "cell_type": "code",
     "collapsed": false,
     "input": [
      "kmeans = KMeans(n_clusters=100)\n",
      "#kmeans = KCenters(n_clusters=100)"
     ],
     "language": "python",
     "metadata": {},
     "outputs": [],
     "prompt_number": 131
    },
    {
     "cell_type": "code",
     "collapsed": false,
     "input": [
      "kmeans.fit(fp2d_all)"
     ],
     "language": "python",
     "metadata": {},
     "outputs": []
    },
    {
     "cell_type": "code",
     "collapsed": false,
     "input": [
      "lagtimes = list()\n",
      "timescales = list()\n",
      "for lt in range(1, 30, 2):\n",
      "    print(lt)\n",
      "    msm = MarkovStateModel(lag_time=lt, n_timescales=20)\n",
      "    msm.fit(kmeans.labels_)\n",
      "    timescales.append(msm.timescales_)\n",
      "    lagtimes.append([lt] * msm.n_timescales)"
     ],
     "language": "python",
     "metadata": {},
     "outputs": [
      {
       "output_type": "stream",
       "stream": "stdout",
       "text": [
        "1\n",
        "20:16:08 - Abnormal termination of BFGS likelihood maximization.  Error code 2"
       ]
      },
      {
       "output_type": "stream",
       "stream": "stdout",
       "text": [
        "\n"
       ]
      },
      {
       "output_type": "stream",
       "stream": "stderr",
       "text": [
        "/home/harrigan/opt/Python-3.4/lib/python3.4/site-packages/msmbuilder-2.8.3-py3.4.egg/msmbuilder/MSMLib.py:1239: DeprecationWarning: The 'warn' method is deprecated, use 'warning' instead\n",
        "  info_dict[\"warnflag\"])\n",
        "/home/harrigan/opt/Python-3.4/lib/python3.4/site-packages/msmbuilder-2.8.3-py3.4.egg/msmbuilder/MSMLib.py:1239: DeprecationWarning: The 'warn' method is deprecated, use 'warning' instead\n",
        "  info_dict[\"warnflag\"])\n"
       ]
      },
      {
       "output_type": "stream",
       "stream": "stdout",
       "text": [
        "3\n",
        "20:16:09 - Abnormal termination of BFGS likelihood maximization.  Error code 2"
       ]
      },
      {
       "output_type": "stream",
       "stream": "stdout",
       "text": [
        "\n"
       ]
      },
      {
       "output_type": "stream",
       "stream": "stdout",
       "text": [
        "5\n",
        "20:16:11 - Abnormal termination of BFGS likelihood maximization.  Error code 2"
       ]
      },
      {
       "output_type": "stream",
       "stream": "stdout",
       "text": [
        "\n"
       ]
      },
      {
       "output_type": "stream",
       "stream": "stderr",
       "text": [
        "/home/harrigan/opt/Python-3.4/lib/python3.4/site-packages/msmbuilder-2.8.3-py3.4.egg/msmbuilder/MSMLib.py:1239: DeprecationWarning: The 'warn' method is deprecated, use 'warning' instead\n",
        "  info_dict[\"warnflag\"])\n",
        "/home/harrigan/opt/Python-3.4/lib/python3.4/site-packages/msmbuilder-2.8.3-py3.4.egg/msmbuilder/MSMLib.py:1239: DeprecationWarning: The 'warn' method is deprecated, use 'warning' instead\n",
        "  info_dict[\"warnflag\"])\n"
       ]
      },
      {
       "output_type": "stream",
       "stream": "stdout",
       "text": [
        "7\n",
        "20:16:12 - Abnormal termination of BFGS likelihood maximization.  Error code 2"
       ]
      },
      {
       "output_type": "stream",
       "stream": "stdout",
       "text": [
        "\n"
       ]
      },
      {
       "output_type": "stream",
       "stream": "stdout",
       "text": [
        "9\n",
        "20:16:14 - Abnormal termination of BFGS likelihood maximization.  Error code 2"
       ]
      },
      {
       "output_type": "stream",
       "stream": "stdout",
       "text": [
        "\n"
       ]
      },
      {
       "output_type": "stream",
       "stream": "stderr",
       "text": [
        "/home/harrigan/opt/Python-3.4/lib/python3.4/site-packages/msmbuilder-2.8.3-py3.4.egg/msmbuilder/MSMLib.py:1239: DeprecationWarning: The 'warn' method is deprecated, use 'warning' instead\n",
        "  info_dict[\"warnflag\"])\n",
        "/home/harrigan/opt/Python-3.4/lib/python3.4/site-packages/msmbuilder-2.8.3-py3.4.egg/msmbuilder/MSMLib.py:1239: DeprecationWarning: The 'warn' method is deprecated, use 'warning' instead\n",
        "  info_dict[\"warnflag\"])\n"
       ]
      },
      {
       "output_type": "stream",
       "stream": "stdout",
       "text": [
        "11\n",
        "20:16:15 - Abnormal termination of BFGS likelihood maximization.  Error code 2"
       ]
      },
      {
       "output_type": "stream",
       "stream": "stdout",
       "text": [
        "\n"
       ]
      },
      {
       "output_type": "stream",
       "stream": "stdout",
       "text": [
        "13\n",
        "15"
       ]
      },
      {
       "output_type": "stream",
       "stream": "stdout",
       "text": [
        "\n",
        "20:16:18 - Abnormal termination of BFGS likelihood maximization.  Error code 2"
       ]
      },
      {
       "output_type": "stream",
       "stream": "stdout",
       "text": [
        "\n"
       ]
      },
      {
       "output_type": "stream",
       "stream": "stdout",
       "text": [
        "17\n",
        "19"
       ]
      },
      {
       "output_type": "stream",
       "stream": "stdout",
       "text": [
        "\n",
        "21"
       ]
      },
      {
       "output_type": "stream",
       "stream": "stderr",
       "text": [
        "/home/harrigan/opt/Python-3.4/lib/python3.4/site-packages/msmbuilder-2.8.3-py3.4.egg/msmbuilder/MSMLib.py:1239: DeprecationWarning: The 'warn' method is deprecated, use 'warning' instead\n",
        "  info_dict[\"warnflag\"])\n",
        "/home/harrigan/opt/Python-3.4/lib/python3.4/site-packages/msmbuilder-2.8.3-py3.4.egg/msmbuilder/MSMLib.py:1239: DeprecationWarning: The 'warn' method is deprecated, use 'warning' instead\n",
        "  info_dict[\"warnflag\"])\n"
       ]
      },
      {
       "output_type": "stream",
       "stream": "stdout",
       "text": [
        "\n",
        "20:16:23 - Abnormal termination of BFGS likelihood maximization.  Error code 2"
       ]
      },
      {
       "output_type": "stream",
       "stream": "stdout",
       "text": [
        "\n"
       ]
      },
      {
       "output_type": "stream",
       "stream": "stdout",
       "text": [
        "23\n",
        "25"
       ]
      },
      {
       "output_type": "stream",
       "stream": "stdout",
       "text": [
        "\n",
        "20:16:26 - Abnormal termination of BFGS likelihood maximization.  Error code 2"
       ]
      },
      {
       "output_type": "stream",
       "stream": "stdout",
       "text": [
        "\n"
       ]
      },
      {
       "output_type": "stream",
       "stream": "stderr",
       "text": [
        "/home/harrigan/opt/Python-3.4/lib/python3.4/site-packages/msmbuilder-2.8.3-py3.4.egg/msmbuilder/MSMLib.py:1239: DeprecationWarning: The 'warn' method is deprecated, use 'warning' instead\n",
        "  info_dict[\"warnflag\"])\n",
        "/home/harrigan/opt/Python-3.4/lib/python3.4/site-packages/msmbuilder-2.8.3-py3.4.egg/msmbuilder/MSMLib.py:1239: DeprecationWarning: The 'warn' method is deprecated, use 'warning' instead\n",
        "  info_dict[\"warnflag\"])\n"
       ]
      },
      {
       "output_type": "stream",
       "stream": "stdout",
       "text": [
        "27\n",
        "20:16:28 - Abnormal termination of BFGS likelihood maximization.  Error code 2"
       ]
      },
      {
       "output_type": "stream",
       "stream": "stdout",
       "text": [
        "\n"
       ]
      },
      {
       "output_type": "stream",
       "stream": "stdout",
       "text": [
        "29\n"
       ]
      }
     ],
     "prompt_number": 125
    },
    {
     "cell_type": "code",
     "collapsed": false,
     "input": [
      "timescales = np.array(timescales).flatten()\n",
      "lagtimes = np.array(lagtimes).flatten()\n",
      "print(timescales.shape, lagtimes.shape)"
     ],
     "language": "python",
     "metadata": {},
     "outputs": [
      {
       "output_type": "stream",
       "stream": "stdout",
       "text": [
        "(300,) (300,)\n"
       ]
      }
     ],
     "prompt_number": 126
    },
    {
     "cell_type": "code",
     "collapsed": false,
     "input": [
      "plt.scatter(lagtimes, timescales)\n",
      "plt.yscale('log')"
     ],
     "language": "python",
     "metadata": {},
     "outputs": [
      {
       "metadata": {},
       "output_type": "display_data",
       "png": "[encoded data removed]",
       "text": [
        "<matplotlib.figure.Figure at 0x7f1d8d0dc0f0>"
       ]
      }
     ],
     "prompt_number": 127
    },
    {
     "cell_type": "code",
     "collapsed": false,
     "input": [
      "plt.hlines(msm.timescales_, 0, 1, 'b')\n",
      "plt.yscale('log')"
     ],
     "language": "python",
     "metadata": {},
     "outputs": [
      {
       "metadata": {},
       "output_type": "display_data",
       "png": "[encoded data removed]",
       "text": [
        "<matplotlib.figure.Figure at 0x7f1d8d09b898>"
       ]
      }
     ],
     "prompt_number": 109
    },
    {
     "cell_type": "code",
     "collapsed": false,
     "input": [
      "range?"
     ],
     "language": "python",
     "metadata": {},
     "outputs": [],
     "prompt_number": 121
    },
    {
     "cell_type": "code",
     "collapsed": false,
     "input": [],
     "language": "python",
     "metadata": {},
     "outputs": []
    }
   ],
   "metadata": {}
  }
 ]
}