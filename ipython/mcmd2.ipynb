{
 "metadata": {
  "name": "",
  "signature": "sha256:c0b2293e4024f0623e622a58c338474a98fd9b14ec6b9367a711a099b1aa0dfb"
 },
 "nbformat": 3,
 "nbformat_minor": 0,
 "worksheets": [
  {
   "cells": [
    {
     "cell_type": "code",
     "collapsed": false,
     "input": [
      "class Parsable(object):\n",
      "    pass"
     ],
     "language": "python",
     "metadata": {},
     "outputs": [],
     "prompt_number": 2
    },
    {
     "cell_type": "code",
     "collapsed": false,
     "input": [
      "class MakeJobs(Parsable):\n",
      "    \"\"\"Some documentation.\"\"\"\n",
      "    \n",
      "    def __init__(self, base_dir, counts_out_fn='counts.h5', assign_out_fn='assign.h5',\n",
      "                 traj_glob='data/*/*.xtc'):\n",
      "        self.base_dir = base_dir\n",
      "        self.moo = \"moo\"\n",
      "        \n",
      "    def say_hi(self, msg):\n",
      "        \"\"\"Say hello.\"\"\"\n",
      "        print \"Hi\", msg\n",
      "        \n",
      "    def main(self):\n",
      "        self.say_hi(self.base_dir)\n",
      "        "
     ],
     "language": "python",
     "metadata": {},
     "outputs": [],
     "prompt_number": 28
    },
    {
     "cell_type": "code",
     "collapsed": false,
     "input": [
      "cl = MakeJobs"
     ],
     "language": "python",
     "metadata": {},
     "outputs": [],
     "prompt_number": 29
    },
    {
     "cell_type": "code",
     "collapsed": false,
     "input": [
      "clinit = cl.__init__.im_func"
     ],
     "language": "python",
     "metadata": {},
     "outputs": [],
     "prompt_number": 30
    },
    {
     "cell_type": "code",
     "collapsed": false,
     "input": [
      "clinit.func_defaults"
     ],
     "language": "python",
     "metadata": {},
     "outputs": [
      {
       "metadata": {},
       "output_type": "pyout",
       "prompt_number": 31,
       "text": [
        "('counts.h5', 'assign.h5', 'data/*/*.xtc')"
       ]
      }
     ],
     "prompt_number": 31
    },
    {
     "cell_type": "code",
     "collapsed": false,
     "input": [
      "fc = clinit.func_code"
     ],
     "language": "python",
     "metadata": {},
     "outputs": [],
     "prompt_number": 32
    },
    {
     "cell_type": "code",
     "collapsed": false,
     "input": [
      "fc.co_varnames"
     ],
     "language": "python",
     "metadata": {},
     "outputs": [
      {
       "metadata": {},
       "output_type": "pyout",
       "prompt_number": 33,
       "text": [
        "('self', 'base_dir', 'counts_out_fn', 'assign_out_fn', 'traj_glob')"
       ]
      }
     ],
     "prompt_number": 33
    },
    {
     "cell_type": "code",
     "collapsed": false,
     "input": [
      "fc."
     ],
     "language": "python",
     "metadata": {},
     "outputs": [
      {
       "metadata": {},
       "output_type": "pyout",
       "prompt_number": 35,
       "text": [
        "(None, 'moo')"
       ]
      }
     ],
     "prompt_number": 35
    },
    {
     "cell_type": "code",
     "collapsed": false,
     "input": [
      "import inspect"
     ],
     "language": "python",
     "metadata": {},
     "outputs": [],
     "prompt_number": 36
    },
    {
     "cell_type": "code",
     "collapsed": false,
     "input": [
      "inspect.getargs()"
     ],
     "language": "python",
     "metadata": {},
     "outputs": []
    }
   ],
   "metadata": {}
  }
 ]
}