{
 "metadata": {
  "name": "",
  "signature": "sha256:3e18dff96e7e308d3d44e9501943732ce57beb62e4426c5ee477783f5d64a56f"
 },
 "nbformat": 3,
 "nbformat_minor": 0,
 "worksheets": [
  {
   "cells": [
    {
     "cell_type": "code",
     "collapsed": false,
     "input": [
      "%matplotlib inline"
     ],
     "language": "python",
     "metadata": {},
     "outputs": [],
     "prompt_number": 1
    },
    {
     "cell_type": "code",
     "collapsed": false,
     "input": [
      "import pickle\n",
      "import tables"
     ],
     "language": "python",
     "metadata": {},
     "outputs": [],
     "prompt_number": 2
    },
    {
     "cell_type": "code",
     "collapsed": false,
     "input": [
      "cd ~/implement/wetmsm/kchan/hoh/"
     ],
     "language": "python",
     "metadata": {},
     "outputs": [
      {
       "output_type": "stream",
       "stream": "stdout",
       "text": [
        "/home/harrigan/implement/wetmsm/kchan/hoh\n"
       ]
      }
     ],
     "prompt_number": 3
    },
    {
     "cell_type": "code",
     "collapsed": false,
     "input": [
      "with open('2b-ticax.pickl', 'rb') as f:\n",
      "    tseqs = pickle.load(f)\n",
      "with open('2a-tica.pickl', 'rb') as f:\n",
      "    tica = pickle.load(f)\n",
      "with open('1e-deleted.pickl', 'rb') as f:\n",
      "    deleted = pickle.load(f)"
     ],
     "language": "python",
     "metadata": {},
     "outputs": [],
     "prompt_number": 4
    },
    {
     "cell_type": "code",
     "collapsed": false,
     "input": [
      "with open('1a-fns.pickl', 'rb') as f:\n",
      "    fns = pickle.load(f)\n",
      "with open('1c-argsort.pickl', 'rb') as f:\n",
      "    arsr = pickle.load(f)\n",
      "    \n",
      "# Sort filenames\n",
      "fns = np.array(fns)[arsr]\n",
      "fns = [fn.replace('count', 'assign') for fn in fns]"
     ],
     "language": "python",
     "metadata": {},
     "outputs": [],
     "prompt_number": 5
    },
    {
     "cell_type": "code",
     "collapsed": false,
     "input": [
      "for i, fn in enumerate(fns):\n",
      "    print(i * 4000, fn)\n",
      "    "
     ],
     "language": "python",
     "metadata": {},
     "outputs": [
      {
       "output_type": "stream",
       "stream": "stdout",
       "text": [
        "0 trajs/frames_centered-0.dcd.hoh.assign.h5\n",
        "4000 trajs/frames_centered-4000.dcd.hoh.assign.h5\n",
        "8000 trajs/frames_centered-8000.dcd.hoh.assign.h5\n",
        "12000 trajs/frames_centered-12000.dcd.hoh.assign.h5\n",
        "16000 trajs/frames_centered-16000.dcd.hoh.assign.h5\n",
        "20000 trajs/frames_centered-20000.dcd.hoh.assign.h5\n",
        "24000 trajs/frames_centered-24000.dcd.hoh.assign.h5\n",
        "28000 trajs/frames_centered-28000.dcd.hoh.assign.h5\n",
        "32000 trajs/frames_centered-32000.dcd.hoh.assign.h5\n",
        "36000 trajs/frames_centered-36000.dcd.hoh.assign.h5\n",
        "40000 trajs/frames_centered-40000.dcd.hoh.assign.h5\n",
        "44000 trajs/frames_centered-44000.dcd.hoh.assign.h5\n",
        "48000 trajs/frames_centered-48000.dcd.hoh.assign.h5\n",
        "52000 trajs/frames_centered-52000.dcd.hoh.assign.h5\n",
        "56000 trajs/frames_centered-56000.dcd.hoh.assign.h5\n",
        "60000 trajs/frames_centered-60000.dcd.hoh.assign.h5\n",
        "64000 trajs/frames_centered-64000.dcd.hoh.assign.h5\n",
        "68000 trajs/frames_centered-68000.dcd.hoh.assign.h5\n",
        "72000 trajs/frames_centered-72000.dcd.hoh.assign.h5\n"
       ]
      }
     ],
     "prompt_number": 14
    },
    {
     "cell_type": "code",
     "collapsed": false,
     "input": [
      "txy = np.concatenate(tseqs)"
     ],
     "language": "python",
     "metadata": {},
     "outputs": [],
     "prompt_number": 7
    },
    {
     "cell_type": "code",
     "collapsed": false,
     "input": [
      "from wetmsm.vmd_write import VMDWriter, VMDSCRIPT\n",
      "from os.path import join as pjoin"
     ],
     "language": "python",
     "metadata": {},
     "outputs": [],
     "prompt_number": 8
    },
    {
     "cell_type": "markdown",
     "metadata": {},
     "source": [
      "### Load Assignments File"
     ]
    },
    {
     "cell_type": "code",
     "collapsed": false,
     "input": [
      "biox_prefix = '/home/harrigan/biox/implement/water/kchan/'\n",
      "\n",
      "# Make a new tables\n",
      "filters = tables.Filters(complevel=5, complib='zlib')\n",
      "tot_assn_h = tables.open_file('vis/tot_assn.h5', 'w')\n",
      "tot_assn_ea = tot_assn_h.create_earray(tot_assn_h.root, 'assigments',\n",
      "                                       atom=tables.UIntAtom(), shape=(0,4),\n",
      "                                       filters=filters)\n",
      "\n",
      "chunksize = 1000000\n",
      "\n",
      "for i, fn in enumerate(fns):\n",
      "    assn_fn = pjoin(biox_prefix, fn)\n",
      "    assn_f = tables.open_file(assn_fn)\n",
      "    assn = assn_f.root.assignments\n",
      "    \n",
      "    n_chunks = assn.shape[0] // chunksize + 1\n",
      "    \n",
      "    for chunk_i in range(n_chunks):\n",
      "        chunk = assn.read(chunksize * chunk_i, chunksize * (chunk_i + 1))\n",
      "        chunk[:, 0] = chunk[:, 0] + 4000 * i\n",
      "        tot_assn_ea.append(chunk)\n",
      "        \n",
      "tot_assn_h.close()"
     ],
     "language": "python",
     "metadata": {},
     "outputs": [],
     "prompt_number": 17
    },
    {
     "cell_type": "code",
     "collapsed": false,
     "input": [
      "assn_f.close()"
     ],
     "language": "python",
     "metadata": {},
     "outputs": [],
     "prompt_number": 18
    },
    {
     "cell_type": "code",
     "collapsed": false,
     "input": [],
     "language": "python",
     "metadata": {},
     "outputs": []
    }
   ],
   "metadata": {}
  }
 ]
}