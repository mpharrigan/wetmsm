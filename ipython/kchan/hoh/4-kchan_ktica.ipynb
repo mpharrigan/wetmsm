{
 "metadata": {
  "name": "",
  "signature": "sha256:ad8de04ab778a115e10431c47420c4509c1d9bacd32ba6275189c81fcbb3c88c"
 },
 "nbformat": 3,
 "nbformat_minor": 0,
 "worksheets": [
  {
   "cells": [
    {
     "cell_type": "code",
     "collapsed": false,
     "input": [
      "%matplotlib inline"
     ],
     "language": "python",
     "metadata": {},
     "outputs": [],
     "prompt_number": 1
    },
    {
     "cell_type": "code",
     "collapsed": false,
     "input": [
      "import pickle"
     ],
     "language": "python",
     "metadata": {},
     "outputs": [],
     "prompt_number": 2
    },
    {
     "cell_type": "code",
     "collapsed": false,
     "input": [
      "cd ~/implement/wetmsm/kchan/hoh/"
     ],
     "language": "python",
     "metadata": {},
     "outputs": [
      {
       "output_type": "stream",
       "stream": "stdout",
       "text": [
        "/home/harrigan/implement/wetmsm/kchan/hoh\n"
       ]
      }
     ],
     "prompt_number": 3
    },
    {
     "cell_type": "code",
     "collapsed": false,
     "input": [
      "from matplotlib.backends.backend_pdf import PdfPages\n",
      "pp = PdfPages('plot-4-ktica.pdf')"
     ],
     "language": "python",
     "metadata": {},
     "outputs": [],
     "prompt_number": 4
    },
    {
     "cell_type": "markdown",
     "metadata": {},
     "source": [
      "## Load sequences"
     ]
    },
    {
     "cell_type": "code",
     "collapsed": false,
     "input": [
      "with open('1f-sa.pickl', 'rb') as f:\n",
      "    sa = pickle.load(f)"
     ],
     "language": "python",
     "metadata": {},
     "outputs": [],
     "prompt_number": 5
    },
    {
     "cell_type": "code",
     "collapsed": false,
     "input": [
      "seq = sa.seqs2d[0]"
     ],
     "language": "python",
     "metadata": {},
     "outputs": [],
     "prompt_number": 6
    },
    {
     "cell_type": "code",
     "collapsed": false,
     "input": [
      "del sa"
     ],
     "language": "python",
     "metadata": {},
     "outputs": [],
     "prompt_number": 7
    },
    {
     "cell_type": "markdown",
     "metadata": {},
     "source": [
      "# ktICA"
     ]
    },
    {
     "cell_type": "code",
     "collapsed": false,
     "input": [
      "from klearn import ktICA\n",
      "from klearn.kernels import Gaussian\n",
      "from klearn.msmbmetrics import Euclidean"
     ],
     "language": "python",
     "metadata": {},
     "outputs": [],
     "prompt_number": 8
    },
    {
     "cell_type": "code",
     "collapsed": false,
     "input": [
      "metric = Euclidean()\n",
      "gaussian_kernel = Gaussian(metric)"
     ],
     "language": "python",
     "metadata": {},
     "outputs": [],
     "prompt_number": 9
    },
    {
     "cell_type": "code",
     "collapsed": false,
     "input": [
      "ktica = ktICA(gaussian_kernel, dt=1)"
     ],
     "language": "python",
     "metadata": {},
     "outputs": [],
     "prompt_number": 12
    },
    {
     "cell_type": "markdown",
     "metadata": {},
     "source": [
      "## Gram Matrix"
     ]
    },
    {
     "cell_type": "code",
     "collapsed": false,
     "input": [
      "ktica.add_training_data(seq[::10])"
     ],
     "language": "python",
     "metadata": {},
     "outputs": [],
     "prompt_number": 13
    },
    {
     "cell_type": "code",
     "collapsed": false,
     "input": [
      "print('{:.2f} MB'.format((len(seq[::10]) * 2)**2 * 32 / (8*1024*1024))"
     ],
     "language": "python",
     "metadata": {},
     "outputs": [
      {
       "output_type": "stream",
       "stream": "stdout",
       "text": [
        "832.6380767822266 MB\n"
       ]
      }
     ],
     "prompt_number": 15
    },
    {
     "cell_type": "code",
     "collapsed": false,
     "input": [
      "ktica.calculate_matrices()"
     ],
     "language": "python",
     "metadata": {},
     "outputs": [],
     "prompt_number": 16
    },
    {
     "cell_type": "code",
     "collapsed": false,
     "input": [
      "with open('4a-kmat.pickl', 'wb') as f:\n",
      "    pickle.dump(ktica.K, f)"
     ],
     "language": "python",
     "metadata": {},
     "outputs": [],
     "prompt_number": 17
    },
    {
     "cell_type": "markdown",
     "metadata": {},
     "source": [
      "## Solve"
     ]
    },
    {
     "cell_type": "code",
     "collapsed": false,
     "input": [
      "ktica.solve()"
     ],
     "language": "python",
     "metadata": {},
     "outputs": [
      {
       "output_type": "stream",
       "stream": "stderr",
       "text": [
        "/home/harrigan/opt/miniconda3/lib/python3.4/site-packages/klearn-0.1-py3.4.egg/klearn/learners/ktica.py:152: DeprecationWarning: using a non-integer number instead of an integer will result in an error in the future\n",
        "  rot_mat = np.zeros((2 * N, 2 * N))\n",
        "/home/harrigan/opt/miniconda3/lib/python3.4/site-packages/klearn-0.1-py3.4.egg/klearn/learners/ktica.py:152: DeprecationWarning: using a non-integer number instead of an integer will result in an error in the future\n",
        "  rot_mat = np.zeros((2 * N, 2 * N))\n",
        "/home/harrigan/opt/miniconda3/lib/python3.4/site-packages/numpy/lib/twodim_base.py:211: DeprecationWarning: using a non-integer number instead of an integer will result in an error in the future\n",
        "  m = zeros((N, M), dtype=dtype)\n",
        "/home/harrigan/opt/miniconda3/lib/python3.4/site-packages/numpy/lib/twodim_base.py:211: DeprecationWarning: using a non-integer number instead of an integer will result in an error in the future\n",
        "  m = zeros((N, M), dtype=dtype)\n",
        "/home/harrigan/opt/miniconda3/lib/python3.4/site-packages/numpy/lib/twodim_base.py:218: DeprecationWarning: using a non-integer number instead of an integer will result in an error in the future\n",
        "  m[:M-k].flat[i::M+1] = 1\n",
        "/home/harrigan/opt/miniconda3/lib/python3.4/site-packages/numpy/lib/twodim_base.py:218: DeprecationWarning: using a non-integer number instead of an integer will result in an error in the future\n",
        "  m[:M-k].flat[i::M+1] = 1\n",
        "/home/harrigan/opt/miniconda3/lib/python3.4/site-packages/klearn-0.1-py3.4.egg/klearn/learners/ktica.py:153: DeprecationWarning: using a non-integer number instead of an integer will result in an error in the future\n",
        "  rot_mat[:N, N:] = np.eye(N)\n"
       ]
      },
      {
       "output_type": "stream",
       "stream": "stderr",
       "text": [
        "/home/harrigan/opt/miniconda3/lib/python3.4/site-packages/klearn-0.1-py3.4.egg/klearn/learners/ktica.py:153: DeprecationWarning: using a non-integer number instead of an integer will result in an error in the future\n",
        "  rot_mat[:N, N:] = np.eye(N)\n",
        "/home/harrigan/opt/miniconda3/lib/python3.4/site-packages/klearn-0.1-py3.4.egg/klearn/learners/ktica.py:170: DeprecationWarning: The 'warn' method is deprecated, use 'warning' instead\n",
        "  logger.warn(\"some eigenvalues are not real. You might\"\n"
       ]
      },
      {
       "output_type": "stream",
       "stream": "stdout",
       "text": [
        "19:22:55 - some eigenvalues are not real. You might try chaniging the regularization factor.\n"
       ]
      },
      {
       "metadata": {},
       "output_type": "pyout",
       "prompt_number": 18,
       "text": [
        "(array([ 0.99999991+0.j,  0.99999964+0.j,  0.99999919+0.j, ...,\n",
        "        -0.99999964+0.j, -0.99999991+0.j, -1.00000000+0.j]),\n",
        " array([[ 1.41433289+0.j, -1.41411868+0.j, -1.41405120+0.j, ...,\n",
        "          1.41403883+0.j,  1.41421508+0.j, -0.99986718+0.j],\n",
        "        [ 0.70072470+0.j, -0.70317239+0.j, -0.70273291+0.j, ...,\n",
        "         -0.70306322+0.j, -0.70298397+0.j,  0.49714625+0.j],\n",
        "        [ 0.70599715+0.j, -0.70696722+0.j, -0.70654553+0.j, ...,\n",
        "          0.70672358+0.j,  0.70680050+0.j, -0.49972352+0.j],\n",
        "        ..., \n",
        "        [-0.70703199+0.j, -0.70715118+0.j,  0.70731064+0.j, ...,\n",
        "          0.70702859+0.j, -0.70710702+0.j, -0.49993613+0.j],\n",
        "        [-0.70698586+0.j, -0.70710616+0.j,  0.70726754+0.j, ...,\n",
        "         -0.70718754+0.j,  0.70711024+0.j,  0.50006661+0.j],\n",
        "        [-1.41409411+0.j, -1.41411872+0.j,  1.41437593+0.j, ...,\n",
        "          1.41403877+0.j, -1.41421192+0.j, -0.99986708+0.j]]))"
       ]
      }
     ],
     "prompt_number": 18
    },
    {
     "cell_type": "code",
     "collapsed": false,
     "input": [
      "ktica.save('4b-ktica.h5')"
     ],
     "language": "python",
     "metadata": {},
     "outputs": [],
     "prompt_number": 19
    },
    {
     "cell_type": "code",
     "collapsed": false,
     "input": [
      "np.abs(ktica.vals.imag).max()"
     ],
     "language": "python",
     "metadata": {},
     "outputs": [
      {
       "metadata": {},
       "output_type": "pyout",
       "prompt_number": 22,
       "text": [
        "0.00082641890025109003"
       ]
      }
     ],
     "prompt_number": 22
    },
    {
     "cell_type": "code",
     "collapsed": false,
     "input": [
      "len(ktica.vals)"
     ],
     "language": "python",
     "metadata": {},
     "outputs": [
      {
       "metadata": {},
       "output_type": "pyout",
       "prompt_number": 23,
       "text": [
        "14772"
       ]
      }
     ],
     "prompt_number": 23
    },
    {
     "cell_type": "code",
     "collapsed": false,
     "input": [
      "len(seq[::100])"
     ],
     "language": "python",
     "metadata": {},
     "outputs": [
      {
       "metadata": {},
       "output_type": "pyout",
       "prompt_number": 24,
       "text": [
        "739"
       ]
      }
     ],
     "prompt_number": 24
    },
    {
     "cell_type": "code",
     "collapsed": false,
     "input": [
      "tseq100 = ktica.project(seq[::100], [0, 1])"
     ],
     "language": "python",
     "metadata": {},
     "outputs": []
    },
    {
     "cell_type": "code",
     "collapsed": false,
     "input": [],
     "language": "python",
     "metadata": {},
     "outputs": []
    }
   ],
   "metadata": {}
  }
 ]
}