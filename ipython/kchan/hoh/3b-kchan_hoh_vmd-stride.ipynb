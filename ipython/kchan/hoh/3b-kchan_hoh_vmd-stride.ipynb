{
 "metadata": {
  "name": "",
  "signature": "sha256:be26021c677c2cc94affac0c8be51fa08c26408ccad79cf0453d1e00c7461997"
 },
 "nbformat": 3,
 "nbformat_minor": 0,
 "worksheets": [
  {
   "cells": [
    {
     "cell_type": "code",
     "collapsed": false,
     "input": [
      "%matplotlib inline"
     ],
     "language": "python",
     "metadata": {},
     "outputs": [],
     "prompt_number": 1
    },
    {
     "cell_type": "code",
     "collapsed": false,
     "input": [
      "import pickle\n",
      "import tables"
     ],
     "language": "python",
     "metadata": {},
     "outputs": [],
     "prompt_number": 2
    },
    {
     "cell_type": "code",
     "collapsed": false,
     "input": [
      "cd ~/implement/wetmsm/kchan/hoh/"
     ],
     "language": "python",
     "metadata": {},
     "outputs": [
      {
       "output_type": "stream",
       "stream": "stdout",
       "text": [
        "/home/harrigan/implement/wetmsm/kchan/hoh\n"
       ]
      }
     ],
     "prompt_number": 3
    },
    {
     "cell_type": "code",
     "collapsed": false,
     "input": [
      "with open('2b-ticax.pickl', 'rb') as f:\n",
      "    tseqs = pickle.load(f)\n",
      "with open('2a-tica.pickl', 'rb') as f:\n",
      "    tica = pickle.load(f)\n",
      "with open('1e-deleted.pickl', 'rb') as f:\n",
      "    deleted = pickle.load(f)"
     ],
     "language": "python",
     "metadata": {},
     "outputs": [],
     "prompt_number": 17
    },
    {
     "cell_type": "code",
     "collapsed": false,
     "input": [
      "with open('1a-fns.pickl', 'rb') as f:\n",
      "    fns = pickle.load(f)\n",
      "with open('1c-argsort.pickl', 'rb') as f:\n",
      "    arsr = pickle.load(f)\n",
      "    \n",
      "# Sort filenames\n",
      "fns = np.array(fns)[arsr]\n",
      "fns = [fn.replace('count', 'assign') for fn in fns]"
     ],
     "language": "python",
     "metadata": {},
     "outputs": [],
     "prompt_number": 19
    },
    {
     "cell_type": "code",
     "collapsed": false,
     "input": [
      "fns"
     ],
     "language": "python",
     "metadata": {},
     "outputs": [
      {
       "metadata": {},
       "output_type": "pyout",
       "prompt_number": 20,
       "text": [
        "['trajs/frames_centered-0.dcd.hoh.assign.h5',\n",
        " 'trajs/frames_centered-4000.dcd.hoh.assign.h5',\n",
        " 'trajs/frames_centered-8000.dcd.hoh.assign.h5',\n",
        " 'trajs/frames_centered-12000.dcd.hoh.assign.h5',\n",
        " 'trajs/frames_centered-16000.dcd.hoh.assign.h5',\n",
        " 'trajs/frames_centered-20000.dcd.hoh.assign.h5',\n",
        " 'trajs/frames_centered-24000.dcd.hoh.assign.h5',\n",
        " 'trajs/frames_centered-28000.dcd.hoh.assign.h5',\n",
        " 'trajs/frames_centered-32000.dcd.hoh.assign.h5',\n",
        " 'trajs/frames_centered-36000.dcd.hoh.assign.h5',\n",
        " 'trajs/frames_centered-40000.dcd.hoh.assign.h5',\n",
        " 'trajs/frames_centered-44000.dcd.hoh.assign.h5',\n",
        " 'trajs/frames_centered-48000.dcd.hoh.assign.h5',\n",
        " 'trajs/frames_centered-52000.dcd.hoh.assign.h5',\n",
        " 'trajs/frames_centered-56000.dcd.hoh.assign.h5',\n",
        " 'trajs/frames_centered-60000.dcd.hoh.assign.h5',\n",
        " 'trajs/frames_centered-64000.dcd.hoh.assign.h5',\n",
        " 'trajs/frames_centered-68000.dcd.hoh.assign.h5',\n",
        " 'trajs/frames_centered-72000.dcd.hoh.assign.h5']"
       ]
      }
     ],
     "prompt_number": 20
    },
    {
     "cell_type": "code",
     "collapsed": false,
     "input": [
      "txy = np.concatenate(tseqs)"
     ],
     "language": "python",
     "metadata": {},
     "outputs": [],
     "prompt_number": 21
    },
    {
     "cell_type": "markdown",
     "metadata": {},
     "source": [
      "# VMD"
     ]
    },
    {
     "cell_type": "code",
     "collapsed": false,
     "input": [
      "from wetmsm.vmd_write import VMDWriter, VMDSCRIPT\n",
      "from os.path import join as pjoin"
     ],
     "language": "python",
     "metadata": {},
     "outputs": [],
     "prompt_number": 22
    },
    {
     "cell_type": "markdown",
     "metadata": {},
     "source": [
      "### Load Assignments File"
     ]
    },
    {
     "cell_type": "code",
     "collapsed": false,
     "input": [
      "biox_prefix = '/home/harrigan/biox/implement/water/kchan/'\n",
      "\n",
      "# Make a new tables\n",
      "filters = tables.Filters(complevel=5, complib='zlib')\n",
      "tot_assn_h = tables.open_file('vis/tot_assn.h5', 'w')\n",
      "tot_assn_ea = tot_assn_h.create_earray(tot_assn_h.root, 'assigments',\n",
      "                                       atom=tables.UIntAtom(), shape=(0,4),\n",
      "                                       filters=filters)\n",
      "\n",
      "chunksize = 1000000\n",
      "\n",
      "for fn in fns:\n",
      "    assn_fn = pjoin(biox_prefix, 'trajs/frames_centered-0.dcd.hoh.assign.h5')\n",
      "    assn_f = tables.open_file(assn_fn)\n",
      "    assn = assn_f.root.assignments\n",
      "    \n",
      "    n_chunks = assn.shape[0] // chunksize + 1\n",
      "    \n",
      "    for chunk_i in range(n_chunks):    \n",
      "        tot_assn_ea.append(assn.read(chunksize * chunk_i, chunksize * (chunk_i + 1)))\n",
      "        \n",
      "tot_assn_h.close()"
     ],
     "language": "python",
     "metadata": {},
     "outputs": [],
     "prompt_number": 32
    },
    {
     "cell_type": "markdown",
     "metadata": {},
     "source": [
      "### Load Indices"
     ]
    },
    {
     "cell_type": "code",
     "collapsed": false,
     "input": [
      "ca_inds = np.loadtxt(pjoin(biox_prefix, 'atomindices',  'ca_inds.dat'), dtype=int)\n",
      "pop_inds = np.loadtxt(pjoin(biox_prefix, 'atomindices', 'hoh_o_inds.dat'), dtype=int)\n",
      "print(ca_inds.shape, pop_inds.shape)"
     ],
     "language": "python",
     "metadata": {},
     "outputs": [
      {
       "output_type": "stream",
       "stream": "stdout",
       "text": [
        "(404,) (8854,)\n"
       ]
      }
     ],
     "prompt_number": 33
    },
    {
     "cell_type": "markdown",
     "metadata": {},
     "source": [
      "### Load topology"
     ]
    },
    {
     "cell_type": "code",
     "collapsed": false,
     "input": [
      "import mdtraj as md\n",
      "top = md.load('vis/struct.pdb')\n",
      "print(top)"
     ],
     "language": "python",
     "metadata": {},
     "outputs": [
      {
       "output_type": "stream",
       "stream": "stdout",
       "text": [
        "<mdtraj.Trajectory with 1 frames, 45898 atoms, 9683 residues, and unitcells>\n"
       ]
      }
     ],
     "prompt_number": 34
    },
    {
     "cell_type": "markdown",
     "metadata": {},
     "source": [
      "### Visualize loadings"
     ]
    },
    {
     "cell_type": "code",
     "collapsed": false,
     "input": [
      "# Manually input number of frames\n",
      "n_frames = txy.shape[0]\n",
      "n_frames"
     ],
     "language": "python",
     "metadata": {},
     "outputs": [
      {
       "metadata": {},
       "output_type": "pyout",
       "prompt_number": 35,
       "text": [
        "73763"
       ]
      }
     ],
     "prompt_number": 35
    },
    {
     "cell_type": "code",
     "collapsed": false,
     "input": [
      "tic1 = tica.components_[0]\n",
      "xx = np.arange(len(tic1))\n",
      "\n",
      "plt.subplots(2,2, figsize=(10,6))\n",
      "xlim1 = (0, len(tic1))\n",
      "\n",
      "\n",
      "plt.subplot(2,2,1)\n",
      "plt.scatter(xx,tic1, linewidth=0, s=30, edgecolor='none')\n",
      "plt.xlabel('Feature')\n",
      "plt.title('tIC 2 Components')\n",
      "plt.xlim(xlim1)\n",
      "\n",
      "plt.subplot(2,2,2)\n",
      "tic1s = tic1 ** 2\n",
      "tic1s /= np.max(tic1s)\n",
      "plt.scatter(xx, tic1s, linewidth=0, s=30, c='r', edgecolor='none')\n",
      "plt.xlabel('Feature')\n",
      "plt.title('tIC 2 Component Intensities')\n",
      "plt.xlim(xlim1)\n",
      "\n",
      "plt.subplot(2,2,3)\n",
      "loading1 = np.copy(tic1s)\n",
      "loading1[tic1s < 0.1] = 0.0\n",
      "plt.scatter(xx, loading1, linewidth=0, s=30, c='purple', edgecolor='none')\n",
      "plt.xlabel('Feature')\n",
      "plt.title('tIC 2 Clipped Intensities')\n",
      "plt.xlim(xlim1)\n",
      "\n",
      "plt.subplot(2,2,4)\n",
      "xlim2 = (0, loading2d.shape[0])\n",
      "utebins, shbins = np.meshgrid(np.arange(loading2d.shape[0]), np.arange(loading2d.shape[1]))\n",
      "plt.scatter(utebins, shbins, edgecolor='none',\n",
      "            s=300*loading2d, c=-loading2d, cmap=plt.get_cmap('RdBu'))\n",
      "plt.ylabel('Shell')\n",
      "plt.xlabel('Residue')\n",
      "plt.title('Loadings by shell')\n",
      "plt.xlim(xlim2)\n",
      "\n",
      "plt.tight_layout()\n",
      "#plt.savefig('figs-3-vmd/loading2.pdf')\n",
      "    "
     ],
     "language": "python",
     "metadata": {},
     "outputs": [
      {
       "metadata": {},
       "output_type": "display_data",
       "png": "[encoded data removed]",
       "text": [
        "<matplotlib.figure.Figure at 0x7fba402456a0>"
       ]
      }
     ],
     "prompt_number": 39
    },
    {
     "cell_type": "markdown",
     "metadata": {},
     "source": [
      "### Make object and compute"
     ]
    },
    {
     "cell_type": "code",
     "collapsed": false,
     "input": [
      "vmd = VMDWriter(assn=tot_assn_ea, solvent_ind=pop_inds, n_frames=n_frames, n_atoms=top.n_atoms,\n",
      "                n_solute=len(ca_inds), n_shells=5)"
     ],
     "language": "python",
     "metadata": {},
     "outputs": [],
     "prompt_number": 37
    },
    {
     "cell_type": "code",
     "collapsed": false,
     "input": [
      "loading2d = vmd.translate_loading(loading1, deleted)"
     ],
     "language": "python",
     "metadata": {},
     "outputs": [],
     "prompt_number": 38
    },
    {
     "cell_type": "code",
     "collapsed": false,
     "input": [
      "user = vmd.compute(loading1, deleted)"
     ],
     "language": "python",
     "metadata": {},
     "outputs": [
      {
       "ename": "MemoryError",
       "evalue": "",
       "output_type": "pyerr",
       "traceback": [
        "\u001b[1;31m---------------------------------------------------------------------------\u001b[0m\n\u001b[1;31mMemoryError\u001b[0m                               Traceback (most recent call last)",
        "\u001b[1;32m<ipython-input-40-2c43b6d56ee1>\u001b[0m in \u001b[0;36m<module>\u001b[1;34m()\u001b[0m\n\u001b[1;32m----> 1\u001b[1;33m \u001b[0muser\u001b[0m \u001b[1;33m=\u001b[0m \u001b[0mvmd\u001b[0m\u001b[1;33m.\u001b[0m\u001b[0mcompute\u001b[0m\u001b[1;33m(\u001b[0m\u001b[0mloading1\u001b[0m\u001b[1;33m,\u001b[0m \u001b[0mdeleted\u001b[0m\u001b[1;33m)\u001b[0m\u001b[1;33m\u001b[0m\u001b[0m\n\u001b[0m",
        "\u001b[1;32m/home/harrigan/opt/miniconda3/lib/python3.4/site-packages/wetmsm/vmd_write.py\u001b[0m in \u001b[0;36mcompute\u001b[1;34m(self, loading, deleted)\u001b[0m\n\u001b[0;32m    148\u001b[0m         user = _compute(self.assn, self.translate_loading(loading, deleted),\n\u001b[0;32m    149\u001b[0m                         \u001b[0mself\u001b[0m\u001b[1;33m.\u001b[0m\u001b[0mn_frames\u001b[0m\u001b[1;33m,\u001b[0m \u001b[0mself\u001b[0m\u001b[1;33m.\u001b[0m\u001b[0mn_atoms\u001b[0m\u001b[1;33m,\u001b[0m \u001b[0mself\u001b[0m\u001b[1;33m.\u001b[0m\u001b[0msolvent_ind\u001b[0m\u001b[1;33m,\u001b[0m\u001b[1;33m\u001b[0m\u001b[0m\n\u001b[1;32m--> 150\u001b[1;33m                         which=self.which)\n\u001b[0m\u001b[0;32m    151\u001b[0m \u001b[1;33m\u001b[0m\u001b[0m\n\u001b[0;32m    152\u001b[0m         \u001b[1;32mreturn\u001b[0m \u001b[0muser\u001b[0m\u001b[1;33m\u001b[0m\u001b[0m\n",
        "\u001b[1;32m/home/harrigan/opt/miniconda3/lib/python3.4/site-packages/wetmsm/vmd_write.py\u001b[0m in \u001b[0;36m_compute\u001b[1;34m(assn, loading2d, n_frames, n_atoms, solvent_ind, chunksize, which)\u001b[0m\n\u001b[0;32m     86\u001b[0m \u001b[1;33m\u001b[0m\u001b[0m\n\u001b[0;32m     87\u001b[0m     \u001b[1;31m# Initialize\u001b[0m\u001b[1;33m\u001b[0m\u001b[1;33m\u001b[0m\u001b[0m\n\u001b[1;32m---> 88\u001b[1;33m     \u001b[0muser\u001b[0m \u001b[1;33m=\u001b[0m \u001b[0mnp\u001b[0m\u001b[1;33m.\u001b[0m\u001b[0mzeros\u001b[0m\u001b[1;33m(\u001b[0m\u001b[1;33m(\u001b[0m\u001b[0mn_frames\u001b[0m\u001b[1;33m,\u001b[0m \u001b[0mn_atoms\u001b[0m\u001b[1;33m)\u001b[0m\u001b[1;33m)\u001b[0m\u001b[1;33m\u001b[0m\u001b[0m\n\u001b[0m\u001b[0;32m     89\u001b[0m \u001b[1;33m\u001b[0m\u001b[0m\n\u001b[0;32m     90\u001b[0m     func_map = {'add': _compute_chunk_add, 'max': _compute_chunk_max,\n",
        "\u001b[1;31mMemoryError\u001b[0m: "
       ]
      }
     ],
     "prompt_number": 40
    },
    {
     "cell_type": "markdown",
     "metadata": {},
     "source": [
      "### Save"
     ]
    },
    {
     "cell_type": "code",
     "collapsed": false,
     "input": [
      "np.savetxt('vis/0.tic2.hoh.dat', user, fmt='%.5f')"
     ],
     "language": "python",
     "metadata": {},
     "outputs": [],
     "prompt_number": 19
    },
    {
     "cell_type": "markdown",
     "metadata": {},
     "source": [
      "### Generate script"
     ]
    },
    {
     "cell_type": "code",
     "collapsed": false,
     "input": [
      "with open('vis/0.tic2.hoh.tcl', 'w') as f:\n",
      "    f.write(VMDSCRIPT.format(top_fn='struct.pdb', traj_fn='frames_centered-0.dcd', step=1, dat_fn='0.tic2.hoh.dat'))"
     ],
     "language": "python",
     "metadata": {},
     "outputs": [],
     "prompt_number": 20
    },
    {
     "cell_type": "code",
     "collapsed": false,
     "input": [],
     "language": "python",
     "metadata": {},
     "outputs": []
    }
   ],
   "metadata": {}
  }
 ]
}