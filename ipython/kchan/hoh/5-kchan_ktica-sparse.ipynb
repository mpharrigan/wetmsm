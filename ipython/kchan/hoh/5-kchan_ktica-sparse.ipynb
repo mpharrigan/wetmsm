{
 "metadata": {
  "name": "",
  "signature": "sha256:ff1de3d726ff544e4848620b506faf8258e2a8cb7948ed49333e75385935a72c"
 },
 "nbformat": 3,
 "nbformat_minor": 0,
 "worksheets": [
  {
   "cells": [
    {
     "cell_type": "code",
     "collapsed": false,
     "input": [
      "%matplotlib inline"
     ],
     "language": "python",
     "metadata": {},
     "outputs": [],
     "prompt_number": 1
    },
    {
     "cell_type": "code",
     "collapsed": false,
     "input": [
      "import pickle\n",
      "import scipy.sparse\n",
      "import scipy.sparse.linalg"
     ],
     "language": "python",
     "metadata": {},
     "outputs": [],
     "prompt_number": 2
    },
    {
     "cell_type": "code",
     "collapsed": false,
     "input": [
      "cd ~/implement/wetmsm/kchan/hoh/"
     ],
     "language": "python",
     "metadata": {},
     "outputs": [
      {
       "output_type": "stream",
       "stream": "stdout",
       "text": [
        "/home/harrigan/implement/wetmsm/kchan/hoh\n"
       ]
      }
     ],
     "prompt_number": 3
    },
    {
     "cell_type": "code",
     "collapsed": false,
     "input": [
      "from matplotlib.backends.backend_pdf import PdfPages\n",
      "pp = PdfPages('plot-4-ktica.pdf')"
     ],
     "language": "python",
     "metadata": {},
     "outputs": [],
     "prompt_number": 4
    },
    {
     "cell_type": "markdown",
     "metadata": {},
     "source": [
      "## Load sequences"
     ]
    },
    {
     "cell_type": "code",
     "collapsed": false,
     "input": [
      "with open('4a-kmat.pickl', 'rb') as f:\n",
      "    kmat = pickle.load(f)"
     ],
     "language": "python",
     "metadata": {},
     "outputs": [],
     "prompt_number": 4
    },
    {
     "cell_type": "code",
     "collapsed": false,
     "input": [
      "print(kmat.shape)"
     ],
     "language": "python",
     "metadata": {},
     "outputs": [
      {
       "output_type": "stream",
       "stream": "stdout",
       "text": [
        "(14772, 14772)\n"
       ]
      }
     ],
     "prompt_number": 5
    },
    {
     "cell_type": "markdown",
     "metadata": {},
     "source": [
      "## Solve by hand"
     ]
    },
    {
     "cell_type": "code",
     "collapsed": false,
     "input": [
      "class Dummy():\n",
      "    \n",
      "    def prep_solve(self, reg):\n",
      "        \n",
      "        n2 = self.K.shape[0]\n",
      "        assert n2 % 2 == 0\n",
      "        n = n2 // 2\n",
      "        \n",
      "        rot_mat = np.zeros((n2, n2))\n",
      "        rot_mat[:n, n:] = np.identity(n)\n",
      "        rot_mat[n:, :n] = np.identity(n)\n",
      "        \n",
      "        self.K = scipy.sparse.csr_matrix(self.K)\n",
      "        rot_mat = scipy.sparse.csr_matrix(rot_mat)\n",
      "        \n",
      "        lhs = self.K.dot(rot_mat).dot(self.K)\n",
      "        rhs = self.K.dot(self.K) + np.identity(n2) * reg\n",
      "        \n",
      "        slhs = scipy.sparse.csr_matrix(lhs)\n",
      "        srhs = scipy.sparse.csr_matrix(rhs)        \n",
      "        \n",
      "        return slhs, srhs\n",
      "    \n",
      "    def solve_sparse(self, slhs, srhs):        \n",
      "        self.vals, self.vecs = scipy.sparse.linalg.eigs(A=slhs, M=srhs, k=2)\n",
      "        "
     ],
     "language": "python",
     "metadata": {},
     "outputs": [],
     "prompt_number": 6
    },
    {
     "cell_type": "code",
     "collapsed": false,
     "input": [
      "dummy = Dummy()\n",
      "dummy.K = kmat\n",
      "slhs, srhs = dummy.prep_solve(1.0)"
     ],
     "language": "python",
     "metadata": {},
     "outputs": []
    },
    {
     "cell_type": "markdown",
     "metadata": {},
     "source": [
      "# ktICA"
     ]
    },
    {
     "cell_type": "code",
     "collapsed": false,
     "input": [
      "from klearn import ktICA\n",
      "from klearn.kernels import Gaussian\n",
      "from klearn.msmbmetrics import Euclidean"
     ],
     "language": "python",
     "metadata": {},
     "outputs": [],
     "prompt_number": 8
    },
    {
     "cell_type": "code",
     "collapsed": false,
     "input": [
      "metric = Euclidean()\n",
      "gaussian_kernel = Gaussian(metric)"
     ],
     "language": "python",
     "metadata": {},
     "outputs": [],
     "prompt_number": 9
    },
    {
     "cell_type": "code",
     "collapsed": false,
     "input": [
      "ktica = ktICA(gaussian_kernel, dt=1)"
     ],
     "language": "python",
     "metadata": {},
     "outputs": [],
     "prompt_number": 12
    },
    {
     "cell_type": "code",
     "collapsed": false,
     "input": [
      "ktica.add_training_data(seq[::10])"
     ],
     "language": "python",
     "metadata": {},
     "outputs": [],
     "prompt_number": 13
    },
    {
     "cell_type": "code",
     "collapsed": false,
     "input": [
      "print('{:.2f} MB'.format(len(seq[::10]) * 2)**2 * 32 / (8*1024*1024), "
     ],
     "language": "python",
     "metadata": {},
     "outputs": [
      {
       "output_type": "stream",
       "stream": "stdout",
       "text": [
        "832.6380767822266 MB\n"
       ]
      }
     ],
     "prompt_number": 15
    },
    {
     "cell_type": "code",
     "collapsed": false,
     "input": [
      "ktica.calculate_matrices()"
     ],
     "language": "python",
     "metadata": {},
     "outputs": [],
     "prompt_number": 16
    },
    {
     "cell_type": "code",
     "collapsed": false,
     "input": [
      "with open('4a-kmat.pickl', 'wb') as f:\n",
      "    pickle.dump(ktica.K, f)"
     ],
     "language": "python",
     "metadata": {},
     "outputs": [],
     "prompt_number": 17
    },
    {
     "cell_type": "code",
     "collapsed": false,
     "input": [],
     "language": "python",
     "metadata": {},
     "outputs": []
    }
   ],
   "metadata": {}
  }
 ]
}