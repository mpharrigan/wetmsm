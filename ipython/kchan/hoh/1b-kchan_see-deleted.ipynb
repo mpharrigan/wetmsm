{
 "metadata": {
  "name": "",
  "signature": "sha256:cfad4c5073c0feebede1e825577dfedd6cac3f6681288f93e220d5f3e99ac837"
 },
 "nbformat": 3,
 "nbformat_minor": 0,
 "worksheets": [
  {
   "cells": [
    {
     "cell_type": "code",
     "collapsed": false,
     "input": [
      "%matplotlib inline"
     ],
     "language": "python",
     "metadata": {},
     "outputs": [],
     "prompt_number": 1
    },
    {
     "cell_type": "code",
     "collapsed": false,
     "input": [
      "cd ~/implement/wetmsm/kchan/hoh"
     ],
     "language": "python",
     "metadata": {},
     "outputs": [
      {
       "output_type": "stream",
       "stream": "stdout",
       "text": [
        "/home/harrigan/implement/wetmsm/kchan/hoh\n"
       ]
      }
     ],
     "prompt_number": 3
    },
    {
     "cell_type": "code",
     "collapsed": false,
     "input": [
      "import pickle"
     ],
     "language": "python",
     "metadata": {},
     "outputs": [],
     "prompt_number": 4
    },
    {
     "cell_type": "code",
     "collapsed": false,
     "input": [
      "with open('1f-sa.pickl', 'rb') as f:\n",
      "    sa = pickle.load(f)"
     ],
     "language": "python",
     "metadata": {},
     "outputs": [],
     "prompt_number": 5
    },
    {
     "cell_type": "code",
     "collapsed": false,
     "input": [
      "sa.deleted"
     ],
     "language": "python",
     "metadata": {},
     "outputs": [
      {
       "metadata": {},
       "output_type": "pyout",
       "prompt_number": 6,
       "text": [
        "array([  10,   15,   20,   25,   30,   35,   40,   45,   50,   55,   60,\n",
        "         65,   70,   75,   80,   85,   90,   95,  100,  105,  120,  125,\n",
        "        170,  175,  180,  185,  205,  210,  215,  220,  225,  230,  235,\n",
        "        240,  245,  250,  255,  260,  265,  270,  275,  280,  285,  290,\n",
        "        295,  300,  345,  350,  355,  360,  365,  370,  375,  380,  385,\n",
        "        390,  395,  400,  405,  410,  415,  420,  425,  430,  435,  440,\n",
        "        445,  450,  455,  460,  465,  470,  475,  480,  485,  490,  495,\n",
        "        530,  535,  545,  550,  555,  560,  565,  570,  575,  580,  585,\n",
        "        590,  595,  600,  605,  610,  615,  620,  625,  630,  635,  640,\n",
        "        645,  650,  655,  660,  665,  670,  675,  680,  685,  690,  710,\n",
        "        715,  720,  725,  730,  735,  740,  745,  750,  755,  760,  765,\n",
        "        770,  775,  780,  785,  790,  795,  800,  805,  810,  815,  825,\n",
        "        830,  835,  840,  845,  850,  855,  860,  865,  870,  875,  880,\n",
        "        885,  890,  895,  900,  905,  910,  915,  920,  925,  930,  935,\n",
        "        940,  945,  950,  955,  960,  965,  970,  975,  980,  985,  990,\n",
        "        995, 1075, 1085, 1090, 1095, 1110, 1130, 1145, 1150, 1165, 1170,\n",
        "       1175, 1180, 1185, 1190, 1230, 1235, 1240, 1245, 1250, 1255, 1260,\n",
        "       1265, 1270, 1275, 1280, 1285, 1290, 1295, 1300, 1305, 1310, 1315,\n",
        "       1320, 1325, 1330, 1335, 1340, 1345, 1350, 1355, 1360, 1365, 1370,\n",
        "       1375, 1380, 1385, 1390, 1395, 1400, 1405, 1410, 1415, 1420, 1425,\n",
        "       1430, 1435, 1440, 1445, 1450, 1455, 1460, 1465, 1470, 1475, 1480,\n",
        "       1490, 1495, 1595, 1615, 1635, 1650, 1655, 1680, 1685, 1690, 1740,\n",
        "       1745, 1750, 1755, 1760, 1765, 1770, 1775, 1780, 1785, 1790, 1795,\n",
        "       1800, 1805, 1810, 1815, 1820, 1840, 1845, 1855, 1860, 1865, 1870,\n",
        "       1875, 1880, 1885, 1890, 1895, 1900, 1905, 1910, 1915, 1920, 1925,\n",
        "       1930, 1935, 1940, 1950, 1955, 1960, 1965, 1970, 1975, 1980, 1985,\n",
        "       1990, 1995, 2000, 2005, 2010])"
       ]
      }
     ],
     "prompt_number": 6
    },
    {
     "cell_type": "code",
     "collapsed": false,
     "input": [
      "dfeat = sa.seqs2d_unpruned[0][:, sa.deleted]\n",
      "dfeat"
     ],
     "language": "python",
     "metadata": {},
     "outputs": [
      {
       "metadata": {},
       "output_type": "pyout",
       "prompt_number": 14,
       "text": [
        "array([[ 0.,  0.,  0., ...,  0.,  0.,  0.],\n",
        "       [ 0.,  0.,  0., ...,  0.,  0.,  0.],\n",
        "       [ 0.,  0.,  0., ...,  0.,  0.,  0.],\n",
        "       ..., \n",
        "       [ 0.,  0.,  0., ...,  0.,  0.,  0.],\n",
        "       [ 0.,  0.,  0., ...,  0.,  0.,  0.],\n",
        "       [ 0.,  0.,  0., ...,  0.,  0.,  0.]])"
       ]
      }
     ],
     "prompt_number": 14
    },
    {
     "cell_type": "code",
     "collapsed": false,
     "input": [
      "np.sum(dfeat)"
     ],
     "language": "python",
     "metadata": {},
     "outputs": [
      {
       "metadata": {},
       "output_type": "pyout",
       "prompt_number": 15,
       "text": [
        "0.0"
       ]
      }
     ],
     "prompt_number": 15
    },
    {
     "cell_type": "code",
     "collapsed": false,
     "input": [],
     "language": "python",
     "metadata": {},
     "outputs": []
    }
   ],
   "metadata": {}
  }
 ]
}