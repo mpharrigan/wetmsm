{
 "metadata": {
  "name": "",
  "signature": "sha256:5a125167f4a8bff19396232901b3c695600a30900cb254427a9849843371180b"
 },
 "nbformat": 3,
 "nbformat_minor": 0,
 "worksheets": [
  {
   "cells": [
    {
     "cell_type": "code",
     "collapsed": false,
     "input": [
      "%matplotlib inline"
     ],
     "language": "python",
     "metadata": {},
     "outputs": [],
     "prompt_number": 1
    },
    {
     "cell_type": "code",
     "collapsed": false,
     "input": [
      "cd ~/biox/implement/water/kchan"
     ],
     "language": "python",
     "metadata": {},
     "outputs": [
      {
       "output_type": "stream",
       "stream": "stdout",
       "text": [
        "/home/harrigan/mnt/biox/biox3/home/harrigan/implement/water/kchan\n"
       ]
      }
     ],
     "prompt_number": 2
    },
    {
     "cell_type": "markdown",
     "metadata": {},
     "source": [
      "## Load in fingerprint"
     ]
    },
    {
     "cell_type": "code",
     "collapsed": false,
     "input": [
      "import tables\n",
      "import glob"
     ],
     "language": "python",
     "metadata": {},
     "outputs": [],
     "prompt_number": 3
    },
    {
     "cell_type": "code",
     "collapsed": false,
     "input": [
      "seqs = []\n",
      "fns = []\n",
      "for fn in glob.glob('trajs/frames_centered-*.dcd.hoh.count.h5'):\n",
      "    counts_f = tables.open_file(fn)\n",
      "    seq = counts_f.root.shell_counts\n",
      "    print(fn, seq.shape)\n",
      "    \n",
      "    fns.append(fn)\n",
      "    seqs.append(seq)"
     ],
     "language": "python",
     "metadata": {},
     "outputs": [
      {
       "output_type": "stream",
       "stream": "stdout",
       "text": [
        "trajs/frames_centered-20000.dcd.hoh.count.h5 (4000, 404, 5)\n",
        "trajs/frames_centered-48000.dcd.hoh.count.h5"
       ]
      },
      {
       "output_type": "stream",
       "stream": "stdout",
       "text": [
        " (4000, 404, 5)\n",
        "trajs/frames_centered-68000.dcd.hoh.count.h5"
       ]
      },
      {
       "output_type": "stream",
       "stream": "stdout",
       "text": [
        " (4000, 404, 5)\n",
        "trajs/frames_centered-4000.dcd.hoh.count.h5"
       ]
      },
      {
       "output_type": "stream",
       "stream": "stdout",
       "text": [
        " (4000, 404, 5)\n",
        "trajs/frames_centered-12000.dcd.hoh.count.h5"
       ]
      },
      {
       "output_type": "stream",
       "stream": "stdout",
       "text": [
        " (4000, 404, 5)\n",
        "trajs/frames_centered-8000.dcd.hoh.count.h5"
       ]
      },
      {
       "output_type": "stream",
       "stream": "stdout",
       "text": [
        " (4000, 404, 5)\n",
        "trajs/frames_centered-64000.dcd.hoh.count.h5"
       ]
      },
      {
       "output_type": "stream",
       "stream": "stdout",
       "text": [
        " (4000, 404, 5)\n",
        "trajs/frames_centered-32000.dcd.hoh.count.h5"
       ]
      },
      {
       "output_type": "stream",
       "stream": "stdout",
       "text": [
        " (4000, 404, 5)\n",
        "trajs/frames_centered-72000.dcd.hoh.count.h5"
       ]
      },
      {
       "output_type": "stream",
       "stream": "stdout",
       "text": [
        " (1863, 404, 5)\n",
        "trajs/frames_centered-36000.dcd.hoh.count.h5"
       ]
      },
      {
       "output_type": "stream",
       "stream": "stdout",
       "text": [
        " (4000, 404, 5)\n",
        "trajs/frames_centered-44000.dcd.hoh.count.h5"
       ]
      },
      {
       "output_type": "stream",
       "stream": "stdout",
       "text": [
        " (4000, 404, 5)\n",
        "trajs/frames_centered-16000.dcd.hoh.count.h5"
       ]
      },
      {
       "output_type": "stream",
       "stream": "stdout",
       "text": [
        " (4000, 404, 5)\n",
        "trajs/frames_centered-28000.dcd.hoh.count.h5"
       ]
      },
      {
       "output_type": "stream",
       "stream": "stdout",
       "text": [
        " (4000, 404, 5)\n",
        "trajs/frames_centered-60000.dcd.hoh.count.h5"
       ]
      },
      {
       "output_type": "stream",
       "stream": "stdout",
       "text": [
        " (4000, 404, 5)\n",
        "trajs/frames_centered-56000.dcd.hoh.count.h5"
       ]
      },
      {
       "output_type": "stream",
       "stream": "stdout",
       "text": [
        " (4000, 404, 5)\n",
        "trajs/frames_centered-24000.dcd.hoh.count.h5"
       ]
      },
      {
       "output_type": "stream",
       "stream": "stdout",
       "text": [
        " (4000, 404, 5)\n",
        "trajs/frames_centered-0.dcd.hoh.count.h5"
       ]
      },
      {
       "output_type": "stream",
       "stream": "stdout",
       "text": [
        " (4000, 404, 5)\n",
        "trajs/frames_centered-40000.dcd.hoh.count.h5"
       ]
      },
      {
       "output_type": "stream",
       "stream": "stdout",
       "text": [
        " (4000, 404, 5)\n",
        "trajs/frames_centered-52000.dcd.hoh.count.h5"
       ]
      },
      {
       "output_type": "stream",
       "stream": "stdout",
       "text": [
        " (4000, 404, 5)\n"
       ]
      }
     ],
     "prompt_number": 4
    },
    {
     "cell_type": "markdown",
     "metadata": {},
     "source": [
      "## Sort"
     ]
    },
    {
     "cell_type": "code",
     "collapsed": false,
     "input": [
      "import re"
     ],
     "language": "python",
     "metadata": {},
     "outputs": [],
     "prompt_number": 5
    },
    {
     "cell_type": "code",
     "collapsed": false,
     "input": [
      "def kk(fn):\n",
      "    return int(re.match(r'.*frames_centered-([0-9]+)\\.dcd.*', fn).group(1))"
     ],
     "language": "python",
     "metadata": {},
     "outputs": [],
     "prompt_number": 15
    },
    {
     "cell_type": "code",
     "collapsed": false,
     "input": [
      "fnss = sorted(range(len(fns)), key=lambda i: kk(fns.__getitem__(i)))\n",
      "fnss"
     ],
     "language": "python",
     "metadata": {},
     "outputs": [
      {
       "metadata": {},
       "output_type": "pyout",
       "prompt_number": 22,
       "text": [
        "[16, 3, 5, 4, 11, 0, 15, 12, 7, 9, 17, 10, 1, 18, 14, 13, 6, 2, 8]"
       ]
      }
     ],
     "prompt_number": 22
    },
    {
     "cell_type": "code",
     "collapsed": false,
     "input": [
      "fnz = [fns[i] for i in fnss]\n",
      "seqz = [seqs[i] for i in fnss]"
     ],
     "language": "python",
     "metadata": {},
     "outputs": [],
     "prompt_number": 25
    },
    {
     "cell_type": "markdown",
     "metadata": {},
     "source": [
      "## Concatenate"
     ]
    },
    {
     "cell_type": "code",
     "collapsed": false,
     "input": [
      "cseqs = np.np.concatenatenate(seqz, axis=0)"
     ],
     "language": "python",
     "metadata": {},
     "outputs": [],
     "prompt_number": 28
    },
    {
     "cell_type": "code",
     "collapsed": false,
     "input": [
      "cseqs.shape"
     ],
     "language": "python",
     "metadata": {},
     "outputs": [
      {
       "metadata": {},
       "output_type": "pyout",
       "prompt_number": 29,
       "text": [
        "(73863, 404, 5)"
       ]
      }
     ],
     "prompt_number": 29
    },
    {
     "cell_type": "markdown",
     "metadata": {},
     "source": [
      "## Save Raw"
     ]
    },
    {
     "cell_type": "code",
     "collapsed": false,
     "input": [
      "cd ~/implement/wetmsm/kchan/hoh"
     ],
     "language": "python",
     "metadata": {},
     "outputs": [
      {
       "output_type": "stream",
       "stream": "stdout",
       "text": [
        "/home/harrigan/implement/wetmsm/kchan/hoh\n"
       ]
      }
     ],
     "prompt_number": 30
    },
    {
     "cell_type": "code",
     "collapsed": false,
     "input": [
      "import pickle\n",
      "def psave(obj, fn):\n",
      "    with open(fn, 'wb') as f:\n",
      "        pickle.dump(obj, f)"
     ],
     "language": "python",
     "metadata": {},
     "outputs": [],
     "prompt_number": 33
    },
    {
     "cell_type": "code",
     "collapsed": false,
     "input": [
      "psave(fns, '1a-fns.pickl')\n",
      "#psave(seqs, '1b-seqs.pickl')\n",
      "psave(fnss, '1c-argsort.pickl')\n",
      "psave(cseqs, '1d-concat_seqs.pickl')"
     ],
     "language": "python",
     "metadata": {},
     "outputs": [],
     "prompt_number": 36
    },
    {
     "cell_type": "markdown",
     "metadata": {},
     "source": [
      "# Remove zero-variance features, reshape"
     ]
    },
    {
     "cell_type": "code",
     "collapsed": false,
     "input": [
      "from wetmsm.analysis import SolventShellsAnalysis"
     ],
     "language": "python",
     "metadata": {},
     "outputs": [],
     "prompt_number": 37
    },
    {
     "cell_type": "code",
     "collapsed": false,
     "input": [
      "sa = SolventShellsAnalysis([cseqs], shell_w=0.2)"
     ],
     "language": "python",
     "metadata": {},
     "outputs": [],
     "prompt_number": 38
    },
    {
     "cell_type": "code",
     "collapsed": false,
     "input": [
      "plt.plot(sa.seqs2d[0][:,14], '.-')\n",
      "plt.plot(sa.seqs2d[0][:,9], '.-')"
     ],
     "language": "python",
     "metadata": {},
     "outputs": [
      {
       "metadata": {},
       "output_type": "pyout",
       "prompt_number": 40,
       "text": [
        "[<matplotlib.lines.Line2D at 0x7f3d9706e0b8>]"
       ]
      },
      {
       "metadata": {},
       "output_type": "display_data",
       "png": "[encoded data removed]",
       "text": [
        "<matplotlib.figure.Figure at 0x7f3d9706efd0>"
       ]
      }
     ],
     "prompt_number": 40
    },
    {
     "cell_type": "code",
     "collapsed": false,
     "input": [
      "psave(sa.deleted, '1e-deleted.pickl')"
     ],
     "language": "python",
     "metadata": {},
     "outputs": [],
     "prompt_number": 42
    },
    {
     "cell_type": "code",
     "collapsed": false,
     "input": [
      "psave(sa, '1f-sa.pickl')"
     ],
     "language": "python",
     "metadata": {},
     "outputs": [
      {
       "output_type": "stream",
       "stream": "stderr",
       "text": [
        "Closing remaining open files:trajs/frames_centered-52000.dcd.hoh.count.h5...done"
       ]
      },
      {
       "output_type": "stream",
       "stream": "stderr",
       "text": [
        "trajs/frames_centered-64000.dcd.hoh.count.h5...donetrajs/frames_centered-60000.dcd.hoh.count.h5...donetrajs/frames_centered-24000.dcd.hoh.count.h5...donetrajs/frames_centered-20000.dcd.hoh.count.h5...donetrajs/frames_centered-72000.dcd.hoh.count.h5...donetrajs/frames_centered-40000.dcd.hoh.count.h5...donetrajs/frames_centered-44000.dcd.hoh.count.h5...donetrajs/frames_centered-8000.dcd.hoh.count.h5...donetrajs/frames_centered-4000.dcd.hoh.count.h5...donetrajs/frames_centered-28000.dcd.hoh.count.h5...donetrajs/frames_centered-32000.dcd.hoh.count.h5...donetrajs/frames_centered-48000.dcd.hoh.count.h5...donetrajs/frames_centered-56000.dcd.hoh.count.h5...donetrajs/frames_centered-0.dcd.hoh.count.h5...donetrajs/frames_centered-36000.dcd.hoh.count.h5...donetrajs/frames_centered-68000.dcd.hoh.count.h5...donetrajs/frames_centered-12000.dcd.hoh.count.h5...donetrajs/frames_centered-16000.dcd.hoh.count.h5...done\n"
       ]
      }
     ],
     "prompt_number": 43
    },
    {
     "cell_type": "code",
     "collapsed": false,
     "input": [],
     "language": "python",
     "metadata": {},
     "outputs": []
    }
   ],
   "metadata": {}
  }
 ]
}