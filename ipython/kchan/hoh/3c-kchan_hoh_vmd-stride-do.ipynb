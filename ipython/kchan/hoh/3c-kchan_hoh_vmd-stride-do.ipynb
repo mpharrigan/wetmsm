{
 "metadata": {
  "name": "",
  "signature": "sha256:2650a042ab2cc0c3fdd75d67d38cb823b957a699e23f9000a3f226948f0a85a0"
 },
 "nbformat": 3,
 "nbformat_minor": 0,
 "worksheets": [
  {
   "cells": [
    {
     "cell_type": "code",
     "collapsed": false,
     "input": [
      "%matplotlib inline"
     ],
     "language": "python",
     "metadata": {},
     "outputs": [],
     "prompt_number": 1
    },
    {
     "cell_type": "code",
     "collapsed": false,
     "input": [
      "import pickle\n",
      "import tables\n",
      "from os.path import join as pjoin"
     ],
     "language": "python",
     "metadata": {},
     "outputs": [],
     "prompt_number": 2
    },
    {
     "cell_type": "code",
     "collapsed": false,
     "input": [
      "cd ~/implement/wetmsm/kchan/hoh/"
     ],
     "language": "python",
     "metadata": {},
     "outputs": [
      {
       "output_type": "stream",
       "stream": "stdout",
       "text": [
        "/home/harrigan/implement/wetmsm/kchan/hoh\n"
       ]
      }
     ],
     "prompt_number": 3
    },
    {
     "cell_type": "code",
     "collapsed": false,
     "input": [
      "with open('2b-ticax.pickl', 'rb') as f:\n",
      "    tseqs = pickle.load(f)\n",
      "with open('2a-tica.pickl', 'rb') as f:\n",
      "    tica = pickle.load(f)\n",
      "with open('1e-deleted.pickl', 'rb') as f:\n",
      "    deleted = pickle.load(f)"
     ],
     "language": "python",
     "metadata": {},
     "outputs": [],
     "prompt_number": 4
    },
    {
     "cell_type": "code",
     "collapsed": false,
     "input": [
      "txy = np.concatenate(tseqs)"
     ],
     "language": "python",
     "metadata": {},
     "outputs": [],
     "prompt_number": 5
    },
    {
     "cell_type": "markdown",
     "metadata": {},
     "source": [
      "# VMD"
     ]
    },
    {
     "cell_type": "code",
     "collapsed": false,
     "input": [
      "from wetmsm.vmd_write import VMDWriter, VMDSCRIPT\n",
      "from os.path import join as pjoin"
     ],
     "language": "python",
     "metadata": {},
     "outputs": [],
     "prompt_number": 6
    },
    {
     "cell_type": "markdown",
     "metadata": {},
     "source": [
      "### Load Assignments File"
     ]
    },
    {
     "cell_type": "code",
     "collapsed": false,
     "input": [
      "assn_fn = 'vis/tot_assn.h5'\n",
      "assn_f = tables.open_file(assn_fn)\n",
      "assn = assn_f.root.assigments # Note! Typo. But it's saved in the file so deal with it"
     ],
     "language": "python",
     "metadata": {},
     "outputs": [],
     "prompt_number": 7
    },
    {
     "cell_type": "markdown",
     "metadata": {},
     "source": [
      "### Load Indices"
     ]
    },
    {
     "cell_type": "code",
     "collapsed": false,
     "input": [
      "biox_prefix = '/home/harrigan/biox/implement/water/kchan/'"
     ],
     "language": "python",
     "metadata": {},
     "outputs": [],
     "prompt_number": 8
    },
    {
     "cell_type": "code",
     "collapsed": false,
     "input": [
      "ca_inds = np.loadtxt(pjoin(biox_prefix, 'atomindices',  'ca_inds.dat'), dtype=int)\n",
      "pop_inds = np.loadtxt(pjoin(biox_prefix, 'atomindices', 'hoh_o_inds.dat'), dtype=int)\n",
      "print(ca_inds.shape, pop_inds.shape)"
     ],
     "language": "python",
     "metadata": {},
     "outputs": [
      {
       "output_type": "stream",
       "stream": "stdout",
       "text": [
        "(404,) (8854,)\n"
       ]
      }
     ],
     "prompt_number": 9
    },
    {
     "cell_type": "markdown",
     "metadata": {},
     "source": [
      "### Load topology"
     ]
    },
    {
     "cell_type": "code",
     "collapsed": false,
     "input": [
      "import mdtraj as md\n",
      "top = md.load('vis/struct.pdb')\n",
      "print(top)"
     ],
     "language": "python",
     "metadata": {},
     "outputs": [
      {
       "output_type": "stream",
       "stream": "stdout",
       "text": [
        "<mdtraj.Trajectory with 1 frames, 45898 atoms, 9683 residues, and unitcells>\n"
       ]
      }
     ],
     "prompt_number": 10
    },
    {
     "cell_type": "markdown",
     "metadata": {},
     "source": [
      "### Visualize loadings"
     ]
    },
    {
     "cell_type": "code",
     "collapsed": false,
     "input": [
      "# Manually input number of frames\n",
      "n_frames = txy.shape[0] + 100 # From tica\n",
      "print(n_frames)\n",
      "print(n_frames / 100)"
     ],
     "language": "python",
     "metadata": {},
     "outputs": [
      {
       "output_type": "stream",
       "stream": "stdout",
       "text": [
        "73863\n",
        "738.63\n"
       ]
      }
     ],
     "prompt_number": 11
    },
    {
     "cell_type": "code",
     "collapsed": false,
     "input": [
      "vmd = VMDWriter(assn=assn, solvent_ind=pop_inds, n_frames=n_frames, n_atoms=top.n_atoms,\n",
      "                n_solute=len(ca_inds), n_shells=5)"
     ],
     "language": "python",
     "metadata": {},
     "outputs": [],
     "prompt_number": 12
    },
    {
     "cell_type": "code",
     "collapsed": false,
     "input": [
      "loading1d, loading2d = vmd.loading_plotter(tica.components_[3], deleted, cutoff=0.1, title='tIC 4')\n",
      "plt.savefig('figs-3-vmd/loading-4.pdf')"
     ],
     "language": "python",
     "metadata": {},
     "outputs": [
      {
       "metadata": {},
       "output_type": "display_data",
       "png": "[encoded data removed]",
       "text": [
        "<matplotlib.figure.Figure at 0x7fa91faafa20>"
       ]
      }
     ],
     "prompt_number": 20
    },
    {
     "cell_type": "code",
     "collapsed": false,
     "input": [
      "user = vmd.compute(loading2d, stride=100, which='avg')"
     ],
     "language": "python",
     "metadata": {},
     "outputs": [],
     "prompt_number": 21
    },
    {
     "cell_type": "markdown",
     "metadata": {},
     "source": [
      "### Save"
     ]
    },
    {
     "cell_type": "code",
     "collapsed": false,
     "input": [
      "fn = 'stride.tic4.avg.hoh'\n",
      "np.savetxt('vis/{}.dat'.format(fn), user, fmt='%.5f')\n",
      "with open('vis/{}.tcl'.format(fn), 'w') as f:\n",
      "    f.write(VMDSCRIPT.format(top_fn='struct.pdb', traj_fn='concat_traj.dcd', step=1, dat_fn='{}.dat'.format(fn)))"
     ],
     "language": "python",
     "metadata": {},
     "outputs": [],
     "prompt_number": 22
    },
    {
     "cell_type": "markdown",
     "metadata": {},
     "source": [
      "# See what was deleted"
     ]
    },
    {
     "cell_type": "code",
     "collapsed": false,
     "input": [
      "loaddel = np.ones(len(ca_inds) * 5 - len(deleted))\n",
      "print(len(loaddel), len(deleted))"
     ],
     "language": "python",
     "metadata": {},
     "outputs": [
      {
       "output_type": "stream",
       "stream": "stdout",
       "text": [
        "1729 291\n"
       ]
      }
     ],
     "prompt_number": 27
    },
    {
     "cell_type": "code",
     "collapsed": false,
     "input": [
      "loadel2d = vmd.translate_loading(loaddel, deleted)"
     ],
     "language": "python",
     "metadata": {},
     "outputs": [],
     "prompt_number": 29
    },
    {
     "cell_type": "code",
     "collapsed": false,
     "input": [
      "loadel2d.shape"
     ],
     "language": "python",
     "metadata": {},
     "outputs": [
      {
       "metadata": {},
       "output_type": "pyout",
       "prompt_number": 30,
       "text": [
        "(404, 5)"
       ]
      }
     ],
     "prompt_number": 30
    },
    {
     "cell_type": "code",
     "collapsed": false,
     "input": [
      "np.sum(loadel2d)"
     ],
     "language": "python",
     "metadata": {},
     "outputs": [
      {
       "metadata": {},
       "output_type": "pyout",
       "prompt_number": 31,
       "text": [
        "1729.0"
       ]
      }
     ],
     "prompt_number": 31
    },
    {
     "cell_type": "code",
     "collapsed": false,
     "input": [
      "al1 = np.ones_like(loadel2d)"
     ],
     "language": "python",
     "metadata": {},
     "outputs": [],
     "prompt_number": 38
    },
    {
     "cell_type": "code",
     "collapsed": false,
     "input": [
      "user = vmd.compute(1 - loadel2d, stride=100, which='add')"
     ],
     "language": "python",
     "metadata": {},
     "outputs": [],
     "prompt_number": 45
    },
    {
     "cell_type": "code",
     "collapsed": false,
     "input": [
      "np.sum(user)"
     ],
     "language": "python",
     "metadata": {},
     "outputs": [
      {
       "metadata": {},
       "output_type": "pyout",
       "prompt_number": 46,
       "text": [
        "14085098.0"
       ]
      }
     ],
     "prompt_number": 46
    },
    {
     "cell_type": "code",
     "collapsed": false,
     "input": [
      "fname = 'stride.avgdel.hoh'\n",
      "np.savetxt('vis/{}.dat'.format(fname), user, fmt='%.5f')\n",
      "with open('vis/{}.tcl'.format(fname), 'w') as f:\n",
      "    f.write(VMDSCRIPT.format(top_fn='struct.pdb', traj_fn='concat_traj.dcd', step=1, dat_fn='{}.dat'.format(fname)))"
     ],
     "language": "python",
     "metadata": {},
     "outputs": [],
     "prompt_number": 47
    },
    {
     "cell_type": "code",
     "collapsed": false,
     "input": [],
     "language": "python",
     "metadata": {},
     "outputs": []
    }
   ],
   "metadata": {}
  }
 ]
}