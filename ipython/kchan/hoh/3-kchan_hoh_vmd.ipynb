{
 "metadata": {
  "name": "",
  "signature": "sha256:27906781639b15a78c2e69b4a93e8402852b1da6dcf7545c58636066362e5b32"
 },
 "nbformat": 3,
 "nbformat_minor": 0,
 "worksheets": [
  {
   "cells": [
    {
     "cell_type": "code",
     "collapsed": false,
     "input": [
      "%matplotlib inline"
     ],
     "language": "python",
     "metadata": {},
     "outputs": [],
     "prompt_number": 1
    },
    {
     "cell_type": "code",
     "collapsed": false,
     "input": [
      "import pickle\n",
      "import tables"
     ],
     "language": "python",
     "metadata": {},
     "outputs": [],
     "prompt_number": 2
    },
    {
     "cell_type": "code",
     "collapsed": false,
     "input": [
      "cd ~/implement/wetmsm/kchan/hoh/"
     ],
     "language": "python",
     "metadata": {},
     "outputs": [
      {
       "output_type": "stream",
       "stream": "stdout",
       "text": [
        "/home/harrigan/implement/wetmsm/kchan/hoh\n"
       ]
      }
     ],
     "prompt_number": 3
    },
    {
     "cell_type": "code",
     "collapsed": false,
     "input": [
      "with open('2b-ticax.pickl', 'rb') as f:\n",
      "    tseqs = pickle.load(f)\n",
      "with open('2a-tica.pickl', 'rb') as f:\n",
      "    tica = pickle.load(f)\n",
      "with open('1e-deleted.pickl', 'rb') as f:\n",
      "    deleted = pickle.load(f)"
     ],
     "language": "python",
     "metadata": {},
     "outputs": [],
     "prompt_number": 4
    },
    {
     "cell_type": "code",
     "collapsed": false,
     "input": [
      "txy = np.concatenate(tseqs)"
     ],
     "language": "python",
     "metadata": {},
     "outputs": [],
     "prompt_number": 5
    },
    {
     "cell_type": "markdown",
     "metadata": {},
     "source": [
      "# VMD"
     ]
    },
    {
     "cell_type": "code",
     "collapsed": false,
     "input": [
      "from wetmsm.vmd_write import VMDWriter, VMDSCRIPT\n",
      "from os.path import join as pjoin"
     ],
     "language": "python",
     "metadata": {},
     "outputs": [],
     "prompt_number": 6
    },
    {
     "cell_type": "markdown",
     "metadata": {},
     "source": [
      "### Load Assignments File"
     ]
    },
    {
     "cell_type": "code",
     "collapsed": false,
     "input": [
      "biox_prefix = '/home/harrigan/biox/implement/water/kchan/'\n",
      "assn_fn = pjoin(biox_prefix, 'trajs/frames_centered-0.dcd.hoh.assign.h5')\n",
      "assn_f = tables.open_file(assn_fn)\n",
      "assn = assn_f.root.assignments\n",
      "print(assn.shape)"
     ],
     "language": "python",
     "metadata": {},
     "outputs": [
      {
       "output_type": "stream",
       "stream": "stdout",
       "text": [
        "(75860625, 4)\n"
       ]
      }
     ],
     "prompt_number": 7
    },
    {
     "cell_type": "markdown",
     "metadata": {},
     "source": [
      "### Load Indices"
     ]
    },
    {
     "cell_type": "code",
     "collapsed": false,
     "input": [
      "ca_inds = np.loadtxt(pjoin(biox_prefix, 'atomindices',  'ca_inds.dat'), dtype=int)\n",
      "pop_inds = np.loadtxt(pjoin(biox_prefix, 'atomindices', 'hoh_o_inds.dat'), dtype=int)\n",
      "print(ca_inds.shape, pop_inds.shape)"
     ],
     "language": "python",
     "metadata": {},
     "outputs": [
      {
       "output_type": "stream",
       "stream": "stdout",
       "text": [
        "(404,) (8854,)\n"
       ]
      }
     ],
     "prompt_number": 8
    },
    {
     "cell_type": "markdown",
     "metadata": {},
     "source": [
      "### Load topology"
     ]
    },
    {
     "cell_type": "code",
     "collapsed": false,
     "input": [
      "import mdtraj as md\n",
      "top = md.load('vis/struct.pdb')\n",
      "print(top)"
     ],
     "language": "python",
     "metadata": {},
     "outputs": [
      {
       "output_type": "stream",
       "stream": "stdout",
       "text": [
        "<mdtraj.Trajectory with 1 frames, 45898 atoms, 9683 residues, and unitcells>\n"
       ]
      }
     ],
     "prompt_number": 9
    },
    {
     "cell_type": "code",
     "collapsed": false,
     "input": [
      "# Manually input number of frames\n",
      "n_frames = 4000"
     ],
     "language": "python",
     "metadata": {},
     "outputs": [],
     "prompt_number": 10
    },
    {
     "cell_type": "markdown",
     "metadata": {},
     "source": [
      "### Visualize loadings"
     ]
    },
    {
     "cell_type": "code",
     "collapsed": false,
     "input": [
      "tic1 = tica.components_[1]\n",
      "xx = np.arange(len(tic1))\n",
      "\n",
      "plt.subplots(2,2, figsize=(10,6))\n",
      "xlim1 = (0, len(tic1))\n",
      "\n",
      "\n",
      "plt.subplot(2,2,1)\n",
      "plt.scatter(xx,tic1, linewidth=0, s=30, edgecolor='none')\n",
      "plt.xlabel('Feature')\n",
      "plt.title('tIC 2 Components')\n",
      "plt.xlim(xlim1)\n",
      "\n",
      "plt.subplot(2,2,2)\n",
      "tic1s = tic1 ** 2\n",
      "tic1s /= np.max(tic1s)\n",
      "plt.scatter(xx, tic1s, linewidth=0, s=30, c='r', edgecolor='none')\n",
      "plt.xlabel('Feature')\n",
      "plt.title('tIC 2 Component Intensities')\n",
      "plt.xlim(xlim1)\n",
      "\n",
      "plt.subplot(2,2,3)\n",
      "loading1 = np.copy(tic1s)\n",
      "loading1[tic1s < 0.1] = 0.0\n",
      "plt.scatter(xx, loading1, linewidth=0, s=30, c='purple', edgecolor='none')\n",
      "plt.xlabel('Feature')\n",
      "plt.title('tIC 2 Clipped Intensities')\n",
      "plt.xlim(xlim1)\n",
      "\n",
      "plt.subplot(2,2,4)\n",
      "xlim2 = (0, loading2d.shape[0])\n",
      "utebins, shbins = np.meshgrid(np.arange(loading2d.shape[0]), np.arange(loading2d.shape[1]))\n",
      "plt.scatter(utebins, shbins, edgecolor='none',\n",
      "            s=300*loading2d, c=-loading2d, cmap=plt.get_cmap('RdBu'))\n",
      "plt.ylabel('Shell')\n",
      "plt.xlabel('Residue')\n",
      "plt.title('Loadings by shell')\n",
      "plt.xlim(xlim2)\n",
      "\n",
      "plt.tight_layout()\n",
      "plt.savefig('figs-3-vmd/loading2.pdf')\n",
      "    "
     ],
     "language": "python",
     "metadata": {},
     "outputs": [
      {
       "metadata": {},
       "output_type": "display_data",
       "png": "[encoded data removed]",
       "text": [
        "<matplotlib.figure.Figure at 0x7fa166a51a58>"
       ]
      }
     ],
     "prompt_number": 17
    },
    {
     "cell_type": "markdown",
     "metadata": {},
     "source": [
      "### Make object and compute"
     ]
    },
    {
     "cell_type": "code",
     "collapsed": false,
     "input": [
      "vmd = VMDWriter(assn=assn, solvent_ind=pop_inds, n_frames=n_frames, n_atoms=top.n_atoms,\n",
      "                n_solute=len(ca_inds), n_shells=5)"
     ],
     "language": "python",
     "metadata": {},
     "outputs": [],
     "prompt_number": 15
    },
    {
     "cell_type": "code",
     "collapsed": false,
     "input": [
      "loading2d = vmd.translate_loading(loading1, deleted)"
     ],
     "language": "python",
     "metadata": {},
     "outputs": [],
     "prompt_number": 16
    },
    {
     "cell_type": "code",
     "collapsed": false,
     "input": [
      "user = vmd.compute(loading1, deleted)"
     ],
     "language": "python",
     "metadata": {},
     "outputs": [],
     "prompt_number": 18
    },
    {
     "cell_type": "markdown",
     "metadata": {},
     "source": [
      "### Save"
     ]
    },
    {
     "cell_type": "code",
     "collapsed": false,
     "input": [
      "np.savetxt('vis/0.tic2.hoh.dat', user, fmt='%.5f')"
     ],
     "language": "python",
     "metadata": {},
     "outputs": [],
     "prompt_number": 19
    },
    {
     "cell_type": "markdown",
     "metadata": {},
     "source": [
      "### Generate script"
     ]
    },
    {
     "cell_type": "code",
     "collapsed": false,
     "input": [
      "with open('vis/0.tic2.hoh.tcl', 'w') as f:\n",
      "    f.write(VMDSCRIPT.format(top_fn='struct.pdb', traj_fn='frames_centered-0.dcd', step=1, dat_fn='0.tic2.hoh.dat'))"
     ],
     "language": "python",
     "metadata": {},
     "outputs": [],
     "prompt_number": 20
    },
    {
     "cell_type": "code",
     "collapsed": false,
     "input": [],
     "language": "python",
     "metadata": {},
     "outputs": []
    }
   ],
   "metadata": {}
  }
 ]
}