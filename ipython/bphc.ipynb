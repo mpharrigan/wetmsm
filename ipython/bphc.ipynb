{
 "metadata": {
  "name": "",
  "signature": "sha256:9e4b00bd3fb859d8d9d014bafe5cd73078f169ea367666d0e79236ca86d7e1a6"
 },
 "nbformat": 3,
 "nbformat_minor": 0,
 "worksheets": [
  {
   "cells": [
    {
     "cell_type": "code",
     "collapsed": false,
     "input": [
      "%load_ext autoreload\n",
      "%autoreload 2\n",
      "%matplotlib inline"
     ],
     "language": "python",
     "metadata": {},
     "outputs": [],
     "prompt_number": 1
    },
    {
     "cell_type": "code",
     "collapsed": false,
     "input": [
      "cd ~/biox/implement/water/bphc/"
     ],
     "language": "python",
     "metadata": {},
     "outputs": [
      {
       "output_type": "stream",
       "stream": "stdout",
       "text": [
        "/home/harrigan/mnt/biox/biox3/home/harrigan/implement/water/bphc\n"
       ]
      }
     ],
     "prompt_number": 2
    },
    {
     "cell_type": "code",
     "collapsed": false,
     "input": [
      "solute_ind = np.loadtxt('solute_ca_indices.dat', dtype=int, ndmin=2)\n",
      "solvent_ind = np.loadtxt('solvent_indices.dat', dtype=int, ndmin=2)"
     ],
     "language": "python",
     "metadata": {},
     "outputs": [],
     "prompt_number": 3
    },
    {
     "cell_type": "markdown",
     "metadata": {},
     "source": [
      "## Load in fingerprint"
     ]
    },
    {
     "cell_type": "code",
     "collapsed": false,
     "input": [
      "import tables\n",
      "import glob"
     ],
     "language": "python",
     "metadata": {},
     "outputs": [],
     "prompt_number": 4
    },
    {
     "cell_type": "code",
     "collapsed": false,
     "input": [
      "fp3d_all = list()\n",
      "for sc_fn in glob.glob('data/SYS*/shell_count.h5'):\n",
      "    counts_f = tables.open_file(sc_fn)\n",
      "    fp3d_tmp = counts_f.root.shell_counts\n",
      "    print sc_fn, fp3d_tmp.shape\n",
      "    fp3d_all.append(fp3d_tmp)\n",
      "    #counts_f.close()"
     ],
     "language": "python",
     "metadata": {},
     "outputs": [
      {
       "output_type": "stream",
       "stream": "stdout",
       "text": [
        "data/SYS62/shell_count.h5 (1001, 292, 5)\n",
        "data/SYS57/shell_count.h5"
       ]
      },
      {
       "output_type": "stream",
       "stream": "stdout",
       "text": [
        " (1001, 292, 5)\n",
        "data/SYS29/shell_count.h5 (1001, 292, 5)\n",
        "data/SYS33/shell_count.h5 (1001, 292, 5)\n",
        "data/SYS38/shell_count.h5"
       ]
      },
      {
       "output_type": "stream",
       "stream": "stdout",
       "text": [
        " (1001, 292, 5)\n",
        "data/SYS8/shell_count.h5 (1001, 292, 5)\n",
        "data/SYS65/shell_count.h5"
       ]
      },
      {
       "output_type": "stream",
       "stream": "stdout",
       "text": [
        " (1001, 292, 5)\n",
        "data/SYS31/shell_count.h5 (1001, 292, 5)\n",
        "data/SYS34/shell_count.h5"
       ]
      },
      {
       "output_type": "stream",
       "stream": "stdout",
       "text": [
        " (1001, 292, 5)\n",
        "data/SYS58/shell_count.h5 (1001, 292, 5)\n",
        "data/SYS70/shell_count.h5"
       ]
      },
      {
       "output_type": "stream",
       "stream": "stdout",
       "text": [
        " (1001, 292, 5)\n",
        "data/SYS69/shell_count.h5 (1001, 292, 5)\n",
        "data/SYS20/shell_count.h5 (1001, 292, 5)\n",
        "data/SYS49/shell_count.h5 (1001, 292, 5)\n",
        "data/SYS51/shell_count.h5"
       ]
      },
      {
       "output_type": "stream",
       "stream": "stdout",
       "text": [
        " (1001, 292, 5)\n",
        "data/SYS25/shell_count.h5"
       ]
      },
      {
       "output_type": "stream",
       "stream": "stdout",
       "text": [
        " (1001, 292, 5)\n",
        "data/SYS77/shell_count.h5 (1001, 292, 5)\n",
        "data/SYS37/shell_count.h5"
       ]
      },
      {
       "output_type": "stream",
       "stream": "stdout",
       "text": [
        " (1001, 292, 5)\n",
        "data/SYS47/shell_count.h5 (1001, 292, 5)\n",
        "data/SYS32/shell_count.h5"
       ]
      },
      {
       "output_type": "stream",
       "stream": "stdout",
       "text": [
        " (1001, 292, 5)\n",
        "data/SYS83/shell_count.h5 (391, 292, 5)\n",
        "data/SYS80/shell_count.h5"
       ]
      },
      {
       "output_type": "stream",
       "stream": "stdout",
       "text": [
        " (766, 292, 5)\n",
        "data/SYS66/shell_count.h5"
       ]
      },
      {
       "output_type": "stream",
       "stream": "stdout",
       "text": [
        " (1001, 292, 5)\n",
        "data/SYS81/shell_count.h5"
       ]
      },
      {
       "output_type": "stream",
       "stream": "stdout",
       "text": [
        " (829, 292, 5)\n",
        "data/SYS11/shell_count.h5"
       ]
      },
      {
       "output_type": "stream",
       "stream": "stdout",
       "text": [
        " (1001, 292, 5)\n",
        "data/SYS71/shell_count.h5"
       ]
      },
      {
       "output_type": "stream",
       "stream": "stdout",
       "text": [
        " (1001, 292, 5)\n",
        "data/SYS73/shell_count.h5"
       ]
      },
      {
       "output_type": "stream",
       "stream": "stdout",
       "text": [
        " (1001, 292, 5)\n",
        "data/SYS44/shell_count.h5 (1001, 292, 5)\n",
        "data/SYS41/shell_count.h5"
       ]
      },
      {
       "output_type": "stream",
       "stream": "stdout",
       "text": [
        " (1001, 292, 5)\n",
        "data/SYS56/shell_count.h5"
       ]
      },
      {
       "output_type": "stream",
       "stream": "stdout",
       "text": [
        " (1001, 292, 5)\n",
        "data/SYS48/shell_count.h5 (1001, 292, 5)\n",
        "data/SYS76/shell_count.h5"
       ]
      },
      {
       "output_type": "stream",
       "stream": "stdout",
       "text": [
        " (1001, 292, 5)\n",
        "data/SYS67/shell_count.h5 (1001, 292, 5)\n",
        "data/SYS5/shell_count.h5"
       ]
      },
      {
       "output_type": "stream",
       "stream": "stdout",
       "text": [
        " (1001, 292, 5)\n",
        "data/SYS30/shell_count.h5 (1001, 292, 5)\n",
        "data/SYS46/shell_count.h5"
       ]
      },
      {
       "output_type": "stream",
       "stream": "stdout",
       "text": [
        " (1001, 292, 5)\n",
        "data/SYS14/shell_count.h5 (1001, 292, 5)\n",
        "data/SYS50/shell_count.h5"
       ]
      },
      {
       "output_type": "stream",
       "stream": "stdout",
       "text": [
        " (1001, 292, 5)\n",
        "data/SYS16/shell_count.h5 (1001, 292, 5)\n",
        "data/SYS2/shell_count.h5"
       ]
      },
      {
       "output_type": "stream",
       "stream": "stdout",
       "text": [
        " (1001, 292, 5)\n",
        "data/SYS7/shell_count.h5"
       ]
      },
      {
       "output_type": "stream",
       "stream": "stdout",
       "text": [
        " (1001, 292, 5)\n",
        "data/SYS22/shell_count.h5"
       ]
      },
      {
       "output_type": "stream",
       "stream": "stdout",
       "text": [
        " (1001, 292, 5)\n",
        "data/SYS54/shell_count.h5 (1001, 292, 5)\n",
        "data/SYS59/shell_count.h5"
       ]
      },
      {
       "output_type": "stream",
       "stream": "stdout",
       "text": [
        " (1001, 292, 5)\n",
        "data/SYS75/shell_count.h5"
       ]
      },
      {
       "output_type": "stream",
       "stream": "stdout",
       "text": [
        " (1001, 292, 5)\n",
        "data/SYS6/shell_count.h5"
       ]
      },
      {
       "output_type": "stream",
       "stream": "stdout",
       "text": [
        " (1001, 292, 5)\n",
        "data/SYS40/shell_count.h5"
       ]
      },
      {
       "output_type": "stream",
       "stream": "stdout",
       "text": [
        " (1001, 292, 5)\n",
        "data/SYS17/shell_count.h5 (1001, 292, 5)\n",
        "data/SYS18/shell_count.h5"
       ]
      },
      {
       "output_type": "stream",
       "stream": "stdout",
       "text": [
        " (1001, 292, 5)\n",
        "data/SYS1/shell_count.h5 (1001, 292, 5)\n",
        "data/SYS35/shell_count.h5"
       ]
      },
      {
       "output_type": "stream",
       "stream": "stdout",
       "text": [
        " (1001, 292, 5)\n",
        "data/SYS42/shell_count.h5"
       ]
      },
      {
       "output_type": "stream",
       "stream": "stdout",
       "text": [
        " (1001, 292, 5)\n",
        "data/SYS27/shell_count.h5 (1001, 292, 5)\n",
        "data/SYS15/shell_count.h5"
       ]
      },
      {
       "output_type": "stream",
       "stream": "stdout",
       "text": [
        " (1001, 292, 5)\n",
        "data/SYS63/shell_count.h5"
       ]
      },
      {
       "output_type": "stream",
       "stream": "stdout",
       "text": [
        " (1001, 292, 5)\n",
        "data/SYS55/shell_count.h5 (1001, 292, 5)\n",
        "data/SYS19/shell_count.h5 (1001, 292, 5)\n",
        "data/SYS61/shell_count.h5"
       ]
      },
      {
       "output_type": "stream",
       "stream": "stdout",
       "text": [
        " (1001, 292, 5)\n",
        "data/SYS74/shell_count.h5 (1001, 292, 5)\n",
        "data/SYS23/shell_count.h5"
       ]
      },
      {
       "output_type": "stream",
       "stream": "stdout",
       "text": [
        " (1001, 292, 5)\n",
        "data/SYS28/shell_count.h5 (1001, 292, 5)\n",
        "data/SYS82/shell_count.h5"
       ]
      },
      {
       "output_type": "stream",
       "stream": "stdout",
       "text": [
        " (841, 292, 5)\n",
        "data/SYS72/shell_count.h5 (1001, 292, 5)\n",
        "data/SYS26/shell_count.h5"
       ]
      },
      {
       "output_type": "stream",
       "stream": "stdout",
       "text": [
        " (1001, 292, 5)\n",
        "data/SYS53/shell_count.h5"
       ]
      },
      {
       "output_type": "stream",
       "stream": "stdout",
       "text": [
        " (1001, 292, 5)\n",
        "data/SYS45/shell_count.h5"
       ]
      },
      {
       "output_type": "stream",
       "stream": "stdout",
       "text": [
        " (1001, 292, 5)\n",
        "data/SYS12/shell_count.h5 (1001, 292, 5)\n",
        "data/SYS60/shell_count.h5"
       ]
      },
      {
       "output_type": "stream",
       "stream": "stdout",
       "text": [
        " (1001, 292, 5)\n",
        "data/SYS4/shell_count.h5 (1001, 292, 5)\n",
        "data/SYS24/shell_count.h5"
       ]
      },
      {
       "output_type": "stream",
       "stream": "stdout",
       "text": [
        " (1001, 292, 5)\n",
        "data/SYS36/shell_count.h5 (1001, 292, 5)\n",
        "data/SYS10/shell_count.h5"
       ]
      },
      {
       "output_type": "stream",
       "stream": "stdout",
       "text": [
        " (1001, 292, 5)\n",
        "data/SYS64/shell_count.h5 (1001, 292, 5)\n",
        "data/SYS79/shell_count.h5 (987, 292, 5)\n",
        "data/SYS68/shell_count.h5"
       ]
      },
      {
       "output_type": "stream",
       "stream": "stdout",
       "text": [
        " (1001, 292, 5)\n",
        "data/SYS13/shell_count.h5 (1001, 292, 5)\n",
        "data/SYS78/shell_count.h5"
       ]
      },
      {
       "output_type": "stream",
       "stream": "stdout",
       "text": [
        " (973, 292, 5)\n",
        "data/SYS52/shell_count.h5 (1001, 292, 5)\n",
        "data/SYS21/shell_count.h5"
       ]
      },
      {
       "output_type": "stream",
       "stream": "stdout",
       "text": [
        " (1001, 292, 5)\n",
        "data/SYS100/shell_count.h5 (285, 292, 5)\n",
        "data/SYS43/shell_count.h5"
       ]
      },
      {
       "output_type": "stream",
       "stream": "stdout",
       "text": [
        " (1001, 292, 5)\n",
        "data/SYS39/shell_count.h5 (1001, 292, 5)\n",
        "data/SYS3/shell_count.h5 (1001, 292, 5)\n"
       ]
      }
     ],
     "prompt_number": 6
    },
    {
     "cell_type": "markdown",
     "metadata": {},
     "source": [
      "### See if any of the closest shells are occupied"
     ]
    },
    {
     "cell_type": "code",
     "collapsed": false,
     "input": [
      "def slimify(fp3d):\n",
      "    if len(np.where(fp3d[:,:,0] > 0)[0]) > 0:\n",
      "        print \"uh oh!\"\n",
      "    fp3d_slim = np.delete(fp3d, 0, axis=2)    \n",
      "    return fp3d"
     ],
     "language": "python",
     "metadata": {},
     "outputs": [],
     "prompt_number": 7
    },
    {
     "cell_type": "code",
     "collapsed": false,
     "input": [
      "def normify(fp3d):\n",
      "    shell_w = 0.2\n",
      "    n_shell = 5\n",
      "    shell_edges = np.linspace(0, shell_w * (n_shell + 1), num=(n_shell+1))\n",
      "    shell_mids = (np.diff(shell_edges)/2) + shell_edges[:-1]\n",
      "    norm = 4*np.pi*(shell_mids**2) * shell_w\n",
      "    norm = norm[np.newaxis, np.newaxis, :]\n",
      "    fp3dn = fp3d / norm\n",
      "    return fp3dn"
     ],
     "language": "python",
     "metadata": {},
     "outputs": [],
     "prompt_number": 8
    },
    {
     "cell_type": "code",
     "collapsed": false,
     "input": [
      "def reshapify(fp3ds):\n",
      "    fp2d = np.reshape(fp3d, (fp3d.shape[0], fp3d.shape[1] * fp3d.shape[2]))\n",
      "    return fp2d"
     ],
     "language": "python",
     "metadata": {},
     "outputs": [],
     "prompt_number": 9
    },
    {
     "cell_type": "code",
     "collapsed": false,
     "input": [
      "fp3dn_all = [normify(fp3d) for fp3d in fp3d_all]"
     ],
     "language": "python",
     "metadata": {},
     "outputs": [],
     "prompt_number": 10
    },
    {
     "cell_type": "code",
     "collapsed": false,
     "input": [
      "fp3dns_all = [slimify(fp3dn) for fp3dn in fp3dn_all]"
     ],
     "language": "python",
     "metadata": {},
     "outputs": [],
     "prompt_number": 11
    },
    {
     "cell_type": "code",
     "collapsed": false,
     "input": [
      "fp2d_all = [reshapify(fp3dns) for fp3dns in fp3dns_all]"
     ],
     "language": "python",
     "metadata": {},
     "outputs": [],
     "prompt_number": 12
    },
    {
     "cell_type": "markdown",
     "metadata": {},
     "source": [
      "### Visualize some features"
     ]
    },
    {
     "cell_type": "code",
     "collapsed": false,
     "input": [
      "fp2d = fp2d_all[np.random.randint(len(fp2d_all))]\n",
      "for i in np.random.randint(0, fp2d.shape[1], 4):\n",
      "    plt.plot(fp2d[:, i], '.-', label=\"Feature {}\".format(i))\n",
      "plt.xlabel('Time'); plt.ylabel('Shells FP');\n",
      "plt.legend(loc='best')"
     ],
     "language": "python",
     "metadata": {},
     "outputs": [
      {
       "metadata": {},
       "output_type": "pyout",
       "prompt_number": 13,
       "text": [
        "<matplotlib.legend.Legend at 0x5d5cd10>"
       ]
      },
      {
       "metadata": {},
       "output_type": "display_data",
       "png": "[encoded data removed]",
       "text": [
        "<matplotlib.figure.Figure at 0x5d5cd50>"
       ]
      }
     ],
     "prompt_number": 13
    },
    {
     "cell_type": "markdown",
     "metadata": {},
     "source": [
      "# tICA"
     ]
    },
    {
     "cell_type": "code",
     "collapsed": false,
     "input": [
      "from sklearn.decomposition import PCA, KernelPCA\n",
      "from mixtape.tica import tICA"
     ],
     "language": "python",
     "metadata": {},
     "outputs": [],
     "prompt_number": 14
    },
    {
     "cell_type": "code",
     "collapsed": false,
     "input": [
      "#ica = PCA(n_components=2)\n",
      "ica = tICA(n_components=2, offset=10)"
     ],
     "language": "python",
     "metadata": {},
     "outputs": [],
     "prompt_number": 15
    },
    {
     "cell_type": "markdown",
     "metadata": {},
     "source": [
      "### Fit all trajectories"
     ]
    },
    {
     "cell_type": "code",
     "collapsed": false,
     "input": [
      "for fp2d in fp2d_all:\n",
      "    ica.partial_fit(fp2d)"
     ],
     "language": "python",
     "metadata": {},
     "outputs": [],
     "prompt_number": 16
    },
    {
     "cell_type": "markdown",
     "metadata": {},
     "source": [
      "### Force it to eigensolve"
     ]
    },
    {
     "cell_type": "code",
     "collapsed": false,
     "input": [
      "print ica.components_[0].shape\n",
      "print ica.components_[1].shape"
     ],
     "language": "python",
     "metadata": {},
     "outputs": [
      {
       "output_type": "stream",
       "stream": "stdout",
       "text": [
        "(1460,)\n",
        "(1460,)\n"
       ]
      }
     ],
     "prompt_number": 17
    },
    {
     "cell_type": "code",
     "collapsed": false,
     "input": [
      "tic1 = ica.components_[0] ** 2\n",
      "tic2 = ica.components_[1] ** 2"
     ],
     "language": "python",
     "metadata": {},
     "outputs": [],
     "prompt_number": 18
    },
    {
     "cell_type": "code",
     "collapsed": false,
     "input": [
      "# Make the biggest one 1\n",
      "scale = np.max(tic1)\n",
      "tic1 /= scale\n",
      "tic2 /= scale"
     ],
     "language": "python",
     "metadata": {},
     "outputs": [],
     "prompt_number": 19
    },
    {
     "cell_type": "code",
     "collapsed": false,
     "input": [
      "plt.scatter(range(len(tic1)), tic1, c='r', s=10)\n",
      "plt.scatter(range(len(tic2)), tic2, c='b', s=10)"
     ],
     "language": "python",
     "metadata": {},
     "outputs": [
      {
       "metadata": {},
       "output_type": "pyout",
       "prompt_number": 20,
       "text": [
        "<matplotlib.collections.PathCollection at 0x2e724390>"
       ]
      },
      {
       "metadata": {},
       "output_type": "display_data",
       "png": "[encoded data removed]",
       "text": [
        "<matplotlib.figure.Figure at 0x2e7243d0>"
       ]
      }
     ],
     "prompt_number": 20
    },
    {
     "cell_type": "markdown",
     "metadata": {},
     "source": [
      "## 2D Plot"
     ]
    },
    {
     "cell_type": "code",
     "collapsed": false,
     "input": [
      "concat_t = list()\n",
      "for fp2d in fp2d_all:\n",
      "    txy = np.zeros((len(fp2d), 2))\n",
      "    txy[:,0] = np.dot(fp2d, ica.components_[0])\n",
      "    txy[:,1] = np.dot(fp2d, ica.components_[1])\n",
      "    concat_t.append(txy)\n",
      "txy = np.vstack(concat_t)\n",
      "print txy.shape"
     ],
     "language": "python",
     "metadata": {},
     "outputs": [
      {
       "output_type": "stream",
       "stream": "stdout",
       "text": [
        "(83083, 2)\n"
       ]
      }
     ],
     "prompt_number": 21
    },
    {
     "cell_type": "code",
     "collapsed": false,
     "input": [
      "import scipy.stats"
     ],
     "language": "python",
     "metadata": {},
     "outputs": [],
     "prompt_number": 22
    },
    {
     "cell_type": "code",
     "collapsed": false,
     "input": [
      "kde = scipy.stats.gaussian_kde(txy.T)"
     ],
     "language": "python",
     "metadata": {},
     "outputs": [],
     "prompt_number": 23
    },
    {
     "cell_type": "code",
     "collapsed": false,
     "input": [
      "npoints = 100\n",
      "xlin = np.linspace(np.min(txy[:,0]), np.max(txy[:,0]), npoints)\n",
      "ylin = np.linspace(np.min(txy[:,1]), np.max(txy[:,1]), npoints)\n",
      "xx, yy = np.meshgrid(xlin, ylin)\n",
      "pos = np.vstack([xx.ravel(), yy.ravel()])\n",
      "pos.shape\n",
      "zz = kde.evaluate(pos)\n",
      "zz = np.reshape(zz.T, xx.shape)\n",
      "plt.contourf(xx,yy,zz, 200)"
     ],
     "language": "python",
     "metadata": {},
     "outputs": [
      {
       "metadata": {},
       "output_type": "pyout",
       "prompt_number": 24,
       "text": [
        "<matplotlib.contour.QuadContourSet instance at 0x2e85f878>"
       ]
      },
      {
       "metadata": {},
       "output_type": "display_data",
       "png": "[encoded data removed]",
       "text": [
        "<matplotlib.figure.Figure at 0x5d91d10>"
       ]
      }
     ],
     "prompt_number": 24
    },
    {
     "cell_type": "markdown",
     "metadata": {},
     "source": [
      "# Load in assignments"
     ]
    },
    {
     "cell_type": "code",
     "collapsed": false,
     "input": [
      "assn_h = tables.open_file('testdata/SYS1/shell_assign.h5')"
     ],
     "language": "python",
     "metadata": {},
     "outputs": [],
     "prompt_number": 64
    },
    {
     "cell_type": "code",
     "collapsed": false,
     "input": [
      "assn = assn_h.root.assignments"
     ],
     "language": "python",
     "metadata": {},
     "outputs": [],
     "prompt_number": 65
    },
    {
     "cell_type": "code",
     "collapsed": false,
     "input": [
      "assn.shape"
     ],
     "language": "python",
     "metadata": {},
     "outputs": [
      {
       "metadata": {},
       "output_type": "pyout",
       "prompt_number": 66,
       "text": [
        "(358154, 4)"
       ]
      }
     ],
     "prompt_number": 66
    },
    {
     "cell_type": "code",
     "collapsed": false,
     "input": [
      "#TODO: Write to visualization or sth"
     ],
     "language": "python",
     "metadata": {},
     "outputs": [],
     "prompt_number": 67
    }
   ],
   "metadata": {}
  }
 ]
}