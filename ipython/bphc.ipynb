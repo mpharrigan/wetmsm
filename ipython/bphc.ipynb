{
 "metadata": {
  "name": "",
  "signature": "sha256:f01a106c7591826f216ba22968e948044da5582c34902c17908a21d73f3afc73"
 },
 "nbformat": 3,
 "nbformat_minor": 0,
 "worksheets": [
  {
   "cells": [
    {
     "cell_type": "markdown",
     "metadata": {},
     "source": [
      "# TODO: Move all the parts of this file\n",
      " - load in and parse features\n",
      "     - cluster full dimension\n",
      "         - msm\n",
      "         - hmm\n",
      "     - tica\n",
      "         - msm\n",
      "         - hmm"
     ]
    },
    {
     "cell_type": "code",
     "collapsed": false,
     "input": [
      "%load_ext autoreload\n",
      "%autoreload 2\n",
      "%matplotlib inline"
     ],
     "language": "python",
     "metadata": {},
     "outputs": [],
     "prompt_number": 1
    },
    {
     "cell_type": "code",
     "collapsed": false,
     "input": [
      "cd ~/biox/implement/water/bphc/"
     ],
     "language": "python",
     "metadata": {},
     "outputs": [
      {
       "output_type": "stream",
       "stream": "stdout",
       "text": [
        "/home/harrigan/mnt/biox/biox3/home/harrigan/implement/water/bphc\n"
       ]
      }
     ],
     "prompt_number": 2
    },
    {
     "cell_type": "code",
     "collapsed": false,
     "input": [
      "solute_ind = np.loadtxt('solute_ca_indices.dat', dtype=int, ndmin=2)\n",
      "solvent_ind = np.loadtxt('solvent_indices.dat', dtype=int, ndmin=2)"
     ],
     "language": "python",
     "metadata": {},
     "outputs": [],
     "prompt_number": 3
    },
    {
     "cell_type": "markdown",
     "metadata": {},
     "source": [
      "## Load in fingerprint"
     ]
    },
    {
     "cell_type": "code",
     "collapsed": false,
     "input": [
      "import tables\n",
      "import glob"
     ],
     "language": "python",
     "metadata": {},
     "outputs": [],
     "prompt_number": 4
    },
    {
     "cell_type": "code",
     "collapsed": false,
     "input": [
      "fp3d_all = list()\n",
      "for sc_fn in glob.glob('data/SYS*/shells-*_count.h5'):\n",
      "    counts_f = tables.open_file(sc_fn)\n",
      "    fp3d_tmp = counts_f.root.shell_counts\n",
      "    print(sc_fn, fp3d_tmp.shape)\n",
      "    fp3d_all.append(fp3d_tmp)\n",
      "    #counts_f.close()"
     ],
     "language": "python",
     "metadata": {},
     "outputs": [
      {
       "output_type": "stream",
       "stream": "stdout",
       "text": [
        "data/SYS62/shells-0_centered.xtc_count.h5 (1001, 292, 5)\n",
        "data/SYS57/shells-0_centered.xtc_count.h5 (1001, 292, 5)\n",
        "data/SYS29/shells-0_centered.xtc_count.h5"
       ]
      },
      {
       "output_type": "stream",
       "stream": "stdout",
       "text": [
        " (1001, 292, 5)\n",
        "data/SYS33/shells-0_centered.xtc_count.h5 (1001, 292, 5)\n",
        "data/SYS38/shells-0_centered.xtc_count.h5"
       ]
      },
      {
       "output_type": "stream",
       "stream": "stdout",
       "text": [
        " (1001, 292, 5)\n",
        "data/SYS8/shells-0_centered.xtc_count.h5 (1001, 292, 5)\n",
        "data/SYS65/shells-0_centered.xtc_count.h5"
       ]
      },
      {
       "output_type": "stream",
       "stream": "stdout",
       "text": [
        " (1001, 292, 5)\n",
        "data/SYS31/shells-0_centered.xtc_count.h5 (1001, 292, 5)\n",
        "data/SYS34/shells-0_centered.xtc_count.h5"
       ]
      },
      {
       "output_type": "stream",
       "stream": "stdout",
       "text": [
        " (1001, 292, 5)\n",
        "data/SYS58/shells-0_centered.xtc_count.h5 (1001, 292, 5)\n",
        "data/SYS70/shells-0_centered.xtc_count.h5"
       ]
      },
      {
       "output_type": "stream",
       "stream": "stdout",
       "text": [
        " (1001, 292, 5)\n",
        "data/SYS69/shells-0_centered.xtc_count.h5 (1001, 292, 5)\n",
        "data/SYS87/shells-0_centered.xtc_count.h5"
       ]
      },
      {
       "output_type": "stream",
       "stream": "stdout",
       "text": [
        " (364, 292, 5)\n",
        "data/SYS20/shells-0_centered.xtc_count.h5"
       ]
      },
      {
       "output_type": "stream",
       "stream": "stdout",
       "text": [
        " (1001, 292, 5)\n",
        "data/SYS49/shells-0_centered.xtc_count.h5 (1001, 292, 5)\n",
        "data/SYS51/shells-0_centered.xtc_count.h5"
       ]
      },
      {
       "output_type": "stream",
       "stream": "stdout",
       "text": [
        " (1001, 292, 5)\n",
        "data/SYS88/shells-0_centered.xtc_count.h5 (362, 292, 5)\n",
        "data/SYS25/shells-0_centered.xtc_count.h5"
       ]
      },
      {
       "output_type": "stream",
       "stream": "stdout",
       "text": [
        " (1001, 292, 5)\n",
        "data/SYS77/shells-0_centered.xtc_count.h5 (1001, 292, 5)\n",
        "data/SYS9/shells-0_centered.xtc_count.h5"
       ]
      },
      {
       "output_type": "stream",
       "stream": "stdout",
       "text": [
        " (1001, 292, 5)\n",
        "data/SYS37/shells-0_centered.xtc_count.h5"
       ]
      },
      {
       "output_type": "stream",
       "stream": "stdout",
       "text": [
        " (1001, 292, 5)\n",
        "data/SYS47/shells-0_centered.xtc_count.h5 (1001, 292, 5)\n",
        "data/SYS91/shells-0_centered.xtc_count.h5"
       ]
      },
      {
       "output_type": "stream",
       "stream": "stdout",
       "text": [
        " (351, 292, 5)\n",
        "data/SYS32/shells-0_centered.xtc_count.h5"
       ]
      },
      {
       "output_type": "stream",
       "stream": "stdout",
       "text": [
        " (1001, 292, 5)\n",
        "data/SYS83/shells-0_centered.xtc_count.h5 (391, 292, 5)\n",
        "data/SYS80/shells-0_centered.xtc_count.h5"
       ]
      },
      {
       "output_type": "stream",
       "stream": "stdout",
       "text": [
        " (766, 292, 5)\n",
        "data/SYS66/shells-0_centered.xtc_count.h5 (1001, 292, 5)\n",
        "data/SYS81/shells-0_centered.xtc_count.h5"
       ]
      },
      {
       "output_type": "stream",
       "stream": "stdout",
       "text": [
        " (829, 292, 5)\n",
        "data/SYS11/shells-0_centered.xtc_count.h5 (1001, 292, 5)\n",
        "data/SYS71/shells-0_centered.xtc_count.h5"
       ]
      },
      {
       "output_type": "stream",
       "stream": "stdout",
       "text": [
        " (1001, 292, 5)\n",
        "data/SYS73/shells-0_centered.xtc_count.h5 (1001, 292, 5)\n",
        "data/SYS98/shells-0_centered.xtc_count.h5"
       ]
      },
      {
       "output_type": "stream",
       "stream": "stdout",
       "text": [
        " (331, 292, 5)\n",
        "data/SYS44/shells-0_centered.xtc_count.h5"
       ]
      },
      {
       "output_type": "stream",
       "stream": "stdout",
       "text": [
        " (1001, 292, 5)\n",
        "data/SYS97/shells-0_centered.xtc_count.h5 (322, 292, 5)\n",
        "data/SYS41/shells-0_centered.xtc_count.h5"
       ]
      },
      {
       "output_type": "stream",
       "stream": "stdout",
       "text": [
        " (1001, 292, 5)\n",
        "data/SYS90/shells-0_centered.xtc_count.h5 (356, 292, 5)\n",
        "data/SYS56/shells-0_centered.xtc_count.h5"
       ]
      },
      {
       "output_type": "stream",
       "stream": "stdout",
       "text": [
        " (1001, 292, 5)\n",
        "data/SYS89/shells-0_centered.xtc_count.h5 (351, 292, 5)\n",
        "data/SYS48/shells-0_centered.xtc_count.h5"
       ]
      },
      {
       "output_type": "stream",
       "stream": "stdout",
       "text": [
        " (1001, 292, 5)\n",
        "data/SYS84/shells-0_centered.xtc_count.h5 (387, 292, 5)\n",
        "data/SYS76/shells-0_centered.xtc_count.h5"
       ]
      },
      {
       "output_type": "stream",
       "stream": "stdout",
       "text": [
        " (1001, 292, 5)\n",
        "data/SYS67/shells-0_centered.xtc_count.h5 (1001, 292, 5)\n",
        "data/SYS5/shells-0_centered.xtc_count.h5"
       ]
      },
      {
       "output_type": "stream",
       "stream": "stdout",
       "text": [
        " (1001, 292, 5)\n",
        "data/SYS30/shells-0_centered.xtc_count.h5 (1001, 292, 5)\n",
        "data/SYS46/shells-0_centered.xtc_count.h5"
       ]
      },
      {
       "output_type": "stream",
       "stream": "stdout",
       "text": [
        " (1001, 292, 5)\n",
        "data/SYS14/shells-0_centered.xtc_count.h5 (1001, 292, 5)\n",
        "data/SYS50/shells-0_centered.xtc_count.h5"
       ]
      },
      {
       "output_type": "stream",
       "stream": "stdout",
       "text": [
        " (1001, 292, 5)\n",
        "data/SYS16/shells-0_centered.xtc_count.h5 (1001, 292, 5)\n",
        "data/SYS2/shells-0_centered.xtc_count.h5"
       ]
      },
      {
       "output_type": "stream",
       "stream": "stdout",
       "text": [
        " (1001, 292, 5)\n",
        "data/SYS99/shells-0_centered.xtc_count.h5 (321, 292, 5)\n",
        "data/SYS7/shells-0_centered.xtc_count.h5"
       ]
      },
      {
       "output_type": "stream",
       "stream": "stdout",
       "text": [
        " (1001, 292, 5)\n",
        "data/SYS22/shells-0_centered.xtc_count.h5"
       ]
      },
      {
       "output_type": "stream",
       "stream": "stdout",
       "text": [
        " (1001, 292, 5)\n",
        "data/SYS54/shells-0_centered.xtc_count.h5 (1001, 292, 5)\n",
        "data/SYS59/shells-0_centered.xtc_count.h5"
       ]
      },
      {
       "output_type": "stream",
       "stream": "stdout",
       "text": [
        " (1001, 292, 5)\n",
        "data/SYS75/shells-0_centered.xtc_count.h5 (1001, 292, 5)\n",
        "data/SYS6/shells-0_centered.xtc_count.h5"
       ]
      },
      {
       "output_type": "stream",
       "stream": "stdout",
       "text": [
        " (1001, 292, 5)\n",
        "data/SYS40/shells-0_centered.xtc_count.h5"
       ]
      },
      {
       "output_type": "stream",
       "stream": "stdout",
       "text": [
        " (1001, 292, 5)\n",
        "data/SYS17/shells-0_centered.xtc_count.h5 (1001, 292, 5)\n",
        "data/SYS18/shells-0_centered.xtc_count.h5"
       ]
      },
      {
       "output_type": "stream",
       "stream": "stdout",
       "text": [
        " (1001, 292, 5)\n",
        "data/SYS1/shells-0_centered.xtc_count.h5 (1001, 292, 5)\n",
        "data/SYS35/shells-0_centered.xtc_count.h5"
       ]
      },
      {
       "output_type": "stream",
       "stream": "stdout",
       "text": [
        " (1001, 292, 5)\n",
        "data/SYS42/shells-0_centered.xtc_count.h5 (1001, 292, 5)\n",
        "data/SYS96/shells-0_centered.xtc_count.h5"
       ]
      },
      {
       "output_type": "stream",
       "stream": "stdout",
       "text": [
        " (331, 292, 5)\n",
        "data/SYS27/shells-0_centered.xtc_count.h5"
       ]
      },
      {
       "output_type": "stream",
       "stream": "stdout",
       "text": [
        " (1001, 292, 5)\n",
        "data/SYS93/shells-0_centered.xtc_count.h5 (351, 292, 5)\n",
        "data/SYS15/shells-0_centered.xtc_count.h5"
       ]
      },
      {
       "output_type": "stream",
       "stream": "stdout",
       "text": [
        " (1001, 292, 5)\n",
        "data/SYS63/shells-0_centered.xtc_count.h5 (1001, 292, 5)\n",
        "data/SYS92/shells-0_centered.xtc_count.h5"
       ]
      },
      {
       "output_type": "stream",
       "stream": "stdout",
       "text": [
        " (343, 292, 5)\n",
        "data/SYS55/shells-0_centered.xtc_count.h5"
       ]
      },
      {
       "output_type": "stream",
       "stream": "stdout",
       "text": [
        " (1001, 292, 5)\n",
        "data/SYS94/shells-0_centered.xtc_count.h5 (329, 292, 5)\n",
        "data/SYS85/shells-0_centered.xtc_count.h5 (361, 292, 5)\n",
        "data/SYS19/shells-0_centered.xtc_count.h5"
       ]
      },
      {
       "output_type": "stream",
       "stream": "stdout",
       "text": [
        " (1001, 292, 5)\n",
        "data/SYS61/shells-0_centered.xtc_count.h5 (1001, 292, 5)\n",
        "data/SYS74/shells-0_centered.xtc_count.h5"
       ]
      },
      {
       "output_type": "stream",
       "stream": "stdout",
       "text": [
        " (1001, 292, 5)\n",
        "data/SYS23/shells-0_centered.xtc_count.h5 (1001, 292, 5)\n",
        "data/SYS28/shells-0_centered.xtc_count.h5"
       ]
      },
      {
       "output_type": "stream",
       "stream": "stdout",
       "text": [
        " (1001, 292, 5)\n",
        "data/SYS82/shells-0_centered.xtc_count.h5 (841, 292, 5)\n",
        "data/SYS72/shells-0_centered.xtc_count.h5"
       ]
      },
      {
       "output_type": "stream",
       "stream": "stdout",
       "text": [
        " (1001, 292, 5)\n",
        "data/SYS95/shells-0_centered.xtc_count.h5 (325, 292, 5)\n",
        "data/SYS26/shells-0_centered.xtc_count.h5 (1001, 292, 5)\n",
        "data/SYS53/shells-0_centered.xtc_count.h5"
       ]
      },
      {
       "output_type": "stream",
       "stream": "stdout",
       "text": [
        " (1001, 292, 5)\n",
        "data/SYS45/shells-0_centered.xtc_count.h5 (1001, 292, 5)\n",
        "data/SYS12/shells-0_centered.xtc_count.h5"
       ]
      },
      {
       "output_type": "stream",
       "stream": "stdout",
       "text": [
        " (1001, 292, 5)\n",
        "data/SYS60/shells-0_centered.xtc_count.h5 (1001, 292, 5)\n",
        "data/SYS4/shells-0_centered.xtc_count.h5"
       ]
      },
      {
       "output_type": "stream",
       "stream": "stdout",
       "text": [
        " (1001, 292, 5)\n",
        "data/SYS24/shells-0_centered.xtc_count.h5 (1001, 292, 5)\n",
        "data/SYS36/shells-0_centered.xtc_count.h5"
       ]
      },
      {
       "output_type": "stream",
       "stream": "stdout",
       "text": [
        " (1001, 292, 5)\n",
        "data/SYS10/shells-0_centered.xtc_count.h5 (1001, 292, 5)\n",
        "data/SYS64/shells-0_centered.xtc_count.h5"
       ]
      },
      {
       "output_type": "stream",
       "stream": "stdout",
       "text": [
        " (1001, 292, 5)\n",
        "data/SYS79/shells-0_centered.xtc_count.h5 (987, 292, 5)\n",
        "data/SYS68/shells-0_centered.xtc_count.h5"
       ]
      },
      {
       "output_type": "stream",
       "stream": "stdout",
       "text": [
        " (1001, 292, 5)\n",
        "data/SYS13/shells-0_centered.xtc_count.h5 (1001, 292, 5)\n",
        "data/SYS78/shells-0_centered.xtc_count.h5"
       ]
      },
      {
       "output_type": "stream",
       "stream": "stdout",
       "text": [
        " (973, 292, 5)\n",
        "data/SYS52/shells-0_centered.xtc_count.h5 (1001, 292, 5)\n",
        "data/SYS21/shells-0_centered.xtc_count.h5"
       ]
      },
      {
       "output_type": "stream",
       "stream": "stdout",
       "text": [
        " (1001, 292, 5)\n",
        "data/SYS100/shells-0_centered.xtc_count.h5 (285, 292, 5)\n",
        "data/SYS86/shells-0_centered.xtc_count.h5 (370, 292, 5)\n",
        "data/SYS43/shells-0_centered.xtc_count.h5"
       ]
      },
      {
       "output_type": "stream",
       "stream": "stdout",
       "text": [
        " (1001, 292, 5)\n",
        "data/SYS39/shells-0_centered.xtc_count.h5 (1001, 292, 5)\n",
        "data/SYS3/shells-0_centered.xtc_count.h5"
       ]
      },
      {
       "output_type": "stream",
       "stream": "stdout",
       "text": [
        " (1001, 292, 5)\n"
       ]
      }
     ],
     "prompt_number": 5
    },
    {
     "cell_type": "markdown",
     "metadata": {},
     "source": [
      "### See if any of the closest shells are occupied"
     ]
    },
    {
     "cell_type": "code",
     "collapsed": false,
     "input": [
      "import wetmsm.analysis as wa\n",
      "import logging\n",
      "wa.log.setLevel(logging.INFO)"
     ],
     "language": "python",
     "metadata": {},
     "outputs": [],
     "prompt_number": 6
    },
    {
     "cell_type": "code",
     "collapsed": false,
     "input": [
      "fp3dn_all = [wa.normalize(fp3d, shell_w=0.2) for fp3d in fp3d_all]"
     ],
     "language": "python",
     "metadata": {},
     "outputs": [],
     "prompt_number": 7
    },
    {
     "cell_type": "code",
     "collapsed": false,
     "input": [
      "fp2d_all, to_delete = wa.prune_all([wa.reshape(fp3d) for fp3d in fp3dn_all])"
     ],
     "language": "python",
     "metadata": {},
     "outputs": [
      {
       "output_type": "stream",
       "stream": "stderr",
       "text": [
        "INFO:root:Trimming 292 features from all trajectories\n"
       ]
      }
     ],
     "prompt_number": 8
    },
    {
     "cell_type": "code",
     "collapsed": false,
     "input": [
      "fp2d = fp2d_all[2]\n",
      "fp2d.shape"
     ],
     "language": "python",
     "metadata": {},
     "outputs": [
      {
       "metadata": {},
       "output_type": "pyout",
       "prompt_number": 9,
       "text": [
        "(1001, 1168)"
       ]
      }
     ],
     "prompt_number": 9
    },
    {
     "cell_type": "markdown",
     "metadata": {},
     "source": [
      "### Visualize some features"
     ]
    },
    {
     "cell_type": "code",
     "collapsed": false,
     "input": [
      "fp2d = fp2d_all[np.random.randint(len(fp2d_all))]\n",
      "for i in np.random.randint(0, fp2d.shape[1], 4):\n",
      "    plt.plot(fp2d[:, i], '.-', label=\"Feature {}\".format(i))\n",
      "plt.xlabel('Time'); plt.ylabel('Shells FP');\n",
      "plt.legend(loc='best')"
     ],
     "language": "python",
     "metadata": {},
     "outputs": [
      {
       "metadata": {},
       "output_type": "pyout",
       "prompt_number": 10,
       "text": [
        "<matplotlib.legend.Legend at 0x7f63ac10a5f8>"
       ]
      },
      {
       "metadata": {},
       "output_type": "display_data",
       "png": "[encoded data removed]",
       "text": [
        "<matplotlib.figure.Figure at 0x7f63ac10a630>"
       ]
      }
     ],
     "prompt_number": 10
    },
    {
     "cell_type": "code",
     "collapsed": false,
     "input": [
      "import pickle"
     ],
     "language": "python",
     "metadata": {},
     "outputs": [],
     "prompt_number": 11
    },
    {
     "cell_type": "code",
     "collapsed": false,
     "input": [
      "cd ~/implement/wetmsm/bphc/"
     ],
     "language": "python",
     "metadata": {},
     "outputs": [
      {
       "output_type": "stream",
       "stream": "stdout",
       "text": [
        "/home/harrigan/implement/wetmsm/bphc\n"
       ]
      }
     ],
     "prompt_number": 12
    },
    {
     "cell_type": "code",
     "collapsed": false,
     "input": [
      "if fp2d_all is not None:\n",
      "    with open('fp2d_all.pickl', 'wb') as f:\n",
      "        pickle.dump(fp2d_all, f)\n",
      "    with open('fp2d_deleted.pickl', 'wb') as f:\n",
      "        pickle.dump(to_delete, f)\n",
      "    with open('fp3dn_all.pickl', 'wb') as f:\n",
      "        pickle.dump(fp3dn_all, f)"
     ],
     "language": "python",
     "metadata": {},
     "outputs": [],
     "prompt_number": 14
    },
    {
     "cell_type": "code",
     "collapsed": false,
     "input": [
      "# Put load code here"
     ],
     "language": "python",
     "metadata": {},
     "outputs": [],
     "prompt_number": 18
    },
    {
     "cell_type": "markdown",
     "metadata": {},
     "source": [
      "# tICA"
     ]
    },
    {
     "cell_type": "code",
     "collapsed": false,
     "input": [
      "from sklearn.decomposition import PCA, KernelPCA\n",
      "from mixtape.tica import tICA"
     ],
     "language": "python",
     "metadata": {},
     "outputs": [],
     "prompt_number": 19
    },
    {
     "cell_type": "code",
     "collapsed": false,
     "input": [
      "#ica = PCA(n_components=2)\n",
      "ica = tICA(n_components=2, lag_time=10)"
     ],
     "language": "python",
     "metadata": {},
     "outputs": [],
     "prompt_number": 20
    },
    {
     "cell_type": "markdown",
     "metadata": {},
     "source": [
      "### Fit all trajectories"
     ]
    },
    {
     "cell_type": "code",
     "collapsed": false,
     "input": [
      "ica.fit(fp2d_all)"
     ],
     "language": "python",
     "metadata": {},
     "outputs": [
      {
       "metadata": {},
       "output_type": "pyout",
       "prompt_number": 21,
       "text": [
        "tICA(gamma=0.05, lag_time=10, n_components=2, weighted_transform=False)"
       ]
      }
     ],
     "prompt_number": 21
    },
    {
     "cell_type": "markdown",
     "metadata": {},
     "source": [
      "### Force it to eigensolve"
     ]
    },
    {
     "cell_type": "code",
     "collapsed": false,
     "input": [
      "print(ica.components_[0].shape)\n",
      "print(ica.components_[1].shape)"
     ],
     "language": "python",
     "metadata": {},
     "outputs": [
      {
       "output_type": "stream",
       "stream": "stdout",
       "text": [
        "(1168,)\n",
        "(1168,)\n"
       ]
      }
     ],
     "prompt_number": 23
    },
    {
     "cell_type": "code",
     "collapsed": false,
     "input": [
      "tic1 = ica.components_[0] ** 2\n",
      "tic2 = ica.components_[1] ** 2"
     ],
     "language": "python",
     "metadata": {},
     "outputs": [],
     "prompt_number": 24
    },
    {
     "cell_type": "code",
     "collapsed": false,
     "input": [
      "# Make the biggest one 1\n",
      "scale = np.max(tic1)\n",
      "tic1 /= scale\n",
      "tic2 /= scale"
     ],
     "language": "python",
     "metadata": {},
     "outputs": [],
     "prompt_number": 25
    },
    {
     "cell_type": "code",
     "collapsed": false,
     "input": [
      "plt.scatter(range(len(tic1)), tic1, c='r', s=10, linewidth=0)\n",
      "plt.scatter(range(len(tic2)), tic2, c='b', s=10, linewidth=0)"
     ],
     "language": "python",
     "metadata": {},
     "outputs": [
      {
       "metadata": {},
       "output_type": "pyout",
       "prompt_number": 29,
       "text": [
        "<matplotlib.collections.PathCollection at 0x7f26011d07b8>"
       ]
      },
      {
       "metadata": {},
       "output_type": "display_data",
       "png": "[encoded data removed]",
       "text": [
        "<matplotlib.figure.Figure at 0x7f26012c2128>"
       ]
      }
     ],
     "prompt_number": 29
    },
    {
     "cell_type": "markdown",
     "metadata": {},
     "source": [
      "## 2D Plot"
     ]
    },
    {
     "cell_type": "code",
     "collapsed": false,
     "input": [
      "fp_ic = ica.transform(fp2d_all)"
     ],
     "language": "python",
     "metadata": {},
     "outputs": [],
     "prompt_number": 30
    },
    {
     "cell_type": "code",
     "collapsed": false,
     "input": [
      "if fp_ic is not None:\n",
      "    with open('fp_ic.pickl', 'wb') as f:\n",
      "        pickle.dump(fp_ic, f)"
     ],
     "language": "python",
     "metadata": {},
     "outputs": [
      {
       "output_type": "stream",
       "stream": "stderr",
       "text": [
        "[autoreload of mixtape failed: Traceback (most recent call last):\n",
        "  File \"/home/harrigan/opt/Python-3.4/lib/python3.4/site-packages/IPython/extensions/autoreload.py\", line 247, in check\n",
        "    superreload(m, reload, self.old_objects)\n",
        "ImportError: cannot import name 'featurizer'\n",
        "]\n"
       ]
      }
     ],
     "prompt_number": 46
    },
    {
     "cell_type": "code",
     "collapsed": false,
     "input": [
      "txy = np.vstack(fp_ic)"
     ],
     "language": "python",
     "metadata": {},
     "outputs": [],
     "prompt_number": 38
    },
    {
     "cell_type": "code",
     "collapsed": false,
     "input": [
      "print(txy.shape)"
     ],
     "language": "python",
     "metadata": {},
     "outputs": [
      {
       "output_type": "stream",
       "stream": "stdout",
       "text": [
        "(87704, 2)\n"
       ]
      }
     ],
     "prompt_number": 42
    },
    {
     "cell_type": "code",
     "collapsed": false,
     "input": [
      "import scipy.stats"
     ],
     "language": "python",
     "metadata": {},
     "outputs": [],
     "prompt_number": 43
    },
    {
     "cell_type": "code",
     "collapsed": false,
     "input": [
      "kde = scipy.stats.gaussian_kde(txy.T)"
     ],
     "language": "python",
     "metadata": {},
     "outputs": [],
     "prompt_number": 44
    },
    {
     "cell_type": "code",
     "collapsed": false,
     "input": [
      "npoints = 100\n",
      "xlin = np.linspace(np.min(txy[:,0]), np.max(txy[:,0]), npoints)\n",
      "ylin = np.linspace(np.min(txy[:,1]), np.max(txy[:,1]), npoints)\n",
      "xx, yy = np.meshgrid(xlin, ylin)\n",
      "pos = np.vstack([xx.ravel(), yy.ravel()])\n",
      "pos.shape\n",
      "zz = kde.evaluate(pos)\n",
      "zz = np.reshape(zz.T, xx.shape)\n",
      "plt.contourf(xx,yy,zz, 200)"
     ],
     "language": "python",
     "metadata": {},
     "outputs": [
      {
       "metadata": {},
       "output_type": "pyout",
       "prompt_number": 45,
       "text": [
        "<matplotlib.contour.QuadContourSet at 0x7f26011532e8>"
       ]
      },
      {
       "metadata": {},
       "output_type": "display_data",
       "png": "[encoded data removed]",
       "text": [
        "<matplotlib.figure.Figure at 0x7f2601bd0f60>"
       ]
      }
     ],
     "prompt_number": 45
    },
    {
     "cell_type": "markdown",
     "metadata": {},
     "source": [
      "# Load in assignments"
     ]
    },
    {
     "cell_type": "code",
     "collapsed": false,
     "input": [
      "assn_h = tables.open_file('testdata/SYS1/shell_assign.h5')"
     ],
     "language": "python",
     "metadata": {},
     "outputs": [],
     "prompt_number": 64
    },
    {
     "cell_type": "code",
     "collapsed": false,
     "input": [
      "assn = assn_h.root.assignments"
     ],
     "language": "python",
     "metadata": {},
     "outputs": [],
     "prompt_number": 65
    },
    {
     "cell_type": "code",
     "collapsed": false,
     "input": [
      "assn.shape"
     ],
     "language": "python",
     "metadata": {},
     "outputs": [
      {
       "metadata": {},
       "output_type": "pyout",
       "prompt_number": 66,
       "text": [
        "(358154, 4)"
       ]
      }
     ],
     "prompt_number": 66
    },
    {
     "cell_type": "code",
     "collapsed": false,
     "input": [
      "#TODO: Write to visualization or sth"
     ],
     "language": "python",
     "metadata": {},
     "outputs": [],
     "prompt_number": 67
    },
    {
     "cell_type": "markdown",
     "metadata": {},
     "source": [
      "# Centers of mass"
     ]
    },
    {
     "cell_type": "code",
     "collapsed": false,
     "input": [
      "import mdtraj as md"
     ],
     "language": "python",
     "metadata": {},
     "outputs": [],
     "prompt_number": 5
    },
    {
     "cell_type": "code",
     "collapsed": false,
     "input": [
      "np.dot?"
     ],
     "language": "python",
     "metadata": {},
     "outputs": [],
     "prompt_number": 11
    },
    {
     "cell_type": "code",
     "collapsed": false,
     "input": [
      "tfn = 'testdata/SYS1/0_centered.xtc'\n",
      "traj1 = md.load(tfn, top='system_eq1.pdb', atom_indices=range(2007))\n",
      "traj2 = md.load(tfn, top='system_eq1.pdb', atom_indices=range(2007, 4468))"
     ],
     "language": "python",
     "metadata": {},
     "outputs": [],
     "prompt_number": 14
    },
    {
     "cell_type": "code",
     "collapsed": false,
     "input": [
      "com1 = md.compute_center_of_mass(traj1)\n",
      "com2 = md.compute_center_of_mass(traj2)"
     ],
     "language": "python",
     "metadata": {},
     "outputs": [],
     "prompt_number": 15
    },
    {
     "cell_type": "code",
     "collapsed": false,
     "input": [
      "def calculate_distance2(com1, com2):\n",
      "    diff = com2 - com1\n",
      "    dotty = np.dot(diff, diff.T)\n",
      "    return np.diag(dotty)"
     ],
     "language": "python",
     "metadata": {},
     "outputs": [],
     "prompt_number": 33
    },
    {
     "cell_type": "code",
     "collapsed": false,
     "input": [
      "def calculate_distance(com1, com2):\n",
      "    dis = np.zeros(len(com1))\n",
      "    for i in range(len(com1)):\n",
      "        diff = com2[i]-com1[i]\n",
      "        dis[i] = np.dot(diff, diff)\n",
      "    return dis"
     ],
     "language": "python",
     "metadata": {},
     "outputs": [],
     "prompt_number": 34
    },
    {
     "cell_type": "code",
     "collapsed": false,
     "input": [
      "import datetime as time"
     ],
     "language": "python",
     "metadata": {},
     "outputs": [],
     "prompt_number": 47
    },
    {
     "cell_type": "code",
     "collapsed": false,
     "input": [
      "dis1 = calculate_distance(com1, com2)"
     ],
     "language": "python",
     "metadata": {},
     "outputs": [],
     "prompt_number": 52
    },
    {
     "cell_type": "code",
     "collapsed": false,
     "input": [
      "dis2 = calculate_distance2(com1,com2)"
     ],
     "language": "python",
     "metadata": {},
     "outputs": [],
     "prompt_number": 53
    },
    {
     "cell_type": "code",
     "collapsed": false,
     "input": [
      "dis2 - dis1"
     ],
     "language": "python",
     "metadata": {},
     "outputs": [
      {
       "metadata": {},
       "output_type": "pyout",
       "prompt_number": 54,
       "text": [
        "array([ 0.,  0.,  0.,  0.,  0.,  0.,  0.,  0.,  0.,  0.,  0.])"
       ]
      }
     ],
     "prompt_number": 54
    },
    {
     "cell_type": "code",
     "collapsed": false,
     "input": [
      "comds = list()\n",
      "for tfn in glob.glob('data/SYS*/0_centered.xtc'):\n",
      "    traj1 = md.load(tfn, top='system_eq1.pdb', atom_indices=range(2007))\n",
      "    traj2 = md.load(tfn, top='system_eq1.pdb', atom_indices=range(2007, 4468))\n",
      "    com1 = md.compute_center_of_mass(traj1)\n",
      "    com2 = md.compute_center_of_mass(traj2)\n",
      "    comd = calculate_distance2(com1, com2)\n",
      "    comds.append(comd)\n",
      "    print tfn"
     ],
     "language": "python",
     "metadata": {},
     "outputs": [
      {
       "output_type": "stream",
       "stream": "stdout",
       "text": [
        "data/SYS62/0_centered.xtc\n",
        "data/SYS57/0_centered.xtc"
       ]
      },
      {
       "output_type": "stream",
       "stream": "stdout",
       "text": [
        "\n",
        "data/SYS29/0_centered.xtc"
       ]
      },
      {
       "output_type": "stream",
       "stream": "stdout",
       "text": [
        "\n",
        "data/SYS33/0_centered.xtc"
       ]
      },
      {
       "output_type": "stream",
       "stream": "stdout",
       "text": [
        "\n",
        "data/SYS38/0_centered.xtc"
       ]
      },
      {
       "output_type": "stream",
       "stream": "stdout",
       "text": [
        "\n",
        "data/SYS8/0_centered.xtc"
       ]
      },
      {
       "output_type": "stream",
       "stream": "stdout",
       "text": [
        "\n",
        "data/SYS65/0_centered.xtc"
       ]
      },
      {
       "output_type": "stream",
       "stream": "stdout",
       "text": [
        "\n",
        "data/SYS31/0_centered.xtc"
       ]
      },
      {
       "output_type": "stream",
       "stream": "stdout",
       "text": [
        "\n",
        "data/SYS34/0_centered.xtc"
       ]
      },
      {
       "output_type": "stream",
       "stream": "stdout",
       "text": [
        "\n",
        "data/SYS58/0_centered.xtc"
       ]
      },
      {
       "output_type": "stream",
       "stream": "stdout",
       "text": [
        "\n",
        "data/SYS70/0_centered.xtc"
       ]
      },
      {
       "output_type": "stream",
       "stream": "stdout",
       "text": [
        "\n",
        "data/SYS69/0_centered.xtc"
       ]
      },
      {
       "output_type": "stream",
       "stream": "stdout",
       "text": [
        "\n",
        "data/SYS87/0_centered.xtc"
       ]
      },
      {
       "output_type": "stream",
       "stream": "stdout",
       "text": [
        "\n",
        "data/SYS20/0_centered.xtc"
       ]
      },
      {
       "output_type": "stream",
       "stream": "stdout",
       "text": [
        "\n",
        "data/SYS49/0_centered.xtc"
       ]
      },
      {
       "output_type": "stream",
       "stream": "stdout",
       "text": [
        "\n",
        "data/SYS51/0_centered.xtc"
       ]
      },
      {
       "output_type": "stream",
       "stream": "stdout",
       "text": [
        "\n",
        "data/SYS88/0_centered.xtc"
       ]
      },
      {
       "output_type": "stream",
       "stream": "stdout",
       "text": [
        "\n",
        "data/SYS25/0_centered.xtc"
       ]
      },
      {
       "output_type": "stream",
       "stream": "stdout",
       "text": [
        "\n",
        "data/SYS77/0_centered.xtc"
       ]
      },
      {
       "output_type": "stream",
       "stream": "stdout",
       "text": [
        "\n",
        "data/SYS9/0_centered.xtc"
       ]
      },
      {
       "output_type": "stream",
       "stream": "stdout",
       "text": [
        "\n",
        "data/SYS37/0_centered.xtc"
       ]
      },
      {
       "output_type": "stream",
       "stream": "stdout",
       "text": [
        "\n",
        "data/SYS47/0_centered.xtc"
       ]
      },
      {
       "output_type": "stream",
       "stream": "stdout",
       "text": [
        "\n",
        "data/SYS91/0_centered.xtc"
       ]
      },
      {
       "output_type": "stream",
       "stream": "stdout",
       "text": [
        "\n",
        "data/SYS32/0_centered.xtc"
       ]
      },
      {
       "output_type": "stream",
       "stream": "stdout",
       "text": [
        "\n",
        "data/SYS83/0_centered.xtc"
       ]
      },
      {
       "output_type": "stream",
       "stream": "stdout",
       "text": [
        "\n",
        "data/SYS80/0_centered.xtc"
       ]
      },
      {
       "output_type": "stream",
       "stream": "stdout",
       "text": [
        "\n",
        "data/SYS66/0_centered.xtc"
       ]
      },
      {
       "output_type": "stream",
       "stream": "stdout",
       "text": [
        "\n",
        "data/SYS81/0_centered.xtc"
       ]
      },
      {
       "output_type": "stream",
       "stream": "stdout",
       "text": [
        "\n",
        "data/SYS11/0_centered.xtc"
       ]
      },
      {
       "output_type": "stream",
       "stream": "stdout",
       "text": [
        "\n",
        "data/SYS71/0_centered.xtc"
       ]
      },
      {
       "output_type": "stream",
       "stream": "stdout",
       "text": [
        "\n",
        "data/SYS73/0_centered.xtc"
       ]
      },
      {
       "output_type": "stream",
       "stream": "stdout",
       "text": [
        "\n",
        "data/SYS98/0_centered.xtc"
       ]
      },
      {
       "output_type": "stream",
       "stream": "stdout",
       "text": [
        "\n",
        "data/SYS44/0_centered.xtc"
       ]
      },
      {
       "output_type": "stream",
       "stream": "stdout",
       "text": [
        "\n",
        "data/SYS97/0_centered.xtc"
       ]
      },
      {
       "output_type": "stream",
       "stream": "stdout",
       "text": [
        "\n",
        "data/SYS41/0_centered.xtc"
       ]
      },
      {
       "output_type": "stream",
       "stream": "stdout",
       "text": [
        "\n",
        "data/SYS90/0_centered.xtc"
       ]
      },
      {
       "output_type": "stream",
       "stream": "stdout",
       "text": [
        "\n",
        "data/SYS56/0_centered.xtc"
       ]
      },
      {
       "output_type": "stream",
       "stream": "stdout",
       "text": [
        "\n",
        "data/SYS89/0_centered.xtc"
       ]
      },
      {
       "output_type": "stream",
       "stream": "stdout",
       "text": [
        "\n",
        "data/SYS48/0_centered.xtc"
       ]
      },
      {
       "output_type": "stream",
       "stream": "stdout",
       "text": [
        "\n",
        "data/SYS84/0_centered.xtc"
       ]
      },
      {
       "output_type": "stream",
       "stream": "stdout",
       "text": [
        "\n",
        "data/SYS76/0_centered.xtc"
       ]
      },
      {
       "output_type": "stream",
       "stream": "stdout",
       "text": [
        "\n",
        "data/SYS67/0_centered.xtc"
       ]
      },
      {
       "output_type": "stream",
       "stream": "stdout",
       "text": [
        "\n",
        "data/SYS5/0_centered.xtc"
       ]
      },
      {
       "output_type": "stream",
       "stream": "stdout",
       "text": [
        "\n",
        "data/SYS30/0_centered.xtc"
       ]
      },
      {
       "output_type": "stream",
       "stream": "stdout",
       "text": [
        "\n",
        "data/SYS46/0_centered.xtc"
       ]
      },
      {
       "output_type": "stream",
       "stream": "stdout",
       "text": [
        "\n",
        "data/SYS14/0_centered.xtc"
       ]
      },
      {
       "output_type": "stream",
       "stream": "stdout",
       "text": [
        "\n",
        "data/SYS50/0_centered.xtc"
       ]
      },
      {
       "output_type": "stream",
       "stream": "stdout",
       "text": [
        "\n",
        "data/SYS16/0_centered.xtc"
       ]
      },
      {
       "output_type": "stream",
       "stream": "stdout",
       "text": [
        "\n",
        "data/SYS2/0_centered.xtc"
       ]
      },
      {
       "output_type": "stream",
       "stream": "stdout",
       "text": [
        "\n",
        "data/SYS99/0_centered.xtc"
       ]
      },
      {
       "output_type": "stream",
       "stream": "stdout",
       "text": [
        "\n",
        "data/SYS7/0_centered.xtc"
       ]
      },
      {
       "output_type": "stream",
       "stream": "stdout",
       "text": [
        "\n",
        "data/SYS22/0_centered.xtc"
       ]
      },
      {
       "output_type": "stream",
       "stream": "stdout",
       "text": [
        "\n",
        "data/SYS54/0_centered.xtc"
       ]
      },
      {
       "output_type": "stream",
       "stream": "stdout",
       "text": [
        "\n",
        "data/SYS59/0_centered.xtc"
       ]
      },
      {
       "output_type": "stream",
       "stream": "stdout",
       "text": [
        "\n",
        "data/SYS75/0_centered.xtc"
       ]
      },
      {
       "output_type": "stream",
       "stream": "stdout",
       "text": [
        "\n",
        "data/SYS6/0_centered.xtc"
       ]
      },
      {
       "output_type": "stream",
       "stream": "stdout",
       "text": [
        "\n",
        "data/SYS40/0_centered.xtc"
       ]
      },
      {
       "output_type": "stream",
       "stream": "stdout",
       "text": [
        "\n",
        "data/SYS17/0_centered.xtc"
       ]
      },
      {
       "output_type": "stream",
       "stream": "stdout",
       "text": [
        "\n",
        "data/SYS18/0_centered.xtc"
       ]
      },
      {
       "output_type": "stream",
       "stream": "stdout",
       "text": [
        "\n",
        "data/SYS1/0_centered.xtc"
       ]
      },
      {
       "output_type": "stream",
       "stream": "stdout",
       "text": [
        "\n",
        "data/SYS35/0_centered.xtc"
       ]
      },
      {
       "output_type": "stream",
       "stream": "stdout",
       "text": [
        "\n",
        "data/SYS42/0_centered.xtc"
       ]
      },
      {
       "output_type": "stream",
       "stream": "stdout",
       "text": [
        "\n",
        "data/SYS96/0_centered.xtc"
       ]
      },
      {
       "output_type": "stream",
       "stream": "stdout",
       "text": [
        "\n",
        "data/SYS27/0_centered.xtc"
       ]
      },
      {
       "output_type": "stream",
       "stream": "stdout",
       "text": [
        "\n",
        "data/SYS93/0_centered.xtc"
       ]
      },
      {
       "output_type": "stream",
       "stream": "stdout",
       "text": [
        "\n",
        "data/SYS15/0_centered.xtc"
       ]
      },
      {
       "output_type": "stream",
       "stream": "stdout",
       "text": [
        "\n",
        "data/SYS63/0_centered.xtc"
       ]
      },
      {
       "output_type": "stream",
       "stream": "stdout",
       "text": [
        "\n",
        "data/SYS92/0_centered.xtc"
       ]
      },
      {
       "output_type": "stream",
       "stream": "stdout",
       "text": [
        "\n",
        "data/SYS55/0_centered.xtc"
       ]
      },
      {
       "output_type": "stream",
       "stream": "stdout",
       "text": [
        "\n",
        "data/SYS94/0_centered.xtc"
       ]
      },
      {
       "output_type": "stream",
       "stream": "stdout",
       "text": [
        "\n",
        "data/SYS85/0_centered.xtc"
       ]
      },
      {
       "output_type": "stream",
       "stream": "stdout",
       "text": [
        "\n",
        "data/SYS19/0_centered.xtc"
       ]
      },
      {
       "output_type": "stream",
       "stream": "stdout",
       "text": [
        "\n",
        "data/SYS61/0_centered.xtc"
       ]
      },
      {
       "output_type": "stream",
       "stream": "stdout",
       "text": [
        "\n",
        "data/SYS74/0_centered.xtc"
       ]
      },
      {
       "output_type": "stream",
       "stream": "stdout",
       "text": [
        "\n",
        "data/SYS23/0_centered.xtc"
       ]
      },
      {
       "output_type": "stream",
       "stream": "stdout",
       "text": [
        "\n",
        "data/SYS28/0_centered.xtc"
       ]
      },
      {
       "output_type": "stream",
       "stream": "stdout",
       "text": [
        "\n",
        "data/SYS82/0_centered.xtc"
       ]
      },
      {
       "output_type": "stream",
       "stream": "stdout",
       "text": [
        "\n",
        "data/SYS72/0_centered.xtc"
       ]
      },
      {
       "output_type": "stream",
       "stream": "stdout",
       "text": [
        "\n",
        "data/SYS95/0_centered.xtc"
       ]
      },
      {
       "output_type": "stream",
       "stream": "stdout",
       "text": [
        "\n",
        "data/SYS26/0_centered.xtc"
       ]
      },
      {
       "output_type": "stream",
       "stream": "stdout",
       "text": [
        "\n",
        "data/SYS53/0_centered.xtc"
       ]
      },
      {
       "output_type": "stream",
       "stream": "stdout",
       "text": [
        "\n",
        "data/SYS45/0_centered.xtc"
       ]
      },
      {
       "output_type": "stream",
       "stream": "stdout",
       "text": [
        "\n",
        "data/SYS12/0_centered.xtc"
       ]
      },
      {
       "output_type": "stream",
       "stream": "stdout",
       "text": [
        "\n",
        "data/SYS60/0_centered.xtc"
       ]
      },
      {
       "output_type": "stream",
       "stream": "stdout",
       "text": [
        "\n",
        "data/SYS4/0_centered.xtc"
       ]
      },
      {
       "output_type": "stream",
       "stream": "stdout",
       "text": [
        "\n",
        "data/SYS24/0_centered.xtc"
       ]
      },
      {
       "output_type": "stream",
       "stream": "stdout",
       "text": [
        "\n",
        "data/SYS36/0_centered.xtc"
       ]
      },
      {
       "output_type": "stream",
       "stream": "stdout",
       "text": [
        "\n",
        "data/SYS10/0_centered.xtc"
       ]
      },
      {
       "output_type": "stream",
       "stream": "stdout",
       "text": [
        "\n",
        "data/SYS64/0_centered.xtc"
       ]
      },
      {
       "output_type": "stream",
       "stream": "stdout",
       "text": [
        "\n",
        "data/SYS79/0_centered.xtc"
       ]
      },
      {
       "output_type": "stream",
       "stream": "stdout",
       "text": [
        "\n",
        "data/SYS68/0_centered.xtc"
       ]
      },
      {
       "output_type": "stream",
       "stream": "stdout",
       "text": [
        "\n",
        "data/SYS13/0_centered.xtc"
       ]
      },
      {
       "output_type": "stream",
       "stream": "stdout",
       "text": [
        "\n",
        "data/SYS78/0_centered.xtc"
       ]
      },
      {
       "output_type": "stream",
       "stream": "stdout",
       "text": [
        "\n",
        "data/SYS52/0_centered.xtc"
       ]
      },
      {
       "output_type": "stream",
       "stream": "stdout",
       "text": [
        "\n",
        "data/SYS21/0_centered.xtc"
       ]
      },
      {
       "output_type": "stream",
       "stream": "stdout",
       "text": [
        "\n",
        "data/SYS100/0_centered.xtc"
       ]
      },
      {
       "output_type": "stream",
       "stream": "stdout",
       "text": [
        "\n",
        "data/SYS86/0_centered.xtc"
       ]
      },
      {
       "output_type": "stream",
       "stream": "stdout",
       "text": [
        "\n",
        "data/SYS43/0_centered.xtc"
       ]
      },
      {
       "output_type": "stream",
       "stream": "stdout",
       "text": [
        "\n",
        "data/SYS39/0_centered.xtc"
       ]
      },
      {
       "output_type": "stream",
       "stream": "stdout",
       "text": [
        "\n",
        "data/SYS3/0_centered.xtc"
       ]
      },
      {
       "output_type": "stream",
       "stream": "stdout",
       "text": [
        "\n"
       ]
      }
     ],
     "prompt_number": 56
    },
    {
     "cell_type": "code",
     "collapsed": false,
     "input": [
      "import cPickle as pickle"
     ],
     "language": "python",
     "metadata": {},
     "outputs": [],
     "prompt_number": 59
    },
    {
     "cell_type": "code",
     "collapsed": false,
     "input": [
      "with open('comds.pickl', 'w') as f:\n",
      "    pickle.dump(comds, f)"
     ],
     "language": "python",
     "metadata": {},
     "outputs": [],
     "prompt_number": 63
    },
    {
     "cell_type": "code",
     "collapsed": false,
     "input": [
      "for comd in comds[2:30:3]:\n",
      "    plt.plot(comd)"
     ],
     "language": "python",
     "metadata": {},
     "outputs": [
      {
       "metadata": {},
       "output_type": "display_data",
       "png": "[encoded data removed]",
       "text": [
        "<matplotlib.figure.Figure at 0xc458f90>"
       ]
      }
     ],
     "prompt_number": 68
    },
    {
     "cell_type": "markdown",
     "metadata": {},
     "source": [
      "# Compare distance to tica"
     ]
    },
    {
     "cell_type": "code",
     "collapsed": false,
     "input": [
      "print len(concat_t), len(comds)\n",
      "for i, (fp, dd) in enumerate(zip(concat_t, comds)):\n",
      "    if len(fp[:,0]) == len(dd):\n",
      "        plt.scatter(fp[::1,0], np.sqrt(dd[::1]), s=1, alpha=0.1, linewidth=0)\n",
      "plt.xlabel('tic1'); plt.ylabel('distance')"
     ],
     "language": "python",
     "metadata": {},
     "outputs": [
      {
       "output_type": "stream",
       "stream": "stdout",
       "text": [
        "100 100\n"
       ]
      },
      {
       "metadata": {},
       "output_type": "pyout",
       "prompt_number": 104,
       "text": [
        "<matplotlib.text.Text at 0x13238350>"
       ]
      },
      {
       "metadata": {},
       "output_type": "display_data",
       "png": "[encoded data removed]",
       "text": [
        "<matplotlib.figure.Figure at 0xf9a8950>"
       ]
      }
     ],
     "prompt_number": 104
    },
    {
     "cell_type": "code",
     "collapsed": false,
     "input": [],
     "language": "python",
     "metadata": {},
     "outputs": []
    }
   ],
   "metadata": {}
  }
 ]
}