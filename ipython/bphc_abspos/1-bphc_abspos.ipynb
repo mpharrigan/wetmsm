{
 "metadata": {
  "name": "",
  "signature": "sha256:d194e21081fcdbe602439504ca7a6050208cd86658aad0268f5472f21339e2ac"
 },
 "nbformat": 3,
 "nbformat_minor": 0,
 "worksheets": [
  {
   "cells": [
    {
     "cell_type": "code",
     "collapsed": false,
     "input": [
      "import pickle\n",
      "import os"
     ],
     "language": "python",
     "metadata": {},
     "outputs": []
    },
    {
     "cell_type": "code",
     "collapsed": false,
     "input": [
      "cd /home/harrigan/biox/implement/water/bphc/"
     ],
     "language": "python",
     "metadata": {},
     "outputs": []
    },
    {
     "cell_type": "code",
     "collapsed": false,
     "input": [
      "with open('abspos/abspos_fns.pickl', 'rb') as f:\n",
      "    fns = pickle.load(f)\n",
      "print(len(fns))"
     ],
     "language": "python",
     "metadata": {},
     "outputs": []
    },
    {
     "cell_type": "code",
     "collapsed": false,
     "input": [
      "print(fns[0])"
     ],
     "language": "python",
     "metadata": {},
     "outputs": [
      {
       "output_type": "stream",
       "stream": "stdout",
       "text": [
        "/home/harrigan/implement/water/bphc/data/SYS62/0_centered.xtc.RawPositionsSuperposeFeaturizer.pickl\n"
       ]
      }
     ],
     "prompt_number": 8
    },
    {
     "cell_type": "code",
     "collapsed": false,
     "input": [
      "nm = 'RawPositionsSuperposeFeaturizer'"
     ],
     "language": "python",
     "metadata": {},
     "outputs": [],
     "prompt_number": 9
    },
    {
     "cell_type": "code",
     "collapsed": false,
     "input": [
      "seqs = []\n",
      "for fn in fns:\n",
      "    # Hackily get relative path so we can load\n",
      "    ofn = fn.split('/')[-3:]\n",
      "    ofn = os.path.join(*ofn)\n",
      "    with open(ofn, 'rb') as f:\n",
      "        s = pickle.load(f)\n",
      "    seqs.append(s)"
     ],
     "language": "python",
     "metadata": {},
     "outputs": []
    },
    {
     "cell_type": "code",
     "collapsed": false,
     "input": [
      "seqs[0].shape"
     ],
     "language": "python",
     "metadata": {},
     "outputs": []
    },
    {
     "cell_type": "code",
     "collapsed": false,
     "input": [
      "cd ~/implement/wetmsm/bphc/abspos/"
     ],
     "language": "python",
     "metadata": {},
     "outputs": [
      {
       "output_type": "stream",
       "stream": "stdout",
       "text": [
        "/home/harrigan/implement/wetmsm/bphc/drid\n"
       ]
      }
     ],
     "prompt_number": 8
    },
    {
     "cell_type": "code",
     "collapsed": false,
     "input": [
      "with open('drid.pickl', 'wb') as f:\n",
      "    pickle.dump(seqs, f)\n",
      "with open('drid_fns.pickl', 'wb') as f:\n",
      "    pickle.dump(fns, f)"
     ],
     "language": "python",
     "metadata": {},
     "outputs": [],
     "prompt_number": 9
    }
   ],
   "metadata": {}
  }
 ]
}