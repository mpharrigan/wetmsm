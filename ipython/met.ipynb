{
 "metadata": {
  "name": "",
  "signature": "sha256:d429aaa1965ac54ed889452b7d325f18f62fb05c3b14711e2a29fdcfbd655513"
 },
 "nbformat": 3,
 "nbformat_minor": 0,
 "worksheets": [
  {
   "cells": [
    {
     "cell_type": "code",
     "collapsed": false,
     "input": [
      "import cPickle as pickl\n",
      "import mdtraj as md\n",
      "import mixtape.featurizer\n",
      "import mixtape\n",
      "from matplotlib import pyplot as plt\n",
      "import scipy.stats"
     ],
     "language": "python",
     "metadata": {},
     "outputs": [],
     "prompt_number": 1
    },
    {
     "cell_type": "code",
     "collapsed": false,
     "input": [
      "cd ~/implement/mixtape-water/"
     ],
     "language": "python",
     "metadata": {},
     "outputs": [
      {
       "output_type": "stream",
       "stream": "stdout",
       "text": [
        "/home/harrigan/implement/mixtape-water\n"
       ]
      }
     ],
     "prompt_number": 2
    },
    {
     "cell_type": "code",
     "collapsed": false,
     "input": [
      "%load_ext autoreload\n",
      "%autoreload 2\n",
      "%matplotlib inline"
     ],
     "language": "python",
     "metadata": {},
     "outputs": [],
     "prompt_number": 3
    },
    {
     "cell_type": "code",
     "collapsed": false,
     "input": [
      "traj = md.load('met-s100.h5')\n",
      "traj = md.load('trajs/SYS1/0_centered.xtc', top='met.pdb')"
     ],
     "language": "python",
     "metadata": {},
     "outputs": [],
     "prompt_number": 287
    },
    {
     "cell_type": "code",
     "collapsed": false,
     "input": [
      "solute_ind = np.loadtxt('solute_indices.dat', dtype=int, ndmin=2)\n",
      "solvent_ind = np.loadtxt('solvent_indices.dat', dtype=int, ndmin=2)\n",
      "sfeat = mixtape.featurizer.GaussianSolventFeaturizer(solute_ind, solvent_ind, 0.5, periodic=True)"
     ],
     "language": "python",
     "metadata": {},
     "outputs": [],
     "prompt_number": 180
    },
    {
     "cell_type": "code",
     "collapsed": false,
     "input": [
      "fps = sfeat.featurize(traj)"
     ],
     "language": "python",
     "metadata": {},
     "outputs": [],
     "prompt_number": 6
    },
    {
     "cell_type": "code",
     "collapsed": false,
     "input": [
      "fps = np.load('solventfp.npy')"
     ],
     "language": "python",
     "metadata": {},
     "outputs": [],
     "prompt_number": 4
    },
    {
     "cell_type": "code",
     "collapsed": false,
     "input": [
      "fpss = np.load('trajs/SYS1/shell_count.npy')\n",
      "fps = np.reshape(fpss, (fpss.shape[0], fpss.shape[1] * fpss.shape[2]))\n",
      "print fps.shape"
     ],
     "language": "python",
     "metadata": {},
     "outputs": [
      {
       "output_type": "stream",
       "stream": "stdout",
       "text": [
        "(51, 138)\n"
       ]
      }
     ],
     "prompt_number": 201
    },
    {
     "cell_type": "code",
     "collapsed": false,
     "input": [
      "plt.plot(fps[:, 12])\n",
      "plt.xlabel('Time'); plt.ylabel('Atom 12 FP');"
     ],
     "language": "python",
     "metadata": {},
     "outputs": [
      {
       "metadata": {},
       "output_type": "display_data",
       "png": "[encoded data removed]",
       "text": [
        "<matplotlib.figure.Figure at 0x708b190>"
       ]
      }
     ],
     "prompt_number": 202
    },
    {
     "cell_type": "code",
     "collapsed": false,
     "input": [
      "from sklearn.decomposition import PCA, KernelPCA\n",
      "from mixtape.tica import tICA"
     ],
     "language": "python",
     "metadata": {},
     "outputs": [],
     "prompt_number": 203
    },
    {
     "cell_type": "code",
     "collapsed": false,
     "input": [
      "pca = PCA(n_components=2)\n",
      "tica = tICA(n_components=2, offset=5)"
     ],
     "language": "python",
     "metadata": {},
     "outputs": [],
     "prompt_number": 204
    },
    {
     "cell_type": "code",
     "collapsed": false,
     "input": [
      "pca.fit(fps)\n",
      "tica.fit(fps)"
     ],
     "language": "python",
     "metadata": {},
     "outputs": [
      {
       "metadata": {},
       "output_type": "pyout",
       "prompt_number": 205,
       "text": [
        "tICA(gamma=0.05, n_components=2, offset=5)"
       ]
      }
     ],
     "prompt_number": 205
    },
    {
     "cell_type": "code",
     "collapsed": false,
     "input": [
      "pca.components_.shape"
     ],
     "language": "python",
     "metadata": {},
     "outputs": [
      {
       "metadata": {},
       "output_type": "pyout",
       "prompt_number": 206,
       "text": [
        "(2, 138)"
       ]
      }
     ],
     "prompt_number": 206
    },
    {
     "cell_type": "markdown",
     "metadata": {},
     "source": [
      "# Use tICA to identify atoms\n",
      "These atoms change solvation over time. Here we can identify atoms. With spherical shells, we will be able to identify shells of water atoms."
     ]
    },
    {
     "cell_type": "code",
     "collapsed": false,
     "input": [
      "#pca_comp1 = 10 * pca.components_[0]**2\n",
      "tica_comp1 = 1000 * tica.components_[0]**2\n",
      "tica_comp2 = 500 * tica.components_[1]**2\n",
      "#plt.scatter(range(pca.components_.shape[1]), pca_comp1, s=200)\n",
      "plt.scatter(range(tica.components_.shape[1]), tica_comp1, s=100, c='r')\n",
      "plt.scatter(range(tica.components_.shape[1]), tica_comp2, s=100, c='g')"
     ],
     "language": "python",
     "metadata": {},
     "outputs": [
      {
       "metadata": {},
       "output_type": "pyout",
       "prompt_number": 217,
       "text": [
        "<matplotlib.collections.PathCollection at 0x9a87950>"
       ]
      },
      {
       "metadata": {},
       "output_type": "display_data",
       "png": "[encoded data removed]",
       "text": [
        "<matplotlib.figure.Figure at 0x9a87910>"
       ]
      }
     ],
     "prompt_number": 217
    },
    {
     "cell_type": "code",
     "collapsed": false,
     "input": [
      "## From pca\n",
      "#x1 = np.dot(fps, pca.components_[0])\n",
      "#x2 = np.dot(fps, pca.components_[1])"
     ],
     "language": "python",
     "metadata": {},
     "outputs": [],
     "prompt_number": 139
    },
    {
     "cell_type": "code",
     "collapsed": false,
     "input": [
      "## From tICA\n",
      "x1 = np.dot(fps, tica.components_[0])\n",
      "x2 = np.dot(fps, tica.components_[1])"
     ],
     "language": "python",
     "metadata": {},
     "outputs": [],
     "prompt_number": 208
    },
    {
     "cell_type": "code",
     "collapsed": false,
     "input": [
      "kde = scipy.stats.gaussian_kde(np.array([x1,x2]))"
     ],
     "language": "python",
     "metadata": {},
     "outputs": [],
     "prompt_number": 209
    },
    {
     "cell_type": "code",
     "collapsed": false,
     "input": [
      "npoints = 100\n",
      "xx, yy = np.meshgrid(np.linspace(np.min(x1), np.max(x1), npoints), np.linspace(np.min(x2), np.max(x2), npoints))\n",
      "pos = np.vstack([xx.ravel(), yy.ravel()])\n",
      "pos.shape"
     ],
     "language": "python",
     "metadata": {},
     "outputs": [
      {
       "metadata": {},
       "output_type": "pyout",
       "prompt_number": 210,
       "text": [
        "(2, 10000)"
       ]
      }
     ],
     "prompt_number": 210
    },
    {
     "cell_type": "code",
     "collapsed": false,
     "input": [
      "zz = kde.evaluate(pos)\n",
      "zz = np.reshape(zz.T, xx.shape)"
     ],
     "language": "python",
     "metadata": {},
     "outputs": [],
     "prompt_number": 211
    },
    {
     "cell_type": "code",
     "collapsed": false,
     "input": [
      "plt.contourf(xx,yy,zz, 200)"
     ],
     "language": "python",
     "metadata": {},
     "outputs": [
      {
       "metadata": {},
       "output_type": "pyout",
       "prompt_number": 212,
       "text": [
        "<matplotlib.contour.QuadContourSet instance at 0x8c19290>"
       ]
      },
      {
       "metadata": {},
       "output_type": "display_data",
       "png": "[encoded data removed]",
       "text": [
        "<matplotlib.figure.Figure at 0x7168ed0>"
       ]
      }
     ],
     "prompt_number": 212
    },
    {
     "cell_type": "markdown",
     "metadata": {},
     "source": [
      "# Visualize in VMD"
     ]
    },
    {
     "cell_type": "code",
     "collapsed": false,
     "input": [
      "pdb = md.load('met.pdb')"
     ],
     "language": "python",
     "metadata": {},
     "outputs": [],
     "prompt_number": 213
    },
    {
     "cell_type": "code",
     "collapsed": false,
     "input": [
      "extradat = np.zeros((pdb.n_atoms, 2))"
     ],
     "language": "python",
     "metadata": {},
     "outputs": [],
     "prompt_number": 214
    },
    {
     "cell_type": "code",
     "collapsed": false,
     "input": [
      "print tica_comp.shape\n",
      "print solute_ind.shape\n",
      "print extradat[solute_ind,0].shape"
     ],
     "language": "python",
     "metadata": {},
     "outputs": [
      {
       "output_type": "stream",
       "stream": "stdout",
       "text": [
        "(138,)\n",
        "(23, 1)\n",
        "(23, 1)\n"
       ]
      }
     ],
     "prompt_number": 218
    },
    {
     "cell_type": "code",
     "collapsed": false,
     "input": [
      "extradat[solute_ind, 0] = tica_comp1[:, np.newaxis]\n",
      "extradat[solute_ind, 1] = tica_comp2[:, np.newaxis]"
     ],
     "language": "python",
     "metadata": {},
     "outputs": [
      {
       "ename": "ValueError",
       "evalue": "array is not broadcastable to correct shape",
       "output_type": "pyerr",
       "traceback": [
        "\u001b[1;31m---------------------------------------------------------------------------\u001b[0m\n\u001b[1;31mValueError\u001b[0m                                Traceback (most recent call last)",
        "\u001b[1;32m<ipython-input-216-597acb2c06d9>\u001b[0m in \u001b[0;36m<module>\u001b[1;34m()\u001b[0m\n\u001b[1;32m----> 1\u001b[1;33m \u001b[0mextradat\u001b[0m\u001b[1;33m[\u001b[0m\u001b[0msolute_ind\u001b[0m\u001b[1;33m,\u001b[0m \u001b[1;36m0\u001b[0m\u001b[1;33m]\u001b[0m \u001b[1;33m=\u001b[0m \u001b[0mtica_comp1\u001b[0m\u001b[1;33m[\u001b[0m\u001b[1;33m:\u001b[0m\u001b[1;33m,\u001b[0m \u001b[0mnp\u001b[0m\u001b[1;33m.\u001b[0m\u001b[0mnewaxis\u001b[0m\u001b[1;33m]\u001b[0m\u001b[1;33m\u001b[0m\u001b[0m\n\u001b[0m\u001b[0;32m      2\u001b[0m \u001b[0mextradat\u001b[0m\u001b[1;33m[\u001b[0m\u001b[0msolute_ind\u001b[0m\u001b[1;33m,\u001b[0m \u001b[1;36m1\u001b[0m\u001b[1;33m]\u001b[0m \u001b[1;33m=\u001b[0m \u001b[0mtica_comp2\u001b[0m\u001b[1;33m[\u001b[0m\u001b[1;33m:\u001b[0m\u001b[1;33m,\u001b[0m \u001b[0mnp\u001b[0m\u001b[1;33m.\u001b[0m\u001b[0mnewaxis\u001b[0m\u001b[1;33m]\u001b[0m\u001b[1;33m\u001b[0m\u001b[0m\n",
        "\u001b[1;31mValueError\u001b[0m: array is not broadcastable to correct shape"
       ]
      }
     ],
     "prompt_number": 216
    },
    {
     "cell_type": "code",
     "collapsed": false,
     "input": [
      "extradat[25:34]"
     ],
     "language": "python",
     "metadata": {},
     "outputs": [
      {
       "metadata": {},
       "output_type": "pyout",
       "prompt_number": 54,
       "text": [
        "array([[ 0.00426108,  0.01698342],\n",
        "       [ 0.26791718,  0.0672595 ],\n",
        "       [ 0.        ,  0.        ],\n",
        "       [ 0.        ,  0.        ],\n",
        "       [ 0.        ,  0.        ],\n",
        "       [ 0.02250624,  0.06749325],\n",
        "       [ 0.63408129,  0.03299056],\n",
        "       [ 0.22535624,  0.04710319],\n",
        "       [ 1.62369803,  0.27640576]])"
       ]
      }
     ],
     "prompt_number": 54
    },
    {
     "cell_type": "code",
     "collapsed": false,
     "input": [
      "nxyz = np.hstack((pdb.xyz[0], extradat))\n",
      "pdb._xyz = nxyz[np.newaxis, :, :]"
     ],
     "language": "python",
     "metadata": {},
     "outputs": [],
     "prompt_number": 55
    },
    {
     "cell_type": "code",
     "collapsed": false,
     "input": [
      "pdb.save('met_occ.pdb')"
     ],
     "language": "python",
     "metadata": {},
     "outputs": [],
     "prompt_number": 56
    },
    {
     "cell_type": "markdown",
     "metadata": {},
     "source": [
      "# Extra data for solvent"
     ]
    },
    {
     "cell_type": "code",
     "collapsed": false,
     "input": [
      "extradat = np.zeros((traj.n_frames, traj.n_atoms, 2))"
     ],
     "language": "python",
     "metadata": {},
     "outputs": [],
     "prompt_number": 288
    },
    {
     "cell_type": "code",
     "collapsed": false,
     "input": [
      "assn = np.load('trajs/SYS1/shell_assign.npy')\n",
      "print 'assn', assn.shape\n",
      "print 'oshap', fpss.shape\n",
      "print 'ticshap1', tica_comp1.shape\n",
      "tica_comp1r = np.reshape(tica_comp1, (fpss.shape[1:]))\n",
      "print 'ticshap2', tica_comp1r.shape"
     ],
     "language": "python",
     "metadata": {},
     "outputs": [
      {
       "output_type": "stream",
       "stream": "stdout",
       "text": [
        "assn (942874, 4)\n",
        "oshap (51, 23, 6)\n",
        "ticshap1 (138,)\n",
        "ticshap2 (23, 6)\n"
       ]
      }
     ],
     "prompt_number": 289
    },
    {
     "cell_type": "code",
     "collapsed": false,
     "input": [
      "# Translate to tic\n",
      "big_solv_to_tic = np.zeros((len(assn), 3))\n",
      "big_solv_to_tic[:,0:2] = assn[:,0:2]\n",
      "big_solv_to_tic[:,2] = tica_comp1r[(assn[:,2], assn[:,3])]"
     ],
     "language": "python",
     "metadata": {},
     "outputs": [],
     "prompt_number": 290
    },
    {
     "cell_type": "code",
     "collapsed": false,
     "input": [
      "%pdb on"
     ],
     "language": "python",
     "metadata": {},
     "outputs": [
      {
       "output_type": "stream",
       "stream": "stdout",
       "text": [
        "Automatic pdb calling has been turned ON\n"
       ]
      }
     ],
     "prompt_number": 294
    },
    {
     "cell_type": "code",
     "collapsed": false,
     "input": [
      "\n",
      "\n",
      "for frame_i in xrange(traj.n_frames):\n",
      "    \n",
      "    frame1 = big_solv_to_tic[big_solv_to_tic[:,0] == frame_i, 1:3]\n",
      "    fr1v, fr1g = sum_by_group(frame1[:,1], frame1[:,0])\n",
      "    fr1g = np.asarray(fr1g, dtype=int)    \n",
      "    \n",
      "    \n",
      "    extradat[frame_i, solvent_ind[fr1g], 0] = fr1v[:, np.newaxis]\n",
      "\n",
      "nxyz = np.concatenate((traj.xyz, extradat), axis=2)\n",
      "print nxyz.shape\n",
      "    "
     ],
     "language": "python",
     "metadata": {},
     "outputs": [
      {
       "output_type": "stream",
       "stream": "stdout",
       "text": [
        "(51, 2568, 5)\n"
       ]
      }
     ],
     "prompt_number": 298
    },
    {
     "cell_type": "code",
     "collapsed": false,
     "input": [
      "traj._xyz = nxyz\n",
      "traj.save('met_wocc_all.pdb')"
     ],
     "language": "python",
     "metadata": {},
     "outputs": [],
     "prompt_number": 299
    },
    {
     "cell_type": "code",
     "collapsed": false,
     "input": [
      "pdb.save('met_wocc.pdb')"
     ],
     "language": "python",
     "metadata": {},
     "outputs": [],
     "prompt_number": 275
    },
    {
     "cell_type": "markdown",
     "metadata": {},
     "source": [
      "## Use sparse-matrix-like thing for Assignments"
     ]
    },
    {
     "cell_type": "code",
     "collapsed": false,
     "input": [
      "solute_i = solute_ind[22, 0]\n",
      "atom_pairs = np.zeros((len(solvent_ind), 2))\n",
      "atom_pairs[:, 0] = solute_i\n",
      "atom_pairs[:, 1] = solvent_ind[:,0]"
     ],
     "language": "python",
     "metadata": {},
     "outputs": [],
     "prompt_number": 186
    },
    {
     "cell_type": "code",
     "collapsed": false,
     "input": [
      "distances = md.compute_distances(traj, atom_pairs, periodic=True)\n",
      "print distances.shape"
     ],
     "language": "python",
     "metadata": {},
     "outputs": [
      {
       "output_type": "stream",
       "stream": "stdout",
       "text": [
        "(501, 831)\n"
       ]
      }
     ],
     "prompt_number": 191
    },
    {
     "cell_type": "code",
     "collapsed": false,
     "input": [
      "shell_bool = np.logical_and(distances >= 0.0, distances < 0.5)"
     ],
     "language": "python",
     "metadata": {},
     "outputs": [],
     "prompt_number": 188
    },
    {
     "cell_type": "code",
     "collapsed": false,
     "input": [
      "frame_is, solv_is = np.where(shell_bool)\n",
      "print len(frame_is)\n",
      "print len(solv_is)"
     ],
     "language": "python",
     "metadata": {},
     "outputs": [
      {
       "output_type": "stream",
       "stream": "stdout",
       "text": [
        "4868\n",
        "4868\n"
       ]
      }
     ],
     "prompt_number": 192
    },
    {
     "cell_type": "code",
     "collapsed": false,
     "input": [
      "frame_solv = np.asarray(np.where(shell_bool)).T\n",
      "solu_shell = np.zeros((len(frame_solv), 2), dtype=int)\n",
      "solu_shell[:,0] = solute_i\n",
      "solu_shell[:,1] = 4\n",
      "assignments_chunk = np.hstack([frame_solv, solu_shell])\n",
      "print assignments_chunk.shape\n",
      "print assignments_chunk.dtype"
     ],
     "language": "python",
     "metadata": {},
     "outputs": [
      {
       "output_type": "stream",
       "stream": "stdout",
       "text": [
        "(4868, 4)\n",
        "int64\n"
       ]
      }
     ],
     "prompt_number": 200
    },
    {
     "cell_type": "markdown",
     "metadata": {},
     "source": [
      "## Aggregation function"
     ]
    },
    {
     "cell_type": "code",
     "collapsed": false,
     "input": [
      "def sum_by_group(values, groups):\n",
      "    \"\"\"Group, then sum\n",
      "    \n",
      "    http://stackoverflow.com/a/8732260\n",
      "    \"\"\"\n",
      "    order = np.argsort(groups)\n",
      "    groups = groups[order]\n",
      "    values = values[order]\n",
      "    values.cumsum(out=values)\n",
      "    index = np.ones(len(groups), 'bool')\n",
      "    index[:-1] = groups[1:] != groups[:-1]\n",
      "    values = values[index]\n",
      "    groups = groups[index]\n",
      "    values[1:] = values[1:] - values[:-1]\n",
      "    return values, groups"
     ],
     "language": "python",
     "metadata": {},
     "outputs": [],
     "prompt_number": 249
    },
    {
     "cell_type": "code",
     "collapsed": false,
     "input": [],
     "language": "python",
     "metadata": {},
     "outputs": []
    }
   ],
   "metadata": {}
  }
 ]
}