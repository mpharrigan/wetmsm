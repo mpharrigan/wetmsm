{
 "metadata": {
  "name": "",
  "signature": "sha256:58cfd2dd1f58abaea087d75b2d769feee432a72d75a3903dbe94104212acd07a"
 },
 "nbformat": 3,
 "nbformat_minor": 0,
 "worksheets": [
  {
   "cells": [
    {
     "cell_type": "code",
     "collapsed": false,
     "input": [
      "%load_ext autoreload\n",
      "%autoreload 2\n",
      "%matplotlib inline"
     ],
     "language": "python",
     "metadata": {},
     "outputs": [],
     "prompt_number": 1
    },
    {
     "cell_type": "code",
     "collapsed": false,
     "input": [
      "cd ~/implement/wetmsm/bphc/"
     ],
     "language": "python",
     "metadata": {},
     "outputs": [
      {
       "output_type": "stream",
       "stream": "stdout",
       "text": [
        "/home/harrigan/implement/wetmsm/bphc\n"
       ]
      }
     ],
     "prompt_number": 2
    },
    {
     "cell_type": "code",
     "collapsed": false,
     "input": [
      "import pickle"
     ],
     "language": "python",
     "metadata": {},
     "outputs": [],
     "prompt_number": 3
    },
    {
     "cell_type": "code",
     "collapsed": false,
     "input": [
      "with open('fp_ic.pickl', 'rb') as f:\n",
      "    fp_ic = pickle.load(f)"
     ],
     "language": "python",
     "metadata": {},
     "outputs": [],
     "prompt_number": 4
    },
    {
     "cell_type": "markdown",
     "metadata": {},
     "source": [
      "# Build an MSM"
     ]
    },
    {
     "cell_type": "markdown",
     "metadata": {},
     "source": [
      "## Do with smaller"
     ]
    },
    {
     "cell_type": "code",
     "collapsed": false,
     "input": [
      "#fp2d_all = [fp2d[::10, :100] for fp2d in fp2d_all]"
     ],
     "language": "python",
     "metadata": {},
     "outputs": [],
     "prompt_number": 62
    },
    {
     "cell_type": "markdown",
     "metadata": {},
     "source": [
      "## Ok"
     ]
    },
    {
     "cell_type": "code",
     "collapsed": false,
     "input": [
      "_, n_features = fp_ic[0].shape\n",
      "n_trajs = len(fp_ic)\n",
      "n_datapoint = int(np.sum([len(fp2d) for fp2d in fp_ic]))\n",
      "print(\"{} features in {} trajs\\nwith {} total data points\\ngiving {} \\\n",
      "datapoints per traj\\nor {:.2f} datapoints per feature\".format(\n",
      "            n_features, n_trajs, n_datapoint, n_datapoint/n_trajs, n_datapoint / (n_features)))"
     ],
     "language": "python",
     "metadata": {},
     "outputs": [
      {
       "output_type": "stream",
       "stream": "stdout",
       "text": [
        "1168 features in 100 trajs\n",
        "with 87704 total data points\n",
        "giving 877.04 datapoints per traj\n",
        "or 75.09 datapoints per feature\n"
       ]
      }
     ],
     "prompt_number": 7
    },
    {
     "cell_type": "code",
     "collapsed": false,
     "input": [
      "from mixtape.cluster import KMeans, KCenters\n",
      "from mixtape.markovstatemodel import MarkovStateModel"
     ],
     "language": "python",
     "metadata": {},
     "outputs": [],
     "prompt_number": 8
    },
    {
     "cell_type": "code",
     "collapsed": false,
     "input": [
      "kmeans = KMeans(n_clusters=100)\n",
      "#kmeans = KCenters(n_clusters=100)"
     ],
     "language": "python",
     "metadata": {},
     "outputs": [],
     "prompt_number": 9
    },
    {
     "cell_type": "code",
     "collapsed": false,
     "input": [
      "kmeans.fit(fp2d_all)"
     ],
     "language": "python",
     "metadata": {},
     "outputs": []
    },
    {
     "cell_type": "code",
     "collapsed": false,
     "input": [
      "lagtimes = list()\n",
      "timescales = list()\n",
      "for lt in range(1, 30, 2):\n",
      "    print(lt)\n",
      "    msm = MarkovStateModel(lag_time=lt, n_timescales=20)\n",
      "    msm.fit(kmeans.labels_)\n",
      "    timescales.append(msm.timescales_)\n",
      "    lagtimes.append([lt] * msm.n_timescales)"
     ],
     "language": "python",
     "metadata": {},
     "outputs": [
      {
       "output_type": "stream",
       "stream": "stdout",
       "text": [
        "1\n",
        "20:16:08 - Abnormal termination of BFGS likelihood maximization.  Error code 2"
       ]
      },
      {
       "output_type": "stream",
       "stream": "stdout",
       "text": [
        "\n"
       ]
      },
      {
       "output_type": "stream",
       "stream": "stderr",
       "text": [
        "/home/harrigan/opt/Python-3.4/lib/python3.4/site-packages/msmbuilder-2.8.3-py3.4.egg/msmbuilder/MSMLib.py:1239: DeprecationWarning: The 'warn' method is deprecated, use 'warning' instead\n",
        "  info_dict[\"warnflag\"])\n",
        "/home/harrigan/opt/Python-3.4/lib/python3.4/site-packages/msmbuilder-2.8.3-py3.4.egg/msmbuilder/MSMLib.py:1239: DeprecationWarning: The 'warn' method is deprecated, use 'warning' instead\n",
        "  info_dict[\"warnflag\"])\n"
       ]
      },
      {
       "output_type": "stream",
       "stream": "stdout",
       "text": [
        "3\n",
        "20:16:09 - Abnormal termination of BFGS likelihood maximization.  Error code 2"
       ]
      },
      {
       "output_type": "stream",
       "stream": "stdout",
       "text": [
        "\n"
       ]
      },
      {
       "output_type": "stream",
       "stream": "stdout",
       "text": [
        "5\n",
        "20:16:11 - Abnormal termination of BFGS likelihood maximization.  Error code 2"
       ]
      },
      {
       "output_type": "stream",
       "stream": "stdout",
       "text": [
        "\n"
       ]
      },
      {
       "output_type": "stream",
       "stream": "stderr",
       "text": [
        "/home/harrigan/opt/Python-3.4/lib/python3.4/site-packages/msmbuilder-2.8.3-py3.4.egg/msmbuilder/MSMLib.py:1239: DeprecationWarning: The 'warn' method is deprecated, use 'warning' instead\n",
        "  info_dict[\"warnflag\"])\n",
        "/home/harrigan/opt/Python-3.4/lib/python3.4/site-packages/msmbuilder-2.8.3-py3.4.egg/msmbuilder/MSMLib.py:1239: DeprecationWarning: The 'warn' method is deprecated, use 'warning' instead\n",
        "  info_dict[\"warnflag\"])\n"
       ]
      },
      {
       "output_type": "stream",
       "stream": "stdout",
       "text": [
        "7\n",
        "20:16:12 - Abnormal termination of BFGS likelihood maximization.  Error code 2"
       ]
      },
      {
       "output_type": "stream",
       "stream": "stdout",
       "text": [
        "\n"
       ]
      },
      {
       "output_type": "stream",
       "stream": "stdout",
       "text": [
        "9\n",
        "20:16:14 - Abnormal termination of BFGS likelihood maximization.  Error code 2"
       ]
      },
      {
       "output_type": "stream",
       "stream": "stdout",
       "text": [
        "\n"
       ]
      },
      {
       "output_type": "stream",
       "stream": "stderr",
       "text": [
        "/home/harrigan/opt/Python-3.4/lib/python3.4/site-packages/msmbuilder-2.8.3-py3.4.egg/msmbuilder/MSMLib.py:1239: DeprecationWarning: The 'warn' method is deprecated, use 'warning' instead\n",
        "  info_dict[\"warnflag\"])\n",
        "/home/harrigan/opt/Python-3.4/lib/python3.4/site-packages/msmbuilder-2.8.3-py3.4.egg/msmbuilder/MSMLib.py:1239: DeprecationWarning: The 'warn' method is deprecated, use 'warning' instead\n",
        "  info_dict[\"warnflag\"])\n"
       ]
      },
      {
       "output_type": "stream",
       "stream": "stdout",
       "text": [
        "11\n",
        "20:16:15 - Abnormal termination of BFGS likelihood maximization.  Error code 2"
       ]
      },
      {
       "output_type": "stream",
       "stream": "stdout",
       "text": [
        "\n"
       ]
      },
      {
       "output_type": "stream",
       "stream": "stdout",
       "text": [
        "13\n",
        "15"
       ]
      },
      {
       "output_type": "stream",
       "stream": "stdout",
       "text": [
        "\n",
        "20:16:18 - Abnormal termination of BFGS likelihood maximization.  Error code 2"
       ]
      },
      {
       "output_type": "stream",
       "stream": "stdout",
       "text": [
        "\n"
       ]
      },
      {
       "output_type": "stream",
       "stream": "stdout",
       "text": [
        "17\n",
        "19"
       ]
      },
      {
       "output_type": "stream",
       "stream": "stdout",
       "text": [
        "\n",
        "21"
       ]
      },
      {
       "output_type": "stream",
       "stream": "stderr",
       "text": [
        "/home/harrigan/opt/Python-3.4/lib/python3.4/site-packages/msmbuilder-2.8.3-py3.4.egg/msmbuilder/MSMLib.py:1239: DeprecationWarning: The 'warn' method is deprecated, use 'warning' instead\n",
        "  info_dict[\"warnflag\"])\n",
        "/home/harrigan/opt/Python-3.4/lib/python3.4/site-packages/msmbuilder-2.8.3-py3.4.egg/msmbuilder/MSMLib.py:1239: DeprecationWarning: The 'warn' method is deprecated, use 'warning' instead\n",
        "  info_dict[\"warnflag\"])\n"
       ]
      },
      {
       "output_type": "stream",
       "stream": "stdout",
       "text": [
        "\n",
        "20:16:23 - Abnormal termination of BFGS likelihood maximization.  Error code 2"
       ]
      },
      {
       "output_type": "stream",
       "stream": "stdout",
       "text": [
        "\n"
       ]
      },
      {
       "output_type": "stream",
       "stream": "stdout",
       "text": [
        "23\n",
        "25"
       ]
      },
      {
       "output_type": "stream",
       "stream": "stdout",
       "text": [
        "\n",
        "20:16:26 - Abnormal termination of BFGS likelihood maximization.  Error code 2"
       ]
      },
      {
       "output_type": "stream",
       "stream": "stdout",
       "text": [
        "\n"
       ]
      },
      {
       "output_type": "stream",
       "stream": "stderr",
       "text": [
        "/home/harrigan/opt/Python-3.4/lib/python3.4/site-packages/msmbuilder-2.8.3-py3.4.egg/msmbuilder/MSMLib.py:1239: DeprecationWarning: The 'warn' method is deprecated, use 'warning' instead\n",
        "  info_dict[\"warnflag\"])\n",
        "/home/harrigan/opt/Python-3.4/lib/python3.4/site-packages/msmbuilder-2.8.3-py3.4.egg/msmbuilder/MSMLib.py:1239: DeprecationWarning: The 'warn' method is deprecated, use 'warning' instead\n",
        "  info_dict[\"warnflag\"])\n"
       ]
      },
      {
       "output_type": "stream",
       "stream": "stdout",
       "text": [
        "27\n",
        "20:16:28 - Abnormal termination of BFGS likelihood maximization.  Error code 2"
       ]
      },
      {
       "output_type": "stream",
       "stream": "stdout",
       "text": [
        "\n"
       ]
      },
      {
       "output_type": "stream",
       "stream": "stdout",
       "text": [
        "29\n"
       ]
      }
     ],
     "prompt_number": 125
    },
    {
     "cell_type": "code",
     "collapsed": false,
     "input": [
      "timescales = np.array(timescales).flatten()\n",
      "lagtimes = np.array(lagtimes).flatten()\n",
      "print(timescales.shape, lagtimes.shape)"
     ],
     "language": "python",
     "metadata": {},
     "outputs": [
      {
       "output_type": "stream",
       "stream": "stdout",
       "text": [
        "(300,) (300,)\n"
       ]
      }
     ],
     "prompt_number": 126
    },
    {
     "cell_type": "code",
     "collapsed": false,
     "input": [
      "plt.scatter(lagtimes, timescales)\n",
      "plt.yscale('log')"
     ],
     "language": "python",
     "metadata": {},
     "outputs": [
      {
       "metadata": {},
       "output_type": "display_data",
       "png": "[encoded data removed]",
       "text": [
        "<matplotlib.figure.Figure at 0x7f1d8d0dc0f0>"
       ]
      }
     ],
     "prompt_number": 127
    },
    {
     "cell_type": "code",
     "collapsed": false,
     "input": [
      "plt.hlines(msm.timescales_, 0, 1, 'b')\n",
      "plt.yscale('log')"
     ],
     "language": "python",
     "metadata": {},
     "outputs": [
      {
       "metadata": {},
       "output_type": "display_data",
       "png": "[encoded data removed]",
       "text": [
        "<matplotlib.figure.Figure at 0x7f1d8d09b898>"
       ]
      }
     ],
     "prompt_number": 109
    },
    {
     "cell_type": "code",
     "collapsed": false,
     "input": [],
     "language": "python",
     "metadata": {},
     "outputs": []
    }
   ],
   "metadata": {}
  }
 ]
}