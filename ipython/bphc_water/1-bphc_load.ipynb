{
 "metadata": {
  "name": "",
  "signature": "sha256:64aec93b04b56dfd7940cec122d716df85ba4dfd471362f575732f0dbe58848f"
 },
 "nbformat": 3,
 "nbformat_minor": 0,
 "worksheets": [
  {
   "cells": [
    {
     "cell_type": "code",
     "collapsed": false,
     "input": [
      "%matplotlib inline"
     ],
     "language": "python",
     "metadata": {},
     "outputs": [],
     "prompt_number": 1
    },
    {
     "cell_type": "code",
     "collapsed": false,
     "input": [
      "cd ~/biox/implement/water/bphc/"
     ],
     "language": "python",
     "metadata": {},
     "outputs": [
      {
       "output_type": "stream",
       "stream": "stdout",
       "text": [
        "/home/harrigan/mnt/biox/biox3/home/harrigan/implement/water/bphc\n"
       ]
      }
     ],
     "prompt_number": 2
    },
    {
     "cell_type": "markdown",
     "metadata": {},
     "source": [
      "## Load in fingerprint"
     ]
    },
    {
     "cell_type": "code",
     "collapsed": false,
     "input": [
      "import tables\n",
      "import glob"
     ],
     "language": "python",
     "metadata": {},
     "outputs": [],
     "prompt_number": 3
    },
    {
     "cell_type": "code",
     "collapsed": false,
     "input": [
      "fp3d_all = []\n",
      "fn_all = []\n",
      "for sc_fn in glob.glob('data/SYS*/shells-*_count.h5'):\n",
      "    counts_f = tables.open_file(sc_fn)\n",
      "    fp3d_tmp = counts_f.root.shell_counts\n",
      "    print(sc_fn, fp3d_tmp.shape)\n",
      "    \n",
      "    fp3d_all.append(fp3d_tmp)\n",
      "    fn_all.append(sc_fn)"
     ],
     "language": "python",
     "metadata": {},
     "outputs": [
      {
       "output_type": "stream",
       "stream": "stdout",
       "text": [
        "data/SYS62/shells-0_centered.xtc_count.h5 (1001, 292, 5)\n",
        "data/SYS57/shells-0_centered.xtc_count.h5 (1001, 292, 5)\n",
        "data/SYS29/shells-0_centered.xtc_count.h5 (1001, 292, 5)\n",
        "data/SYS33/shells-0_centered.xtc_count.h5 (1001, 292, 5)\n",
        "data/SYS38/shells-0_centered.xtc_count.h5 (1001, 292, 5)\n",
        "data/SYS8/shells-0_centered.xtc_count.h5 (1001, 292, 5)\n",
        "data/SYS65/shells-0_centered.xtc_count.h5 (1001, 292, 5)\n",
        "data/SYS31/shells-0_centered.xtc_count.h5 (1001, 292, 5)\n",
        "data/SYS34/shells-0_centered.xtc_count.h5 (1001, 292, 5)\n",
        "data/SYS58/shells-0_centered.xtc_count.h5 (1001, 292, 5)\n",
        "data/SYS70/shells-0_centered.xtc_count.h5 (1001, 292, 5)\n",
        "data/SYS69/shells-0_centered.xtc_count.h5 (1001, 292, 5)\n",
        "data/SYS87/shells-0_centered.xtc_count.h5 (364, 292, 5)\n",
        "data/SYS20/shells-0_centered.xtc_count.h5"
       ]
      },
      {
       "output_type": "stream",
       "stream": "stdout",
       "text": [
        " (1001, 292, 5)\n",
        "data/SYS49/shells-0_centered.xtc_count.h5 (1001, 292, 5)\n",
        "data/SYS51/shells-0_centered.xtc_count.h5 (1001, 292, 5)\n",
        "data/SYS88/shells-0_centered.xtc_count.h5 (362, 292, 5)\n",
        "data/SYS25/shells-0_centered.xtc_count.h5 (1001, 292, 5)\n",
        "data/SYS77/shells-0_centered.xtc_count.h5 (1001, 292, 5)\n",
        "data/SYS9/shells-0_centered.xtc_count.h5 (1001, 292, 5)\n",
        "data/SYS37/shells-0_centered.xtc_count.h5 (1001, 292, 5)\n",
        "data/SYS47/shells-0_centered.xtc_count.h5 (1001, 292, 5)\n",
        "data/SYS91/shells-0_centered.xtc_count.h5 (351, 292, 5)\n",
        "data/SYS32/shells-0_centered.xtc_count.h5 (1001, 292, 5)\n",
        "data/SYS83/shells-0_centered.xtc_count.h5 (391, 292, 5)\n",
        "data/SYS80/shells-0_centered.xtc_count.h5 (766, 292, 5)\n",
        "data/SYS66/shells-0_centered.xtc_count.h5"
       ]
      },
      {
       "output_type": "stream",
       "stream": "stdout",
       "text": [
        " (1001, 292, 5)\n",
        "data/SYS81/shells-0_centered.xtc_count.h5 (829, 292, 5)\n",
        "data/SYS11/shells-0_centered.xtc_count.h5 (1001, 292, 5)\n",
        "data/SYS71/shells-0_centered.xtc_count.h5 (1001, 292, 5)\n",
        "data/SYS73/shells-0_centered.xtc_count.h5 (1001, 292, 5)\n",
        "data/SYS98/shells-0_centered.xtc_count.h5 (331, 292, 5)\n",
        "data/SYS44/shells-0_centered.xtc_count.h5 (1001, 292, 5)\n",
        "data/SYS97/shells-0_centered.xtc_count.h5 (322, 292, 5)\n",
        "data/SYS41/shells-0_centered.xtc_count.h5 (1001, 292, 5)\n",
        "data/SYS90/shells-0_centered.xtc_count.h5 (356, 292, 5)\n",
        "data/SYS56/shells-0_centered.xtc_count.h5 (1001, 292, 5)\n",
        "data/SYS89/shells-0_centered.xtc_count.h5 (351, 292, 5)\n",
        "data/SYS48/shells-0_centered.xtc_count.h5"
       ]
      },
      {
       "output_type": "stream",
       "stream": "stdout",
       "text": [
        " (1001, 292, 5)\n",
        "data/SYS84/shells-0_centered.xtc_count.h5 (387, 292, 5)\n",
        "data/SYS76/shells-0_centered.xtc_count.h5 (1001, 292, 5)\n",
        "data/SYS67/shells-0_centered.xtc_count.h5 (1001, 292, 5)\n",
        "data/SYS5/shells-0_centered.xtc_count.h5 (1001, 292, 5)\n",
        "data/SYS30/shells-0_centered.xtc_count.h5 (1001, 292, 5)\n",
        "data/SYS46/shells-0_centered.xtc_count.h5 (1001, 292, 5)\n",
        "data/SYS14/shells-0_centered.xtc_count.h5 (1001, 292, 5)\n",
        "data/SYS50/shells-0_centered.xtc_count.h5 (1001, 292, 5)\n",
        "data/SYS16/shells-0_centered.xtc_count.h5 (1001, 292, 5)\n",
        "data/SYS2/shells-0_centered.xtc_count.h5 (1001, 292, 5)\n",
        "data/SYS99/shells-0_centered.xtc_count.h5 (321, 292, 5)\n",
        "data/SYS7/shells-0_centered.xtc_count.h5 (1001, 292, 5)\n",
        "data/SYS22/shells-0_centered.xtc_count.h5 (1001, 292, 5)\n",
        "data/SYS54/shells-0_centered.xtc_count.h5"
       ]
      },
      {
       "output_type": "stream",
       "stream": "stdout",
       "text": [
        " (1001, 292, 5)\n",
        "data/SYS59/shells-0_centered.xtc_count.h5 (1001, 292, 5)\n",
        "data/SYS75/shells-0_centered.xtc_count.h5 (1001, 292, 5)\n",
        "data/SYS6/shells-0_centered.xtc_count.h5 (1001, 292, 5)\n",
        "data/SYS40/shells-0_centered.xtc_count.h5 (1001, 292, 5)\n",
        "data/SYS17/shells-0_centered.xtc_count.h5 (1001, 292, 5)\n",
        "data/SYS18/shells-0_centered.xtc_count.h5 (1001, 292, 5)\n",
        "data/SYS1/shells-0_centered.xtc_count.h5 (1001, 292, 5)\n",
        "data/SYS35/shells-0_centered.xtc_count.h5 (1001, 292, 5)\n",
        "data/SYS42/shells-0_centered.xtc_count.h5 (1001, 292, 5)\n",
        "data/SYS96/shells-0_centered.xtc_count.h5 (331, 292, 5)\n",
        "data/SYS27/shells-0_centered.xtc_count.h5 (1001, 292, 5)\n",
        "data/SYS93/shells-0_centered.xtc_count.h5 (351, 292, 5)\n",
        "data/SYS15/shells-0_centered.xtc_count.h5 (1001, 292, 5)\n",
        "data/SYS63/shells-0_centered.xtc_count.h5"
       ]
      },
      {
       "output_type": "stream",
       "stream": "stdout",
       "text": [
        " (1001, 292, 5)\n",
        "data/SYS92/shells-0_centered.xtc_count.h5 (343, 292, 5)\n",
        "data/SYS55/shells-0_centered.xtc_count.h5 (1001, 292, 5)\n",
        "data/SYS94/shells-0_centered.xtc_count.h5 (329, 292, 5)\n",
        "data/SYS85/shells-0_centered.xtc_count.h5 (361, 292, 5)\n",
        "data/SYS19/shells-0_centered.xtc_count.h5 (1001, 292, 5)\n",
        "data/SYS61/shells-0_centered.xtc_count.h5 (1001, 292, 5)\n",
        "data/SYS74/shells-0_centered.xtc_count.h5 (1001, 292, 5)\n",
        "data/SYS23/shells-0_centered.xtc_count.h5 (1001, 292, 5)\n",
        "data/SYS28/shells-0_centered.xtc_count.h5 (1001, 292, 5)\n",
        "data/SYS82/shells-0_centered.xtc_count.h5 (841, 292, 5)\n",
        "data/SYS72/shells-0_centered.xtc_count.h5 (1001, 292, 5)\n",
        "data/SYS95/shells-0_centered.xtc_count.h5 (325, 292, 5)\n",
        "data/SYS26/shells-0_centered.xtc_count.h5 (1001, 292, 5)\n",
        "data/SYS53/shells-0_centered.xtc_count.h5 (1001, 292, 5)\n",
        "data/SYS45/shells-0_centered.xtc_count.h5"
       ]
      },
      {
       "output_type": "stream",
       "stream": "stdout",
       "text": [
        " (1001, 292, 5)\n",
        "data/SYS12/shells-0_centered.xtc_count.h5 (1001, 292, 5)\n",
        "data/SYS60/shells-0_centered.xtc_count.h5 (1001, 292, 5)\n",
        "data/SYS4/shells-0_centered.xtc_count.h5 (1001, 292, 5)\n",
        "data/SYS24/shells-0_centered.xtc_count.h5 (1001, 292, 5)\n",
        "data/SYS36/shells-0_centered.xtc_count.h5 (1001, 292, 5)\n",
        "data/SYS10/shells-0_centered.xtc_count.h5 (1001, 292, 5)\n",
        "data/SYS64/shells-0_centered.xtc_count.h5 (1001, 292, 5)\n",
        "data/SYS79/shells-0_centered.xtc_count.h5 (987, 292, 5)\n",
        "data/SYS68/shells-0_centered.xtc_count.h5 (1001, 292, 5)\n",
        "data/SYS13/shells-0_centered.xtc_count.h5 (1001, 292, 5)\n",
        "data/SYS78/shells-0_centered.xtc_count.h5 (973, 292, 5)\n",
        "data/SYS52/shells-0_centered.xtc_count.h5 (1001, 292, 5)\n",
        "data/SYS21/shells-0_centered.xtc_count.h5"
       ]
      },
      {
       "output_type": "stream",
       "stream": "stdout",
       "text": [
        " (1001, 292, 5)\n",
        "data/SYS100/shells-0_centered.xtc_count.h5 (285, 292, 5)\n",
        "data/SYS86/shells-0_centered.xtc_count.h5 (370, 292, 5)\n",
        "data/SYS43/shells-0_centered.xtc_count.h5 (1001, 292, 5)\n",
        "data/SYS39/shells-0_centered.xtc_count.h5 (1001, 292, 5)\n",
        "data/SYS3/shells-0_centered.xtc_count.h5 (1001, 292, 5)\n"
       ]
      }
     ],
     "prompt_number": 4
    },
    {
     "cell_type": "markdown",
     "metadata": {},
     "source": [
      "# Remove zero-variance features, reshape"
     ]
    },
    {
     "cell_type": "code",
     "collapsed": false,
     "input": [
      "import wetmsm.analysis as wa\n",
      "import logging\n",
      "wa.log.setLevel(logging.INFO)"
     ],
     "language": "python",
     "metadata": {},
     "outputs": [],
     "prompt_number": 5
    },
    {
     "cell_type": "code",
     "collapsed": false,
     "input": [
      "# Normalize\n",
      "fp3dn_all = [wa.normalize(fp3d, shell_w=0.2) for fp3d in fp3d_all]"
     ],
     "language": "python",
     "metadata": {},
     "outputs": [],
     "prompt_number": 6
    },
    {
     "cell_type": "code",
     "collapsed": false,
     "input": [
      "# Reshape\n",
      "fp2dup_all = [wa.reshape(fp3d) for fp3d in fp3dn_all]"
     ],
     "language": "python",
     "metadata": {},
     "outputs": [],
     "prompt_number": 7
    },
    {
     "cell_type": "code",
     "collapsed": false,
     "input": [
      "# Prune\n",
      "fp2d_all, to_delete = wa.prune_all(fp2dup_all)"
     ],
     "language": "python",
     "metadata": {},
     "outputs": [
      {
       "output_type": "stream",
       "stream": "stderr",
       "text": [
        "INFO:root:Trimming 292 features from all trajectories\n"
       ]
      }
     ],
     "prompt_number": 8
    },
    {
     "cell_type": "code",
     "collapsed": false,
     "input": [
      "fp2d = fp2d_all[2]\n",
      "fp2d.shape"
     ],
     "language": "python",
     "metadata": {},
     "outputs": [
      {
       "metadata": {},
       "output_type": "pyout",
       "prompt_number": 9,
       "text": [
        "(1001, 1168)"
       ]
      }
     ],
     "prompt_number": 9
    },
    {
     "cell_type": "markdown",
     "metadata": {},
     "source": [
      "### Visualize some features"
     ]
    },
    {
     "cell_type": "code",
     "collapsed": false,
     "input": [
      "fp2d = fp2d_all[np.random.randint(len(fp2d_all))]\n",
      "for i in np.random.randint(0, fp2d.shape[1], 4):\n",
      "    plt.plot(fp2d[:, i], '.-', label=\"Feature {}\".format(i))\n",
      "plt.xlabel('Time'); plt.ylabel('Shells FP');\n",
      "plt.legend(loc='best')"
     ],
     "language": "python",
     "metadata": {},
     "outputs": [
      {
       "metadata": {},
       "output_type": "pyout",
       "prompt_number": 10,
       "text": [
        "<matplotlib.legend.Legend at 0x7f806a624d30>"
       ]
      },
      {
       "metadata": {},
       "output_type": "display_data",
       "png": "[encoded data removed]",
       "text": [
        "<matplotlib.figure.Figure at 0x7f806a624d68>"
       ]
      }
     ],
     "prompt_number": 10
    },
    {
     "cell_type": "code",
     "collapsed": false,
     "input": [
      "import pickle"
     ],
     "language": "python",
     "metadata": {},
     "outputs": [],
     "prompt_number": 11
    },
    {
     "cell_type": "code",
     "collapsed": false,
     "input": [
      "cd ~/implement/wetmsm/bphc/"
     ],
     "language": "python",
     "metadata": {},
     "outputs": [
      {
       "output_type": "stream",
       "stream": "stdout",
       "text": [
        "/home/harrigan/implement/wetmsm/bphc\n"
       ]
      }
     ],
     "prompt_number": 12
    },
    {
     "cell_type": "code",
     "collapsed": false,
     "input": [
      "if fp2d_all is not None:\n",
      "    with open('fp2d_all.pickl', 'wb') as f:\n",
      "        pickle.dump(fp2d_all, f)\n",
      "    with open('fp2d_deleted.pickl', 'wb') as f:\n",
      "        pickle.dump(to_delete, f)\n",
      "    with open('fp3dn_all.pickl', 'wb') as f:\n",
      "        pickle.dump(fp3dn_all, f)\n",
      "    with open('water_fns.pickl', 'wb') as f:\n",
      "        pickle.dump(fn_all, f)"
     ],
     "language": "python",
     "metadata": {},
     "outputs": [],
     "prompt_number": 14
    },
    {
     "cell_type": "code",
     "collapsed": false,
     "input": [],
     "language": "python",
     "metadata": {},
     "outputs": []
    }
   ],
   "metadata": {}
  }
 ]
}