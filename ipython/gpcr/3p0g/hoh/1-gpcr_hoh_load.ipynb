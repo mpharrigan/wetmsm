{
 "metadata": {
  "name": "",
  "signature": "sha256:121249b89807ba6585adebf0f45fdaa2329ee3843988b7c9b3926b4197b7f02c"
 },
 "nbformat": 3,
 "nbformat_minor": 0,
 "worksheets": [
  {
   "cells": [
    {
     "cell_type": "code",
     "collapsed": false,
     "input": [
      "%matplotlib inline"
     ],
     "language": "python",
     "metadata": {},
     "outputs": [],
     "prompt_number": 1
    },
    {
     "cell_type": "code",
     "collapsed": false,
     "input": [
      "import tables\n",
      "import glob\n",
      "from wetmsm.analysis import SolventShellsAnalysis"
     ],
     "language": "python",
     "metadata": {},
     "outputs": [],
     "prompt_number": 2
    },
    {
     "cell_type": "markdown",
     "metadata": {},
     "source": [
      "# Load"
     ]
    },
    {
     "cell_type": "code",
     "collapsed": false,
     "input": [
      "cd ~/biox/implement/water/gpcr/"
     ],
     "language": "python",
     "metadata": {},
     "outputs": [
      {
       "output_type": "stream",
       "stream": "stdout",
       "text": [
        "/home/harrigan/mnt/biox/biox3/home/harrigan/implement/water/gpcr\n"
       ]
      }
     ],
     "prompt_number": 3
    },
    {
     "cell_type": "code",
     "collapsed": false,
     "input": [
      "seqs = []\n",
      "fns = []\n",
      "for count_fn in glob.iglob('3p0g/generation2/trr/*/clone*.trr.hoh.count.h5'):\n",
      "    count_f = tables.open_file(count_fn)\n",
      "    count_a = np.array(count_f.root.shell_counts)\n",
      "    \n",
      "    if len(count_a) > 1:\n",
      "        seqs.append(count_a)\n",
      "        fns.append(count_fn)\n",
      "    #print(count_a.shape)\n",
      "    count_f.close()"
     ],
     "language": "python",
     "metadata": {},
     "outputs": [],
     "prompt_number": 4
    },
    {
     "cell_type": "code",
     "collapsed": false,
     "input": [
      "sa_pop = SolventShellsAnalysis(seqs, 0.2)"
     ],
     "language": "python",
     "metadata": {},
     "outputs": [],
     "prompt_number": 5
    },
    {
     "cell_type": "code",
     "collapsed": false,
     "input": [
      "plt.plot(sa_pop.seqs2d[0][:,13:15])"
     ],
     "language": "python",
     "metadata": {},
     "outputs": [
      {
       "metadata": {},
       "output_type": "pyout",
       "prompt_number": 6,
       "text": [
        "[<matplotlib.lines.Line2D at 0x7f7611c6a208>,\n",
        " <matplotlib.lines.Line2D at 0x7f7611c6a588>]"
       ]
      },
      {
       "metadata": {},
       "output_type": "display_data",
       "png": "[encoded data removed]",
       "text": [
        "<matplotlib.figure.Figure at 0x7f7614fbcc88>"
       ]
      }
     ],
     "prompt_number": 6
    },
    {
     "cell_type": "code",
     "collapsed": false,
     "input": [
      "sa_pop.deleted"
     ],
     "language": "python",
     "metadata": {},
     "outputs": [
      {
       "metadata": {},
       "output_type": "pyout",
       "prompt_number": 7,
       "text": [
        "array([   0,    5,   10,   15,   20,   25,   30,   35,   40,   45,   50,\n",
        "         55,   60,   65,   70,   75,   80,   85,   90,   95,  100,  105,\n",
        "        110,  115,  120,  125,  130,  135,  140,  145,  150,  155,  160,\n",
        "        165,  170,  175,  180,  185,  190,  195,  200,  205,  210,  215,\n",
        "        220,  225,  230,  235,  240,  245,  250,  255,  260,  265,  270,\n",
        "        275,  280,  285,  290,  295,  300,  305,  310,  315,  320,  325,\n",
        "        330,  335,  340,  345,  350,  355,  360,  365,  370,  375,  380,\n",
        "        385,  390,  395,  400,  405,  410,  415,  420,  425,  430,  435,\n",
        "        440,  445,  450,  455,  460,  465,  470,  475,  480,  485,  490,\n",
        "        495,  500,  505,  510,  515,  520,  525,  530,  535,  540,  545,\n",
        "        550,  555,  560,  565,  570,  575,  580,  585,  590,  595,  600,\n",
        "        605,  610,  615,  620,  625,  630,  635,  640,  645,  650,  655,\n",
        "        660,  665,  670,  675,  680,  685,  690,  695,  700,  705,  710,\n",
        "        715,  720,  725,  730,  735,  740,  745,  750,  755,  760,  765,\n",
        "        770,  775,  780,  785,  790,  795,  800,  805,  810,  815,  820,\n",
        "        825,  830,  835,  840,  845,  850,  855,  860,  865,  870,  875,\n",
        "        880,  885,  890,  895,  900,  905,  910,  915,  920,  925,  930,\n",
        "        935,  940,  945,  950,  955,  960,  965,  970,  975,  980,  985,\n",
        "        990,  995, 1000, 1005, 1010, 1015, 1020, 1025, 1030, 1035, 1040,\n",
        "       1045, 1050, 1055, 1060, 1065, 1070, 1075, 1080, 1085, 1090, 1095,\n",
        "       1100, 1105, 1110, 1115, 1120, 1125, 1130, 1135, 1140, 1145, 1150,\n",
        "       1155, 1160, 1165, 1170, 1175, 1180, 1185, 1190, 1195, 1200, 1205,\n",
        "       1210, 1215, 1220, 1225, 1230, 1235, 1240, 1245, 1250, 1255, 1260,\n",
        "       1265, 1270, 1275, 1280, 1285, 1290, 1295, 1300, 1305, 1310, 1315,\n",
        "       1320, 1325, 1330, 1335, 1340, 1345, 1350, 1355, 1360, 1365, 1370])"
       ]
      }
     ],
     "prompt_number": 7
    },
    {
     "cell_type": "code",
     "collapsed": false,
     "input": [
      "cd ~/implement/wetmsm/gpcr/3p0g/hoh/"
     ],
     "language": "python",
     "metadata": {},
     "outputs": [
      {
       "output_type": "stream",
       "stream": "stdout",
       "text": [
        "/home/harrigan/implement/wetmsm/gpcr/3p0g/hoh\n"
       ]
      }
     ],
     "prompt_number": 8
    },
    {
     "cell_type": "markdown",
     "metadata": {},
     "source": [
      "## Save"
     ]
    },
    {
     "cell_type": "code",
     "collapsed": false,
     "input": [
      "import pickle"
     ],
     "language": "python",
     "metadata": {},
     "outputs": [],
     "prompt_number": 9
    },
    {
     "cell_type": "code",
     "collapsed": false,
     "input": [
      "with open('1-pop.pickl', 'wb') as f:\n",
      "    pickle.dump(seqs, f)"
     ],
     "language": "python",
     "metadata": {},
     "outputs": [],
     "prompt_number": 10
    },
    {
     "cell_type": "code",
     "collapsed": false,
     "input": [
      "with open('1-pop-fns.pickl', 'wb') as f:\n",
      "    pickle.dump(fns, f)"
     ],
     "language": "python",
     "metadata": {},
     "outputs": [],
     "prompt_number": 11
    },
    {
     "cell_type": "markdown",
     "metadata": {},
     "source": [
      "# tICA"
     ]
    },
    {
     "cell_type": "code",
     "collapsed": false,
     "input": [
      "sa_pop.fit_tica(lag_time=1)"
     ],
     "language": "python",
     "metadata": {},
     "outputs": [],
     "prompt_number": 12
    },
    {
     "cell_type": "code",
     "collapsed": false,
     "input": [
      "with open('2-pop-tica.pickl', 'wb') as f:\n",
      "    pickle.dump(sa_pop.tica, f)"
     ],
     "language": "python",
     "metadata": {},
     "outputs": [],
     "prompt_number": 13
    },
    {
     "cell_type": "code",
     "collapsed": false,
     "input": [
      "with open('3-pop-ticax.pickl', 'wb') as f:\n",
      "    pickle.dump(sa_pop.ticax, f)"
     ],
     "language": "python",
     "metadata": {},
     "outputs": [],
     "prompt_number": 14
    },
    {
     "cell_type": "code",
     "collapsed": false,
     "input": [
      "plt.subplots(figsize=(3,5))\n",
      "plt.hlines(sa_pop.tica.timescales_, 0, 1, 'b')"
     ],
     "language": "python",
     "metadata": {},
     "outputs": [
      {
       "metadata": {},
       "output_type": "pyout",
       "prompt_number": 15,
       "text": [
        "<matplotlib.collections.LineCollection at 0x7f7611bf0cc0>"
       ]
      },
      {
       "metadata": {},
       "output_type": "display_data",
       "png": "[encoded data removed]",
       "text": [
        "<matplotlib.figure.Figure at 0x7f7611bf0c88>"
       ]
      }
     ],
     "prompt_number": 15
    },
    {
     "cell_type": "code",
     "collapsed": false,
     "input": [
      "txy = np.concatenate(sa_pop.ticax)"
     ],
     "language": "python",
     "metadata": {},
     "outputs": [],
     "prompt_number": 16
    },
    {
     "cell_type": "code",
     "collapsed": false,
     "input": [
      "plt.scatter(txy[:,0], txy[:,1], linewidth=0, s=1, alpha=0.1)\n",
      "#plt.plot(sa_pop.ticax[1848][:,0], sa_pop.ticax[1848][:,1], 'ro-')"
     ],
     "language": "python",
     "metadata": {},
     "outputs": [
      {
       "metadata": {},
       "output_type": "pyout",
       "prompt_number": 18,
       "text": [
        "<matplotlib.collections.PathCollection at 0x7f7610afa7b8>"
       ]
      },
      {
       "metadata": {},
       "output_type": "display_data",
       "png": "[encoded data removed]",
       "text": [
        "<matplotlib.figure.Figure at 0x7f7611c709e8>"
       ]
      }
     ],
     "prompt_number": 18
    },
    {
     "cell_type": "code",
     "collapsed": false,
     "input": [
      "num = 0\n",
      "for i, tx in enumerate(sa_pop.ticax):\n",
      "    if np.any(tx[:,0]<-25) and np.any(tx[:,0] > 40):\n",
      "        print(i, np.min(tx[:,0]), np.max(tx[:,0]), tx.shape)\n",
      "        num += 1\n",
      "print(num)"
     ],
     "language": "python",
     "metadata": {},
     "outputs": [],
     "prompt_number": null
    },
    {
     "cell_type": "code",
     "collapsed": false,
     "input": [
      "fns[834]"
     ],
     "language": "python",
     "metadata": {},
     "outputs": [],
     "prompt_number": null
    },
    {
     "cell_type": "markdown",
     "metadata": {},
     "source": [
      "# VMD"
     ]
    },
    {
     "cell_type": "code",
     "collapsed": false,
     "input": [
      "from wetmsm.vmd_write import VMDWriter, VMDSCRIPT\n",
      "from os.path import join as pjoin"
     ],
     "language": "python",
     "metadata": {},
     "outputs": [],
     "prompt_number": null
    },
    {
     "cell_type": "markdown",
     "metadata": {},
     "source": [
      "### Load Assignments File"
     ]
    },
    {
     "cell_type": "code",
     "collapsed": false,
     "input": [
      "biox_prefix = '/home/harrigan/biox/implement/water/gpcr/2rh1/generation2'\n",
      "assn_fn = pjoin(biox_prefix, 'trr/4/clone4397.trr.pop.assign.h5')\n",
      "assn_f = tables.open_file(assn_fn)\n",
      "assn = assn_f.root.assignments\n",
      "print(assn.shape)"
     ],
     "language": "python",
     "metadata": {},
     "outputs": [],
     "prompt_number": null
    },
    {
     "cell_type": "markdown",
     "metadata": {},
     "source": [
      "### Load Indices"
     ]
    },
    {
     "cell_type": "code",
     "collapsed": false,
     "input": [
      "ca_inds = np.loadtxt(pjoin(biox_prefix, 'ca_2rh1.dat'), dtype=int)\n",
      "pop_inds = np.loadtxt(pjoin(biox_prefix, 'pop_2rh1.dat'), dtype=int)\n",
      "print(ca_inds.shape, pop_inds.shape)"
     ],
     "language": "python",
     "metadata": {},
     "outputs": [],
     "prompt_number": null
    },
    {
     "cell_type": "markdown",
     "metadata": {},
     "source": [
      "### Load topology"
     ]
    },
    {
     "cell_type": "code",
     "collapsed": false,
     "input": [
      "import mdtraj as md\n",
      "top = md.load('vis/2rh1-ticaleftright/FullSystem.ions.eq2.out.2rh1.pdb')\n",
      "print(top)"
     ],
     "language": "python",
     "metadata": {},
     "outputs": [],
     "prompt_number": null
    },
    {
     "cell_type": "markdown",
     "metadata": {},
     "source": [
      "### Visualize loadings"
     ]
    },
    {
     "cell_type": "code",
     "collapsed": false,
     "input": [
      "tic1 = sa_pop.tica.components_[0]\n",
      "xx = np.arange(len(tic1))"
     ],
     "language": "python",
     "metadata": {},
     "outputs": [],
     "prompt_number": null
    },
    {
     "cell_type": "code",
     "collapsed": false,
     "input": [
      "plt.subplots(2,2, figsize=(10,6))\n",
      "plt.subplot(2,2,1)\n",
      "plt.scatter(xx,tic1, linewidth=0, s=30)\n",
      "plt.subplot(2,2,2)\n",
      "tic1s = tic1 ** 2\n",
      "tic1s /= np.max(tic1s)\n",
      "plt.scatter(xx, tic1s, linewidth=0, s=30, c='r')\n",
      "loading1 = np.copy(tic1s)\n",
      "loading1[tic1s < 0.1] = 0.0\n",
      "plt.subplot(2,2,3)\n",
      "plt.scatter(xx, loading1, linewidth=0, s=30, c='purple')"
     ],
     "language": "python",
     "metadata": {},
     "outputs": [],
     "prompt_number": null
    },
    {
     "cell_type": "markdown",
     "metadata": {},
     "source": [
      "### Make object and compute"
     ]
    },
    {
     "cell_type": "code",
     "collapsed": false,
     "input": [
      "i = 834\n",
      "vmd = VMDWriter(assn=assn, solvent_ind=pop_inds, n_frames=sa_pop.ticax[i].shape[0], n_atoms=top.n_atoms,\n",
      "                n_solute=len(ca_inds), n_shells=sa_pop.seqs3d[i].shape[2])"
     ],
     "language": "python",
     "metadata": {},
     "outputs": [],
     "prompt_number": null
    },
    {
     "cell_type": "code",
     "collapsed": false,
     "input": [
      "user = vmd.compute(loading1, sa_pop.deleted)"
     ],
     "language": "python",
     "metadata": {},
     "outputs": [],
     "prompt_number": null
    },
    {
     "cell_type": "markdown",
     "metadata": {},
     "source": [
      "### Save"
     ]
    },
    {
     "cell_type": "code",
     "collapsed": false,
     "input": [
      "np.savetxt('vis/2rh1-ticaleftright/pop.dat', user, fmt='%.5f')"
     ],
     "language": "python",
     "metadata": {},
     "outputs": [],
     "prompt_number": null
    },
    {
     "cell_type": "markdown",
     "metadata": {},
     "source": [
      "### Generate script"
     ]
    },
    {
     "cell_type": "code",
     "collapsed": false,
     "input": [
      "with open('vis/2rh1-ticaleftright/pop.tcl', 'w') as f:\n",
      "    f.write(VMDSCRIPT.format(top_fn='FullSystem.ions.eq2.out.2rh1.pdb', traj_fn='clone4397.trr', step=1, dat_fn='pop.dat'))"
     ],
     "language": "python",
     "metadata": {},
     "outputs": [],
     "prompt_number": null
    }
   ],
   "metadata": {}
  }
 ]
}