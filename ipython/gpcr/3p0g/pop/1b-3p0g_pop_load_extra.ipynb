{
 "metadata": {
  "name": "",
  "signature": "sha256:ac1d16a13fc29f9e1cdb98fbe6353734795c234a5f2b4fce8821d8f001ddb606"
 },
 "nbformat": 3,
 "nbformat_minor": 0,
 "worksheets": [
  {
   "cells": [
    {
     "cell_type": "code",
     "collapsed": false,
     "input": [
      "%matplotlib inline"
     ],
     "language": "python",
     "metadata": {},
     "outputs": [],
     "prompt_number": 1
    },
    {
     "cell_type": "code",
     "collapsed": false,
     "input": [
      "from wetmsm.analysis import SolventShellsAnalysis\n",
      "import pickle"
     ],
     "language": "python",
     "metadata": {},
     "outputs": [],
     "prompt_number": 2
    },
    {
     "cell_type": "markdown",
     "metadata": {},
     "source": [
      "# Save the Analysis object"
     ]
    },
    {
     "cell_type": "code",
     "collapsed": false,
     "input": [
      "cd ~/implement/wetmsm/gpcr/3p0g/pop/"
     ],
     "language": "python",
     "metadata": {},
     "outputs": [
      {
       "output_type": "stream",
       "stream": "stdout",
       "text": [
        "/home/harrigan/implement/wetmsm/gpcr/3p0g/pop\n"
       ]
      }
     ],
     "prompt_number": 3
    },
    {
     "cell_type": "code",
     "collapsed": false,
     "input": [
      "with open('1-pop.pickl', 'rb') as f:\n",
      "    seqs = pickle.load(f)"
     ],
     "language": "python",
     "metadata": {},
     "outputs": [],
     "prompt_number": 4
    },
    {
     "cell_type": "code",
     "collapsed": false,
     "input": [
      "len(seqs)"
     ],
     "language": "python",
     "metadata": {},
     "outputs": [
      {
       "metadata": {},
       "output_type": "pyout",
       "prompt_number": 5,
       "text": [
        "9985"
       ]
      }
     ],
     "prompt_number": 5
    },
    {
     "cell_type": "code",
     "collapsed": false,
     "input": [
      "sa_pop = SolventShellsAnalysis(seqs, 0.2)"
     ],
     "language": "python",
     "metadata": {},
     "outputs": [],
     "prompt_number": 6
    },
    {
     "cell_type": "code",
     "collapsed": false,
     "input": [
      "plt.plot(sa_pop.seqs2d[0][:,13:15])"
     ],
     "language": "python",
     "metadata": {},
     "outputs": [
      {
       "metadata": {},
       "output_type": "pyout",
       "prompt_number": 7,
       "text": [
        "[<matplotlib.lines.Line2D at 0x7fb62756a0f0>,\n",
        " <matplotlib.lines.Line2D at 0x7fb62756a390>]"
       ]
      },
      {
       "metadata": {},
       "output_type": "display_data",
       "png": "[encoded data removed]",
       "text": [
        "<matplotlib.figure.Figure at 0x7fb627e49c50>"
       ]
      }
     ],
     "prompt_number": 7
    },
    {
     "cell_type": "code",
     "collapsed": false,
     "input": [
      "sa_pop.deleted"
     ],
     "language": "python",
     "metadata": {},
     "outputs": [
      {
       "metadata": {},
       "output_type": "pyout",
       "prompt_number": 8,
       "text": [
        "array([   0,    5,   10,   15,   20,   25,   30,   35,   40,   45,   50,\n",
        "         55,   60,   65,   70,   75,   80,   85,   90,   95,  100,  105,\n",
        "        110,  115,  120,  125,  130,  135,  140,  145,  150,  155,  160,\n",
        "        165,  170,  175,  180,  185,  190,  195,  200,  205,  210,  215,\n",
        "        220,  225,  230,  235,  240,  245,  250,  255,  260,  265,  270,\n",
        "        275,  280,  285,  290,  295,  300,  305,  310,  315,  320,  325,\n",
        "        330,  335,  340,  345,  350,  355,  360,  365,  370,  375,  380,\n",
        "        385,  390,  395,  400,  405,  410,  415,  420,  425,  430,  435,\n",
        "        440,  445,  450,  455,  460,  465,  470,  475,  480,  485,  490,\n",
        "        495,  500,  505,  510,  515,  520,  525,  530,  535,  540,  545,\n",
        "        550,  555,  560,  565,  570,  575,  580,  585,  590,  595,  600,\n",
        "        605,  610,  615,  620,  625,  630,  635,  640,  645,  650,  655,\n",
        "        660,  665,  670,  675,  680,  685,  690,  695,  700,  705,  710,\n",
        "        715,  720,  725,  730,  735,  740,  745,  750,  751,  755,  760,\n",
        "        765,  770,  771,  775,  780,  785,  790,  795,  800,  805,  810,\n",
        "        815,  820,  825,  830,  835,  840,  845,  850,  855,  860,  865,\n",
        "        870,  875,  880,  885,  890,  895,  900,  905,  910,  915,  920,\n",
        "        925,  930,  935,  940,  945,  950,  955,  960,  965,  970,  975,\n",
        "        980,  985,  990,  995, 1000, 1005, 1010, 1015, 1020, 1025, 1030,\n",
        "       1035, 1040, 1045, 1050, 1055, 1060, 1065, 1070, 1075, 1080, 1085,\n",
        "       1090, 1095, 1100, 1105, 1110, 1115, 1120, 1125, 1130, 1135, 1140,\n",
        "       1145, 1150, 1155, 1160, 1165, 1170, 1175, 1180, 1185, 1190, 1195,\n",
        "       1200, 1205, 1210, 1215, 1220, 1225, 1230, 1235, 1240, 1245, 1250,\n",
        "       1255, 1260, 1265, 1270, 1275, 1280, 1285, 1290, 1295, 1300, 1305,\n",
        "       1310, 1315, 1320, 1325, 1330, 1335, 1340, 1345, 1350, 1355, 1360,\n",
        "       1365, 1370])"
       ]
      }
     ],
     "prompt_number": 8
    },
    {
     "cell_type": "code",
     "collapsed": false,
     "input": [
      "with open('1-deleted.pickl', 'wb') as f:\n",
      "    pickle.dump(sa_pop.deleted, f)"
     ],
     "language": "python",
     "metadata": {},
     "outputs": [],
     "prompt_number": 9
    },
    {
     "cell_type": "code",
     "collapsed": false,
     "input": [],
     "language": "python",
     "metadata": {},
     "outputs": []
    }
   ],
   "metadata": {}
  }
 ]
}