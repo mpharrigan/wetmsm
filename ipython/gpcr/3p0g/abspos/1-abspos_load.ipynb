{
 "metadata": {
  "name": "",
  "signature": "sha256:1d04b2586733c6fcea03f89424cca210287483ffe7261d5b168785ccf37e2659"
 },
 "nbformat": 3,
 "nbformat_minor": 0,
 "worksheets": [
  {
   "cells": [
    {
     "cell_type": "code",
     "collapsed": false,
     "input": [
      "import pickle\n",
      "import glob"
     ],
     "language": "python",
     "metadata": {},
     "outputs": [],
     "prompt_number": 1
    },
    {
     "cell_type": "code",
     "collapsed": false,
     "input": [
      "cd ~/biox/implement/water/gpcr/"
     ],
     "language": "python",
     "metadata": {},
     "outputs": [
      {
       "output_type": "stream",
       "stream": "stdout",
       "text": [
        "/home/harrigan/mnt/biox/biox3/home/harrigan/implement/water/gpcr\n"
       ]
      }
     ],
     "prompt_number": 2
    },
    {
     "cell_type": "markdown",
     "metadata": {},
     "source": [
      "# Load sequences from disk"
     ]
    },
    {
     "cell_type": "code",
     "collapsed": false,
     "input": [
      "seqs = []\n",
      "fns = []\n",
      "for abspos_fn in glob.iglob('3p0g/generation2/trr/*/clone*.trr.abspos.pickl'):\n",
      "    with open(abspos_fn, 'rb') as f:\n",
      "        aa = pickle.load(f)\n",
      "        if len(aa) > 1:\n",
      "            seqs.append(aa)\n",
      "            fns.append(abspos_fn)"
     ],
     "language": "python",
     "metadata": {},
     "outputs": [],
     "prompt_number": 3
    },
    {
     "cell_type": "code",
     "collapsed": false,
     "input": [
      "print(len(seqs))"
     ],
     "language": "python",
     "metadata": {},
     "outputs": [
      {
       "output_type": "stream",
       "stream": "stdout",
       "text": [
        "9985\n"
       ]
      }
     ],
     "prompt_number": 4
    },
    {
     "cell_type": "code",
     "collapsed": false,
     "input": [
      "cd ~/implement/wetmsm/gpcr/3p0g/abspos"
     ],
     "language": "python",
     "metadata": {},
     "outputs": [
      {
       "output_type": "stream",
       "stream": "stdout",
       "text": [
        "/home/harrigan/implement/wetmsm/gpcr/3p0g/abspos\n"
       ]
      }
     ],
     "prompt_number": 5
    },
    {
     "cell_type": "code",
     "collapsed": false,
     "input": [
      "with open('1-seqs.pickl', 'wb') as f:\n",
      "    pickle.dump(seqs, f)\n",
      "with open('1-seqs.fns.pickl', 'wb') as f:\n",
      "    pickle.dump(fns, f)    "
     ],
     "language": "python",
     "metadata": {},
     "outputs": [],
     "prompt_number": 6
    },
    {
     "cell_type": "code",
     "collapsed": false,
     "input": [
      "ls -lrt"
     ],
     "language": "python",
     "metadata": {},
     "outputs": [
      {
       "output_type": "stream",
       "stream": "stdout",
       "text": [
        "total 861356\r\n",
        "-rw-rw-r-- 1 harrigan harrigan 881435824 Jul 31 13:02 1-seqs.pickl\r\n",
        "-rw-rw-r-- 1 harrigan harrigan    587267 Jul 31 13:02 1-seqs.fns.pickl\r\n"
       ]
      }
     ],
     "prompt_number": 8
    },
    {
     "cell_type": "code",
     "collapsed": false,
     "input": [],
     "language": "python",
     "metadata": {},
     "outputs": []
    }
   ],
   "metadata": {}
  }
 ]
}