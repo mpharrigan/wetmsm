{
 "metadata": {
  "name": "",
  "signature": "sha256:e3b6ade8e507feba9cdd5a2bab67ac5cb6a69127d74cbd09935c6d997d560213"
 },
 "nbformat": 3,
 "nbformat_minor": 0,
 "worksheets": [
  {
   "cells": [
    {
     "cell_type": "code",
     "collapsed": false,
     "input": [
      "%matplotlib inline"
     ],
     "language": "python",
     "metadata": {},
     "outputs": [],
     "prompt_number": null
    },
    {
     "cell_type": "code",
     "collapsed": false,
     "input": [
      "import tables\n",
      "import glob\n",
      "from wetmsm.analysis import SolventShellsAnalysis"
     ],
     "language": "python",
     "metadata": {},
     "outputs": [],
     "prompt_number": null
    },
    {
     "cell_type": "code",
     "collapsed": false,
     "input": [
      "cd ~/biox/implement/water/gpcr/"
     ],
     "language": "python",
     "metadata": {},
     "outputs": [],
     "prompt_number": null
    },
    {
     "cell_type": "code",
     "collapsed": false,
     "input": [
      "seqs = []\n",
      "fns = []\n",
      "for count_fn in glob.iglob('2rh1/generation2/trr/*/clone*.trr.pop.count.h5'):\n",
      "    count_f = tables.open_file(count_fn)\n",
      "    count_a = np.array(count_f.root.shell_counts)\n",
      "    \n",
      "    if len(count_a) > 1:\n",
      "        seqs.append(count_a)\n",
      "        fns.append(count_fn)\n",
      "    print(count_a.shape)\n",
      "    count_f.close()\n",
      "    "
     ],
     "language": "python",
     "metadata": {},
     "outputs": [],
     "prompt_number": null
    },
    {
     "cell_type": "code",
     "collapsed": false,
     "input": [
      "sa_pop = SolventShellsAnalysis(seqs, 0.2)"
     ],
     "language": "python",
     "metadata": {},
     "outputs": [],
     "prompt_number": null
    },
    {
     "cell_type": "code",
     "collapsed": false,
     "input": [
      "plt.plot(sa_pop.seqs2d[0][:,13:15])"
     ],
     "language": "python",
     "metadata": {},
     "outputs": [],
     "prompt_number": null
    },
    {
     "cell_type": "code",
     "collapsed": false,
     "input": [
      "sa_pop.deleted"
     ],
     "language": "python",
     "metadata": {},
     "outputs": [],
     "prompt_number": null
    },
    {
     "cell_type": "code",
     "collapsed": false,
     "input": [
      "cd ~/implement/wetmsm/gpcr/"
     ],
     "language": "python",
     "metadata": {},
     "outputs": [],
     "prompt_number": null
    },
    {
     "cell_type": "code",
     "collapsed": false,
     "input": [
      "import pickle"
     ],
     "language": "python",
     "metadata": {},
     "outputs": [],
     "prompt_number": null
    },
    {
     "cell_type": "code",
     "collapsed": false,
     "input": [
      "with open('1-pop.pickl', 'wb') as f:\n",
      "    pickle.dump(seqs, f)"
     ],
     "language": "python",
     "metadata": {},
     "outputs": [],
     "prompt_number": null
    },
    {
     "cell_type": "code",
     "collapsed": false,
     "input": [
      "with open('1-pop-fns.pickl', 'wb') as f:\n",
      "    pickle.dump(fns, f)"
     ],
     "language": "python",
     "metadata": {},
     "outputs": [],
     "prompt_number": null
    },
    {
     "cell_type": "markdown",
     "metadata": {},
     "source": [
      "# tICA"
     ]
    },
    {
     "cell_type": "code",
     "collapsed": false,
     "input": [
      "sa_pop.fit_tica(lag_time=1)"
     ],
     "language": "python",
     "metadata": {},
     "outputs": [],
     "prompt_number": null
    },
    {
     "cell_type": "code",
     "collapsed": false,
     "input": [
      "with open('2-pop-tica.pickl', 'wb') as f:\n",
      "    pickle.dump(sa_pop.tica, f)"
     ],
     "language": "python",
     "metadata": {},
     "outputs": [],
     "prompt_number": null
    },
    {
     "cell_type": "code",
     "collapsed": false,
     "input": [
      "with open('3-pop-ticax.pickl', 'wb') as f:\n",
      "    pickle.dump(sa_pop.ticax, f)"
     ],
     "language": "python",
     "metadata": {},
     "outputs": [],
     "prompt_number": null
    },
    {
     "cell_type": "code",
     "collapsed": false,
     "input": [
      "plt.subplots(figsize=(3,5))\n",
      "plt.hlines(sa_pop.tica.timescales_, 0, 1, 'b')"
     ],
     "language": "python",
     "metadata": {},
     "outputs": [],
     "prompt_number": null
    },
    {
     "cell_type": "code",
     "collapsed": false,
     "input": [
      "txy = np.concatenate(sa_pop.ticax)"
     ],
     "language": "python",
     "metadata": {},
     "outputs": [],
     "prompt_number": null
    },
    {
     "cell_type": "code",
     "collapsed": false,
     "input": [
      "plt.scatter(txy[:,0], txy[:,1], linewidth=0, s=1, alpha=0.1)\n",
      "plt.plot(sa_pop.ticax[1848][:,0], sa_pop.ticax[1848][:,1], 'ro-')"
     ],
     "language": "python",
     "metadata": {},
     "outputs": [],
     "prompt_number": null
    },
    {
     "cell_type": "code",
     "collapsed": false,
     "input": [
      "num = 0\n",
      "for i, tx in enumerate(sa_pop.ticax):\n",
      "    if np.any(tx[:,0]<-25) and np.any(tx[:,0] > 40):\n",
      "        print(i, np.min(tx[:,0]), np.max(tx[:,0]), tx.shape)\n",
      "        num += 1\n",
      "print(num)"
     ],
     "language": "python",
     "metadata": {},
     "outputs": [],
     "prompt_number": null
    },
    {
     "cell_type": "code",
     "collapsed": false,
     "input": [
      "fns[834]"
     ],
     "language": "python",
     "metadata": {},
     "outputs": [],
     "prompt_number": null
    },
    {
     "cell_type": "markdown",
     "metadata": {},
     "source": [
      "# VMD"
     ]
    },
    {
     "cell_type": "code",
     "collapsed": false,
     "input": [
      "from wetmsm.vmd_write import VMDWriter, VMDSCRIPT\n",
      "from os.path import join as pjoin"
     ],
     "language": "python",
     "metadata": {},
     "outputs": [],
     "prompt_number": null
    },
    {
     "cell_type": "markdown",
     "metadata": {},
     "source": [
      "### Load Assignments File"
     ]
    },
    {
     "cell_type": "code",
     "collapsed": false,
     "input": [
      "biox_prefix = '/home/harrigan/biox/implement/water/gpcr/2rh1/generation2'\n",
      "assn_fn = pjoin(biox_prefix, 'trr/4/clone4397.trr.pop.assign.h5')\n",
      "assn_f = tables.open_file(assn_fn)\n",
      "assn = assn_f.root.assignments\n",
      "print(assn.shape)"
     ],
     "language": "python",
     "metadata": {},
     "outputs": [],
     "prompt_number": null
    },
    {
     "cell_type": "markdown",
     "metadata": {},
     "source": [
      "### Load Indices"
     ]
    },
    {
     "cell_type": "code",
     "collapsed": false,
     "input": [
      "ca_inds = np.loadtxt(pjoin(biox_prefix, 'ca_2rh1.dat'), dtype=int)\n",
      "pop_inds = np.loadtxt(pjoin(biox_prefix, 'pop_2rh1.dat'), dtype=int)\n",
      "print(ca_inds.shape, pop_inds.shape)"
     ],
     "language": "python",
     "metadata": {},
     "outputs": [],
     "prompt_number": null
    },
    {
     "cell_type": "markdown",
     "metadata": {},
     "source": [
      "### Load topology"
     ]
    },
    {
     "cell_type": "code",
     "collapsed": false,
     "input": [
      "import mdtraj as md\n",
      "top = md.load('vis/2rh1-ticaleftright/FullSystem.ions.eq2.out.2rh1.pdb')\n",
      "print(top)"
     ],
     "language": "python",
     "metadata": {},
     "outputs": [],
     "prompt_number": null
    },
    {
     "cell_type": "markdown",
     "metadata": {},
     "source": [
      "### Visualize loadings"
     ]
    },
    {
     "cell_type": "code",
     "collapsed": false,
     "input": [
      "tic1 = sa_pop.tica.components_[0]\n",
      "xx = np.arange(len(tic1))"
     ],
     "language": "python",
     "metadata": {},
     "outputs": [],
     "prompt_number": null
    },
    {
     "cell_type": "code",
     "collapsed": false,
     "input": [
      "plt.subplots(2,2, figsize=(10,6))\n",
      "plt.subplot(2,2,1)\n",
      "plt.scatter(xx,tic1, linewidth=0, s=30)\n",
      "plt.subplot(2,2,2)\n",
      "tic1s = tic1 ** 2\n",
      "tic1s /= np.max(tic1s)\n",
      "plt.scatter(xx, tic1s, linewidth=0, s=30, c='r')\n",
      "loading1 = np.copy(tic1s)\n",
      "loading1[tic1s < 0.1] = 0.0\n",
      "plt.subplot(2,2,3)\n",
      "plt.scatter(xx, loading1, linewidth=0, s=30, c='purple')"
     ],
     "language": "python",
     "metadata": {},
     "outputs": [],
     "prompt_number": null
    },
    {
     "cell_type": "markdown",
     "metadata": {},
     "source": [
      "### Make object and compute"
     ]
    },
    {
     "cell_type": "code",
     "collapsed": false,
     "input": [
      "i = 834\n",
      "vmd = VMDWriter(assn=assn, solvent_ind=pop_inds, n_frames=sa_pop.ticax[i].shape[0], n_atoms=top.n_atoms,\n",
      "                n_solute=len(ca_inds), n_shells=sa_pop.seqs3d[i].shape[2])"
     ],
     "language": "python",
     "metadata": {},
     "outputs": [],
     "prompt_number": null
    },
    {
     "cell_type": "code",
     "collapsed": false,
     "input": [
      "user = vmd.compute(loading1, sa_pop.deleted)"
     ],
     "language": "python",
     "metadata": {},
     "outputs": [],
     "prompt_number": null
    },
    {
     "cell_type": "markdown",
     "metadata": {},
     "source": [
      "### Save"
     ]
    },
    {
     "cell_type": "code",
     "collapsed": false,
     "input": [
      "np.savetxt('vis/2rh1-ticaleftright/pop.dat', user, fmt='%.5f')"
     ],
     "language": "python",
     "metadata": {},
     "outputs": [],
     "prompt_number": null
    },
    {
     "cell_type": "markdown",
     "metadata": {},
     "source": [
      "### Generate script"
     ]
    },
    {
     "cell_type": "code",
     "collapsed": false,
     "input": [
      "with open('vis/2rh1-ticaleftright/pop.tcl', 'w') as f:\n",
      "    f.write(VMDSCRIPT.format(top_fn='FullSystem.ions.eq2.out.2rh1.pdb', traj_fn='clone4397.trr', step=1, dat_fn='pop.dat'))"
     ],
     "language": "python",
     "metadata": {},
     "outputs": [],
     "prompt_number": null
    }
   ],
   "metadata": {}
  }
 ]
}