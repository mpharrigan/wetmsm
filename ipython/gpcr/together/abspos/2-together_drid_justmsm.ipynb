{
 "metadata": {
  "name": "",
  "signature": "sha256:197e0a1c24ab4f1d806d7863e3424bdcad9808d0583a7a6863458a1e7ff6639e"
 },
 "nbformat": 3,
 "nbformat_minor": 0,
 "worksheets": [
  {
   "cells": [
    {
     "cell_type": "code",
     "collapsed": false,
     "input": [
      "%matplotlib inline"
     ],
     "language": "python",
     "metadata": {},
     "outputs": [],
     "prompt_number": 1
    },
    {
     "cell_type": "code",
     "collapsed": false,
     "input": [
      "import pickle\n",
      "from mixtape.cluster import MiniBatchKMeans\n",
      "from mixtape.markovstatemodel import MarkovStateModel"
     ],
     "language": "python",
     "metadata": {},
     "outputs": [],
     "prompt_number": 2
    },
    {
     "cell_type": "code",
     "collapsed": false,
     "input": [
      "cd ~/implement/wetmsm/gpcr/together/drid/"
     ],
     "language": "python",
     "metadata": {},
     "outputs": [
      {
       "output_type": "stream",
       "stream": "stdout",
       "text": [
        "/home/harrigan/implement/wetmsm/gpcr/together/drid\n"
       ]
      }
     ],
     "prompt_number": 3
    },
    {
     "cell_type": "code",
     "collapsed": false,
     "input": [
      "with open('1-2rh1_seqs.pickl', 'rb') as f:\n",
      "    iseqs = pickle.load(f)\n",
      "with open('1-3p0g_seqs.pickl', 'rb') as f:\n",
      "    aseqs = pickle.load(f)"
     ],
     "language": "python",
     "metadata": {},
     "outputs": [],
     "prompt_number": 4
    },
    {
     "cell_type": "code",
     "collapsed": false,
     "input": [
      "print(iseqs[0].shape, aseqs[0].shape)"
     ],
     "language": "python",
     "metadata": {},
     "outputs": [
      {
       "output_type": "stream",
       "stream": "stdout",
       "text": [
        "(27, 825) (24, 825)\n"
       ]
      }
     ],
     "prompt_number": 5
    },
    {
     "cell_type": "code",
     "collapsed": false,
     "input": [
      "seqs = iseqs + aseqs"
     ],
     "language": "python",
     "metadata": {},
     "outputs": [],
     "prompt_number": 6
    },
    {
     "cell_type": "code",
     "collapsed": false,
     "input": [
      "for s in seqs:\n",
      "    assert s.shape[1] == 825"
     ],
     "language": "python",
     "metadata": {},
     "outputs": [],
     "prompt_number": 7
    },
    {
     "cell_type": "markdown",
     "metadata": {},
     "source": [
      "## Get tICA for vis"
     ]
    },
    {
     "cell_type": "code",
     "collapsed": false,
     "input": [
      "with open('3-ticax.pickl', 'rb') as f:\n",
      "    tseqs = pickle.load(f)\n",
      "with open('2-tica.pickl', 'rb') as f:\n",
      "    tica = pickle.load(f)\n",
      "txy = np.concatenate(tseqs)"
     ],
     "language": "python",
     "metadata": {},
     "outputs": [],
     "prompt_number": 8
    },
    {
     "cell_type": "markdown",
     "metadata": {},
     "source": [
      "# Cluster"
     ]
    },
    {
     "cell_type": "code",
     "collapsed": false,
     "input": [
      "kmeans = MiniBatchKMeans(n_clusters=150)"
     ],
     "language": "python",
     "metadata": {},
     "outputs": [],
     "prompt_number": 9
    },
    {
     "cell_type": "code",
     "collapsed": false,
     "input": [
      "kmeans.fit(seqs)"
     ],
     "language": "python",
     "metadata": {},
     "outputs": [
      {
       "metadata": {},
       "output_type": "pyout",
       "prompt_number": 10,
       "text": [
        "MiniBatchKMeans(batch_size=100, compute_labels=True, init='k-means++',\n",
        "        init_size=None, max_iter=100, max_no_improvement=10,\n",
        "        n_clusters=150, n_init=3, random_state=None,\n",
        "        reassignment_ratio=0.01, tol=0.0, verbose=0)"
       ]
      }
     ],
     "prompt_number": 10
    },
    {
     "cell_type": "code",
     "collapsed": false,
     "input": [
      "tcenters = tica.transform([kmeans.cluster_centers_])[0]"
     ],
     "language": "python",
     "metadata": {},
     "outputs": [],
     "prompt_number": 11
    },
    {
     "cell_type": "code",
     "collapsed": false,
     "input": [
      "_ = plt.hist2d(txy[:,0], txy[:,1], bins=80, cmin=1, cmap=plt.get_cmap('terrain'))\n",
      "plt.scatter(tcenters[:,0], tcenters[:,1], s=50, c='r')"
     ],
     "language": "python",
     "metadata": {},
     "outputs": [
      {
       "metadata": {},
       "output_type": "pyout",
       "prompt_number": 13,
       "text": [
        "<matplotlib.collections.PathCollection at 0x7f2549c8e358>"
       ]
      },
      {
       "metadata": {},
       "output_type": "display_data",
       "png": "[encoded data removed]",
       "text": [
        "<matplotlib.figure.Figure at 0x7f2549aa0b38>"
       ]
      }
     ],
     "prompt_number": 13
    },
    {
     "cell_type": "markdown",
     "metadata": {},
     "source": [
      "# Do MSM"
     ]
    },
    {
     "cell_type": "code",
     "collapsed": false,
     "input": [
      "for lt in range(1,20,2):\n",
      "    msm = MarkovStateModel(lag_time=lt)\n",
      "    msm.fit(kmeans.labels_)"
     ],
     "language": "python",
     "metadata": {},
     "outputs": [
      {
       "output_type": "stream",
       "stream": "stdout",
       "text": [
        "MSM contains 4 strongly connected components above weight=1.00. Component 2 selected, with population 99.996642%\n",
        "MSM contains 7 strongly connected components above weight=1.00. Component 4 selected, with population 99.993138%"
       ]
      },
      {
       "output_type": "stream",
       "stream": "stdout",
       "text": [
        "\n",
        "MSM contains 10 strongly connected components above weight=1.00. Component 6 selected, with population 99.991557%"
       ]
      },
      {
       "output_type": "stream",
       "stream": "stdout",
       "text": [
        "\n",
        "MSM contains 14 strongly connected components above weight=1.00. Component 0 selected, with population 50.889764%"
       ]
      },
      {
       "output_type": "stream",
       "stream": "stdout",
       "text": [
        "\n",
        "MSM contains 17 strongly connected components above weight=1.00. Component 2 selected, with population 50.989689%"
       ]
      },
      {
       "output_type": "stream",
       "stream": "stdout",
       "text": [
        "\n",
        "MSM contains 23 strongly connected components above weight=1.00. Component 2 selected, with population 51.123143%"
       ]
      },
      {
       "output_type": "stream",
       "stream": "stdout",
       "text": [
        "\n",
        "MSM contains 26 strongly connected components above weight=1.00. Component 3 selected, with population 51.290147%"
       ]
      },
      {
       "output_type": "stream",
       "stream": "stdout",
       "text": [
        "\n",
        "MSM contains 34 strongly connected components above weight=1.00. Component 6 selected, with population 51.501468%"
       ]
      },
      {
       "output_type": "stream",
       "stream": "stdout",
       "text": [
        "\n",
        "MSM contains 38 strongly connected components above weight=1.00. Component 5 selected, with population 51.787061%"
       ]
      },
      {
       "output_type": "stream",
       "stream": "stdout",
       "text": [
        "\n",
        "MSM contains 42 strongly connected components above weight=1.00. Component 8 selected, with population 52.202423%"
       ]
      },
      {
       "output_type": "stream",
       "stream": "stdout",
       "text": [
        "\n"
       ]
      }
     ],
     "prompt_number": 14
    },
    {
     "cell_type": "code",
     "collapsed": false,
     "input": [
      "msm = MarkovStateModel(lag_time=1).fit(kmeans.labels_)"
     ],
     "language": "python",
     "metadata": {},
     "outputs": [
      {
       "output_type": "stream",
       "stream": "stdout",
       "text": [
        "MSM contains 4 strongly connected components above weight=1.00. Component 2 selected, with population 99.996642%\n"
       ]
      }
     ],
     "prompt_number": 15
    },
    {
     "cell_type": "code",
     "collapsed": false,
     "input": [
      "plt.subplots(figsize=(3,5))\n",
      "plt.hlines(msm.timescales_, 0, 1, 'b')\n",
      "plt.yscale('log')"
     ],
     "language": "python",
     "metadata": {},
     "outputs": [
      {
       "metadata": {},
       "output_type": "display_data",
       "png": "[encoded data removed]",
       "text": [
        "<matplotlib.figure.Figure at 0x7f2549aa0fd0>"
       ]
      }
     ],
     "prompt_number": 16
    },
    {
     "cell_type": "markdown",
     "metadata": {},
     "source": [
      "# Timescales vs. K"
     ]
    },
    {
     "cell_type": "code",
     "collapsed": false,
     "input": [
      "#tims = {}\n",
      "for nc in range(100, 200, 10):\n",
      "    print(nc, \"Clusters\")\n",
      "    kmeans = MiniBatchKMeans(n_clusters=nc)\n",
      "    kmeans.fit(seqs)\n",
      "    msm = MarkovStateModel(lag_time=1).fit(kmeans.labels_)\n",
      "    tims[nc] = msm.timescales_"
     ],
     "language": "python",
     "metadata": {},
     "outputs": [
      {
       "output_type": "stream",
       "stream": "stdout",
       "text": [
        "100 Clusters\n",
        "MSM contains 2 strongly connected components above weight=1.00. Component 1 selected, with population 99.999605%"
       ]
      },
      {
       "output_type": "stream",
       "stream": "stdout",
       "text": [
        "\n",
        "110"
       ]
      },
      {
       "output_type": "stream",
       "stream": "stdout",
       "text": [
        " Clusters\n",
        "MSM contains 4 strongly connected components above weight=1.00. Component 2 selected, with population 50.717151%"
       ]
      },
      {
       "output_type": "stream",
       "stream": "stdout",
       "text": [
        "\n",
        "120 Clusters\n",
        "MSM contains 5 strongly connected components above weight=1.00. Component 3 selected, with population 99.993876%"
       ]
      },
      {
       "output_type": "stream",
       "stream": "stdout",
       "text": [
        "\n",
        "130"
       ]
      },
      {
       "output_type": "stream",
       "stream": "stdout",
       "text": [
        " Clusters\n",
        "MSM contains 5 strongly connected components above weight=1.00. Component 3 selected, with population 99.996247%"
       ]
      },
      {
       "output_type": "stream",
       "stream": "stdout",
       "text": [
        "\n",
        "140"
       ]
      },
      {
       "output_type": "stream",
       "stream": "stdout",
       "text": [
        " Clusters\n",
        "MSM contains 4 strongly connected components above weight=1.00. Component 2 selected, with population 99.995654%"
       ]
      },
      {
       "output_type": "stream",
       "stream": "stdout",
       "text": [
        "\n",
        "150"
       ]
      },
      {
       "output_type": "stream",
       "stream": "stdout",
       "text": [
        " Clusters\n",
        "MSM contains 2 strongly connected components above weight=1.00. Component 0 selected, with population 99.999407%"
       ]
      },
      {
       "output_type": "stream",
       "stream": "stdout",
       "text": [
        "\n",
        "160"
       ]
      },
      {
       "output_type": "stream",
       "stream": "stdout",
       "text": [
        " Clusters\n",
        "MSM contains 4 strongly connected components above weight=1.00. Component 3 selected, with population 99.999012%"
       ]
      },
      {
       "output_type": "stream",
       "stream": "stdout",
       "text": [
        "\n",
        "170"
       ]
      },
      {
       "output_type": "stream",
       "stream": "stdout",
       "text": [
        " Clusters\n",
        "MSM contains 6 strongly connected components above weight=1.00. Component 3 selected, with population 99.941332%"
       ]
      },
      {
       "output_type": "stream",
       "stream": "stdout",
       "text": [
        "\n",
        "180"
       ]
      },
      {
       "output_type": "stream",
       "stream": "stdout",
       "text": [
        " Clusters\n",
        "MSM contains 4 strongly connected components above weight=1.00. Component 1 selected, with population 50.716756%"
       ]
      },
      {
       "output_type": "stream",
       "stream": "stdout",
       "text": [
        "\n",
        "190"
       ]
      },
      {
       "output_type": "stream",
       "stream": "stdout",
       "text": [
        " Clusters\n",
        "MSM contains 6 strongly connected components above weight=1.00. Component 3 selected, with population 99.941135%"
       ]
      },
      {
       "output_type": "stream",
       "stream": "stdout",
       "text": [
        "\n"
       ]
      }
     ],
     "prompt_number": 38
    },
    {
     "cell_type": "code",
     "collapsed": false,
     "input": [
      "for nc, ts in tims.items():\n",
      "    plt.scatter(nc * np.ones(len(ts)), ts, s=50)\n",
      "plt.yscale('log')"
     ],
     "language": "python",
     "metadata": {},
     "outputs": [
      {
       "metadata": {},
       "output_type": "display_data",
       "png": "[encoded data removed]",
       "text": [
        "<matplotlib.figure.Figure at 0x7fc23565c518>"
       ]
      }
     ],
     "prompt_number": 39
    },
    {
     "cell_type": "code",
     "collapsed": false,
     "input": [],
     "language": "python",
     "metadata": {},
     "outputs": []
    }
   ],
   "metadata": {}
  }
 ]
}