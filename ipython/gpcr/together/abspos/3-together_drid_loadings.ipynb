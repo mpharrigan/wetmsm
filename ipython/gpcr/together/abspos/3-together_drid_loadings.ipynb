{
 "metadata": {
  "name": "",
  "signature": "sha256:618a4ec83ee44d3a8f716e5cbe39ebd55fb38e96cc0279c4f87bff92c485a896"
 },
 "nbformat": 3,
 "nbformat_minor": 0,
 "worksheets": [
  {
   "cells": [
    {
     "cell_type": "code",
     "collapsed": false,
     "input": [
      "%matplotlib inline"
     ],
     "language": "python",
     "metadata": {},
     "outputs": [],
     "prompt_number": 1
    },
    {
     "cell_type": "code",
     "collapsed": false,
     "input": [
      "import pickle"
     ],
     "language": "python",
     "metadata": {},
     "outputs": [],
     "prompt_number": 2
    },
    {
     "cell_type": "code",
     "collapsed": false,
     "input": [
      "cd ~/implement/wetmsm/gpcr/together/drid/"
     ],
     "language": "python",
     "metadata": {},
     "outputs": [
      {
       "output_type": "stream",
       "stream": "stdout",
       "text": [
        "/home/harrigan/implement/wetmsm/gpcr/together/drid\n"
       ]
      }
     ],
     "prompt_number": 3
    },
    {
     "cell_type": "code",
     "collapsed": false,
     "input": [
      "with open('3-ticax.pickl', 'rb') as f:\n",
      "    tseqs = pickle.load(f)\n",
      "with open('2-tica.pickl', 'rb') as f:\n",
      "    tica = pickle.load(f)\n",
      "txy = np.concatenate(tseqs)"
     ],
     "language": "python",
     "metadata": {},
     "outputs": [],
     "prompt_number": 4
    },
    {
     "cell_type": "markdown",
     "metadata": {},
     "source": [
      "## Look at loadings"
     ]
    },
    {
     "cell_type": "code",
     "collapsed": false,
     "input": [
      "tic1 = tica.components_[0]\n",
      "xx = np.arange(len(tic1))"
     ],
     "language": "python",
     "metadata": {},
     "outputs": [],
     "prompt_number": 7
    },
    {
     "cell_type": "code",
     "collapsed": false,
     "input": [
      "plt.subplots(figsize=(8,5))\n",
      "\n",
      "cutoff = np.abs(tic1) > 1\n",
      "\n",
      "plt.scatter(xx, tic1, edgecolor='none', s=40)\n",
      "plt.scatter(xx[cutoff], tic1[cutoff], edgecolor='none', s=100, c='r', label='Selected')\n",
      "\n",
      "# Format\n",
      "plt.axhline(0, c='k')\n",
      "plt.xlim((0, len(tic1)))\n",
      "\n",
      "plt.xlabel('DRID Feature')\n",
      "plt.ylabel('tICA Weight')\n",
      "plt.legend(scatterpoints=1, loc='lower right')\n",
      "\n",
      "plt.savefig('loading-selected-high.pdf')"
     ],
     "language": "python",
     "metadata": {},
     "outputs": [
      {
       "metadata": {},
       "output_type": "display_data",
       "png": "[encoded data removed]",
       "text": [
        "<matplotlib.figure.Figure at 0x7fef1b2760f0>"
       ]
      }
     ],
     "prompt_number": 74
    },
    {
     "cell_type": "markdown",
     "metadata": {},
     "source": [
      "## Convert to atom indices"
     ]
    },
    {
     "cell_type": "code",
     "collapsed": false,
     "input": [
      "n_atoms = len(tic1) // 3\n",
      "assert len(tic1) % 3 == 0"
     ],
     "language": "python",
     "metadata": {},
     "outputs": [],
     "prompt_number": 75
    },
    {
     "cell_type": "code",
     "collapsed": false,
     "input": [
      "inds = np.arange(len(tic1))\n",
      "inds_r = inds.reshape((n_atoms, 3))"
     ],
     "language": "python",
     "metadata": {},
     "outputs": [],
     "prompt_number": 76
    },
    {
     "cell_type": "code",
     "collapsed": false,
     "input": [
      "def get_feat(ii):\n",
      "    return np.asarray(np.where(inds_r == ii)).flatten()"
     ],
     "language": "python",
     "metadata": {},
     "outputs": [],
     "prompt_number": 77
    },
    {
     "cell_type": "code",
     "collapsed": false,
     "input": [
      "cutoffw, = np.where(cutoff)\n",
      "featy = []\n",
      "for cw in cutoffw:\n",
      "    featy.append(get_feat(cw))\n",
      "featy = np.asarray(featy)\n",
      "print(featy)"
     ],
     "language": "python",
     "metadata": {},
     "outputs": [
      {
       "output_type": "stream",
       "stream": "stdout",
       "text": [
        "[[ 38   0]\n",
        " [104   1]\n",
        " [108   0]\n",
        " [112   0]\n",
        " [113   0]\n",
        " [113   1]\n",
        " [113   2]\n",
        " [114   1]\n",
        " [163   0]\n",
        " [163   1]\n",
        " [200   0]\n",
        " [200   1]\n",
        " [201   0]\n",
        " [204   0]\n",
        " [207   1]\n",
        " [211   0]\n",
        " [213   0]\n",
        " [215   0]]\n"
       ]
      }
     ],
     "prompt_number": 78
    },
    {
     "cell_type": "code",
     "collapsed": false,
     "input": [
      "plt.scatter(featy[:,0], featy[:,1], s=200)"
     ],
     "language": "python",
     "metadata": {},
     "outputs": [
      {
       "metadata": {},
       "output_type": "pyout",
       "prompt_number": 79,
       "text": [
        "<matplotlib.collections.PathCollection at 0x7fef18486390>"
       ]
      },
      {
       "metadata": {},
       "output_type": "display_data",
       "png": "[encoded data removed]",
       "text": [
        "<matplotlib.figure.Figure at 0x7fef181c1978>"
       ]
      }
     ],
     "prompt_number": 79
    },
    {
     "cell_type": "markdown",
     "metadata": {},
     "source": [
      "# Turn to atom indices"
     ]
    },
    {
     "cell_type": "code",
     "collapsed": false,
     "input": [
      "cd vis"
     ],
     "language": "python",
     "metadata": {},
     "outputs": [
      {
       "output_type": "stream",
       "stream": "stdout",
       "text": [
        "/home/harrigan/implement/wetmsm/gpcr/together/drid/vis\n"
       ]
      }
     ],
     "prompt_number": 41
    },
    {
     "cell_type": "code",
     "collapsed": false,
     "input": [
      "ca_2 = np.loadtxt('ca_2rh1.dat', dtype=int)\n",
      "ca_3 = np.loadtxt('ca_3p0g.dat', dtype=int)"
     ],
     "language": "python",
     "metadata": {},
     "outputs": [],
     "prompt_number": 80
    },
    {
     "cell_type": "code",
     "collapsed": false,
     "input": [
      "# Write a script for common ca\n",
      "lines = ['set sel [atomselect top \"index=={ii}\"]\\n$sel set user 1\\n'.format(ii=ii) for ii in ca_2]\n",
      "with open('2rh1.ca.tcl', 'w') as f:\n",
      "    f.writelines(lines)\n",
      "    \n",
      "lines = ['set sel [atomselect top \"index=={ii}\"]\\n$sel set user 1\\n'.format(ii=ii) for ii in ca_3]\n",
      "with open('3p0g.ca.tcl', 'w') as f:\n",
      "    f.writelines(lines)"
     ],
     "language": "python",
     "metadata": {},
     "outputs": [],
     "prompt_number": 66
    },
    {
     "cell_type": "code",
     "collapsed": false,
     "input": [
      "sp = featy[:,0]\n",
      "\n",
      "lines = ['set sel [atomselect top \"index=={ii}\"]\\n$sel set user2 20\\n'.format(ii=ii) for ii in ca_2[sp]]\n",
      "with open('2rh1.h0.tcl', 'w') as f:\n",
      "    f.writelines(lines)\n",
      "    \n",
      "lines = ['set sel [atomselect top \"index=={ii}\"]\\n$sel set user2 20\\n'.format(ii=ii) for ii in ca_3[sp]]\n",
      "with open('3p0g.h0.tcl', 'w') as f:\n",
      "    f.writelines(lines)"
     ],
     "language": "python",
     "metadata": {},
     "outputs": [],
     "prompt_number": 81
    },
    {
     "cell_type": "code",
     "collapsed": false,
     "input": [],
     "language": "python",
     "metadata": {},
     "outputs": []
    }
   ],
   "metadata": {}
  }
 ]
}