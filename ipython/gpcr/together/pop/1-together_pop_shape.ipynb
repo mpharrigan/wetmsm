{
 "metadata": {
  "name": "",
  "signature": "sha256:f344e7fbe514ed0bde6581d0ebb612a95351d740eeff0e7d7f9148991f625882"
 },
 "nbformat": 3,
 "nbformat_minor": 0,
 "worksheets": [
  {
   "cells": [
    {
     "cell_type": "code",
     "collapsed": false,
     "input": [
      "%matplotlib inline"
     ],
     "language": "python",
     "metadata": {},
     "outputs": [],
     "prompt_number": 1
    },
    {
     "cell_type": "code",
     "collapsed": false,
     "input": [
      "import pickle\n",
      "from mixtape.tica import tICA\n",
      "from wetmsm.analysis import SolventShellsAnalysis\n",
      "import re"
     ],
     "language": "python",
     "metadata": {},
     "outputs": [],
     "prompt_number": 2
    },
    {
     "cell_type": "code",
     "collapsed": false,
     "input": [
      "cd ~/implement/wetmsm/gpcr/"
     ],
     "language": "python",
     "metadata": {},
     "outputs": [
      {
       "output_type": "stream",
       "stream": "stdout",
       "text": [
        "/home/harrigan/implement/wetmsm/gpcr\n"
       ]
      }
     ],
     "prompt_number": 3
    },
    {
     "cell_type": "code",
     "collapsed": false,
     "input": [
      "with open('2rh1/pop/1-pop.pickl', 'rb') as f:\n",
      "    iseqs = pickle.load(f)\n",
      "with open('3p0g/pop/1-pop.pickl', 'rb') as f:\n",
      "    aseqs = pickle.load(f)"
     ],
     "language": "python",
     "metadata": {},
     "outputs": [],
     "prompt_number": 4
    },
    {
     "cell_type": "markdown",
     "metadata": {},
     "source": [
      "# Sort"
     ]
    },
    {
     "cell_type": "code",
     "collapsed": false,
     "input": [
      "with open('2rh1/pop/1-pop-fns.pickl', 'rb') as f:\n",
      "    ifns = pickle.load(f)\n",
      "with open('3p0g/pop/1-pop-fns.pickl', 'rb') as f:\n",
      "    afns = pickle.load(f)"
     ],
     "language": "python",
     "metadata": {},
     "outputs": [],
     "prompt_number": 5
    },
    {
     "cell_type": "code",
     "collapsed": false,
     "input": [
      "def get_num(fns):\n",
      "    return np.asarray([int(re.match('.*clone([0-9]+).*', fn).group(1)) for fn in fns])"
     ],
     "language": "python",
     "metadata": {},
     "outputs": [],
     "prompt_number": 6
    },
    {
     "cell_type": "code",
     "collapsed": false,
     "input": [
      "ifn2 = get_num(ifns)\n",
      "afn2 = get_num(afns)"
     ],
     "language": "python",
     "metadata": {},
     "outputs": [],
     "prompt_number": 7
    },
    {
     "cell_type": "code",
     "collapsed": false,
     "input": [
      "isorty = sorted(zip(iseqs, ifns, ifn2), key=lambda xx: xx[-1])\n",
      "asorty = sorted(zip(aseqs, afns, afn2), key=lambda xx: xx[-1])"
     ],
     "language": "python",
     "metadata": {},
     "outputs": [],
     "prompt_number": 16
    },
    {
     "cell_type": "code",
     "collapsed": false,
     "input": [
      "seqs = [seq for seq, _, _ in isorty] + [seq for seq, _, _ in asorty]"
     ],
     "language": "python",
     "metadata": {},
     "outputs": [],
     "prompt_number": 17
    },
    {
     "cell_type": "code",
     "collapsed": false,
     "input": [
      "for s in seqs:\n",
      "    assert s.shape[1] == 275\n",
      "    assert s.shape[2] == 5"
     ],
     "language": "python",
     "metadata": {},
     "outputs": [],
     "prompt_number": 18
    },
    {
     "cell_type": "code",
     "collapsed": false,
     "input": [
      "del iseqs, aseqs, isorty, asorty, ifns, afns"
     ],
     "language": "python",
     "metadata": {},
     "outputs": [],
     "prompt_number": 19
    },
    {
     "cell_type": "code",
     "collapsed": false,
     "input": [
      "sa = SolventShellsAnalysis(seqs, shell_w=0.2)"
     ],
     "language": "python",
     "metadata": {},
     "outputs": [],
     "prompt_number": 20
    },
    {
     "cell_type": "code",
     "collapsed": false,
     "input": [
      "_ = sa.seqs2d"
     ],
     "language": "python",
     "metadata": {},
     "outputs": [],
     "prompt_number": 21
    },
    {
     "cell_type": "code",
     "collapsed": false,
     "input": [
      "cd together/pop"
     ],
     "language": "python",
     "metadata": {},
     "outputs": [
      {
       "output_type": "stream",
       "stream": "stdout",
       "text": [
        "/home/harrigan/implement/wetmsm/gpcr/together/pop\n"
       ]
      }
     ],
     "prompt_number": 22
    },
    {
     "cell_type": "code",
     "collapsed": false,
     "input": [
      "with open('1-seqs2d.pickl', 'wb') as f:\n",
      "    pickle.dump(sa.seqs2d, f)"
     ],
     "language": "python",
     "metadata": {},
     "outputs": [],
     "prompt_number": 23
    },
    {
     "cell_type": "code",
     "collapsed": false,
     "input": [
      "ls -rtlh"
     ],
     "language": "python",
     "metadata": {},
     "outputs": [
      {
       "output_type": "stream",
       "stream": "stdout",
       "text": [
        "total 4.4G\r\n",
        "-rw-rw-r-- 1 harrigan harrigan  28M Jul 31 17:14 2-tica.pickl\r\n",
        "-rw-rw-r-- 1 harrigan harrigan  42M Jul 31 17:14 3-ticax.pickl\r\n",
        "-rw-rw-r-- 1 harrigan harrigan 4.4G Aug 19 22:09 1-seqs2d.pickl\r\n"
       ]
      }
     ],
     "prompt_number": 24
    },
    {
     "cell_type": "code",
     "collapsed": false,
     "input": [],
     "language": "python",
     "metadata": {},
     "outputs": []
    }
   ],
   "metadata": {}
  }
 ]
}