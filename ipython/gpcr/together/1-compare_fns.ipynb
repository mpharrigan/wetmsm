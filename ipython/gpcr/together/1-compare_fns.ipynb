{
 "metadata": {
  "name": "",
  "signature": "sha256:290c53c2a3552a73b52824699702ec30a07158cabeed9e67557ef8bd6c2569e7"
 },
 "nbformat": 3,
 "nbformat_minor": 0,
 "worksheets": [
  {
   "cells": [
    {
     "cell_type": "code",
     "collapsed": false,
     "input": [
      "import pickle"
     ],
     "language": "python",
     "metadata": {},
     "outputs": [],
     "prompt_number": 1
    },
    {
     "cell_type": "code",
     "collapsed": false,
     "input": [
      "cd ~/implement/wetmsm/gpcr/"
     ],
     "language": "python",
     "metadata": {},
     "outputs": [
      {
       "output_type": "stream",
       "stream": "stdout",
       "text": [
        "/home/harrigan/implement/wetmsm/gpcr\n"
       ]
      }
     ],
     "prompt_number": 2
    },
    {
     "cell_type": "code",
     "collapsed": false,
     "input": [
      "ls"
     ],
     "language": "python",
     "metadata": {},
     "outputs": [
      {
       "output_type": "stream",
       "stream": "stdout",
       "text": [
        "\u001b[0m\u001b[01;34m2rh1\u001b[0m/  \u001b[01;34m3p0g\u001b[0m/  \u001b[01;34matomselect\u001b[0m/  \u001b[01;34mtogether\u001b[0m/\r\n"
       ]
      }
     ],
     "prompt_number": 3
    },
    {
     "cell_type": "code",
     "collapsed": false,
     "input": [
      "import re"
     ],
     "language": "python",
     "metadata": {},
     "outputs": [],
     "prompt_number": 4
    },
    {
     "cell_type": "code",
     "collapsed": false,
     "input": [
      "with open('2rh1/abspos/1-seqs.fns.pickl', 'rb') as f:\n",
      "    idfns = pickle.load(f)\n",
      "with open('2rh1/hoh/1-hoh-fns.pickl', 'rb') as f:\n",
      "    ihfns = pickle.load(f)\n",
      "with open('2rh1/pop/1-pop-fns.pickl', 'rb') as f:\n",
      "    ipfns = pickle.load(f)\n",
      "    \n",
      "    \n",
      "with open('3p0g/abspos/1-seqs.fns.pickl', 'rb') as f:\n",
      "    adfns = pickle.load(f)\n",
      "with open('3p0g/hoh/1-hoh-fns.pickl', 'rb') as f:\n",
      "    ahfns = pickle.load(f)\n",
      "with open('3p0g/pop/1-pop-fns.pickl', 'rb') as f:\n",
      "    apfns = pickle.load(f)"
     ],
     "language": "python",
     "metadata": {},
     "outputs": [],
     "prompt_number": 9
    },
    {
     "cell_type": "code",
     "collapsed": false,
     "input": [
      "def get_num(fns):\n",
      "    return np.asarray([int(re.match('.*clone([0-9]+).*', fn).group(1)) for fn in fns])"
     ],
     "language": "python",
     "metadata": {},
     "outputs": [],
     "prompt_number": 10
    },
    {
     "cell_type": "code",
     "collapsed": false,
     "input": [
      "idfns2 = get_num(idfns)\n",
      "ihfns2 = get_num(ihfns)\n",
      "ipfns2 = get_num(ipfns)\n",
      "\n",
      "adfns2 = get_num(adfns)\n",
      "ahfns2 = get_num(ahfns)\n",
      "apfns2 = get_num(apfns)"
     ],
     "language": "python",
     "metadata": {},
     "outputs": [],
     "prompt_number": 11
    },
    {
     "cell_type": "code",
     "collapsed": false,
     "input": [
      "print(len(idfns2), len(ihfns2), len(ipfns2))\n",
      "print(len(adfns2), len(ahfns2), len(apfns2))"
     ],
     "language": "python",
     "metadata": {},
     "outputs": [
      {
       "output_type": "stream",
       "stream": "stdout",
       "text": [
        "9983 9983 9983\n",
        "9985 9985 9985\n"
       ]
      }
     ],
     "prompt_number": 12
    },
    {
     "cell_type": "code",
     "collapsed": false,
     "input": [
      "np.setdiff1d(ihfns2, ipfns2)"
     ],
     "language": "python",
     "metadata": {},
     "outputs": [
      {
       "metadata": {},
       "output_type": "pyout",
       "prompt_number": 13,
       "text": [
        "array([], dtype=int64)"
       ]
      }
     ],
     "prompt_number": 13
    },
    {
     "cell_type": "code",
     "collapsed": false,
     "input": [],
     "language": "python",
     "metadata": {},
     "outputs": []
    }
   ],
   "metadata": {}
  }
 ]
}