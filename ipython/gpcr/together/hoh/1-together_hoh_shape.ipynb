{
 "metadata": {
  "name": "",
  "signature": "sha256:fee98a14489842e953b6850202712dcc38e0dbc907574a3796c02c85eb94c22e"
 },
 "nbformat": 3,
 "nbformat_minor": 0,
 "worksheets": [
  {
   "cells": [
    {
     "cell_type": "code",
     "collapsed": false,
     "input": [
      "%matplotlib inline"
     ],
     "language": "python",
     "metadata": {},
     "outputs": [],
     "prompt_number": 1
    },
    {
     "cell_type": "code",
     "collapsed": false,
     "input": [
      "import pickle\n",
      "from mixtape.tica import tICA\n",
      "from wetmsm.analysis import SolventShellsAnalysis\n",
      "import re"
     ],
     "language": "python",
     "metadata": {},
     "outputs": [],
     "prompt_number": 2
    },
    {
     "cell_type": "code",
     "collapsed": false,
     "input": [
      "cd ~/implement/wetmsm/gpcr/"
     ],
     "language": "python",
     "metadata": {},
     "outputs": [
      {
       "output_type": "stream",
       "stream": "stdout",
       "text": [
        "/home/harrigan/implement/wetmsm/gpcr\n"
       ]
      }
     ],
     "prompt_number": 3
    },
    {
     "cell_type": "code",
     "collapsed": false,
     "input": [
      "with open('2rh1/hoh/1-hoh.pickl', 'rb') as f:\n",
      "    iseqs = pickle.load(f)\n",
      "with open('3p0g/hoh/1-hoh.pickl', 'rb') as f:\n",
      "    aseqs = pickle.load(f)"
     ],
     "language": "python",
     "metadata": {},
     "outputs": [],
     "prompt_number": 4
    },
    {
     "cell_type": "code",
     "collapsed": false,
     "input": [
      "print(iseqs[0].shape, aseqs[0].shape)"
     ],
     "language": "python",
     "metadata": {},
     "outputs": [
      {
       "output_type": "stream",
       "stream": "stdout",
       "text": [
        "(29, 275, 5) (30, 275, 5)\n"
       ]
      }
     ],
     "prompt_number": 5
    },
    {
     "cell_type": "markdown",
     "metadata": {},
     "source": [
      "# Sort"
     ]
    },
    {
     "cell_type": "code",
     "collapsed": false,
     "input": [
      "with open('2rh1/hoh/1-hoh-fns.pickl', 'rb') as f:\n",
      "    ifns = pickle.load(f)\n",
      "with open('3p0g/hoh/1-hoh-fns.pickl', 'rb') as f:\n",
      "    afns = pickle.load(f)"
     ],
     "language": "python",
     "metadata": {},
     "outputs": [],
     "prompt_number": 6
    },
    {
     "cell_type": "code",
     "collapsed": false,
     "input": [
      "def get_num(fns):\n",
      "    return np.asarray([int(re.match('.*clone([0-9]+).*', fn).group(1)) for fn in fns])"
     ],
     "language": "python",
     "metadata": {},
     "outputs": [],
     "prompt_number": 7
    },
    {
     "cell_type": "code",
     "collapsed": false,
     "input": [
      "ifn2 = get_num(ifns)\n",
      "afn2 = get_num(afns)"
     ],
     "language": "python",
     "metadata": {},
     "outputs": [],
     "prompt_number": 8
    },
    {
     "cell_type": "code",
     "collapsed": false,
     "input": [
      "isorty = sorted(zip(iseqs, ifns, ifn2), key=lambda xx: xx[-1])\n",
      "asorty = sorted(zip(aseqs, afns, afn2), key=lambda xx: xx[-1])"
     ],
     "language": "python",
     "metadata": {},
     "outputs": [],
     "prompt_number": 9
    },
    {
     "cell_type": "code",
     "collapsed": false,
     "input": [
      "seqs = [seq for seq, _, _ in isorty] + [seq for seq, _, _ in asorty]"
     ],
     "language": "python",
     "metadata": {},
     "outputs": [],
     "prompt_number": 10
    },
    {
     "cell_type": "code",
     "collapsed": false,
     "input": [
      "for s in seqs:\n",
      "    assert s.shape[1] == 275\n",
      "    assert s.shape[2] == 5"
     ],
     "language": "python",
     "metadata": {},
     "outputs": [],
     "prompt_number": 11
    },
    {
     "cell_type": "code",
     "collapsed": false,
     "input": [
      "del aseqs, iseqs, isorty, asorty"
     ],
     "language": "python",
     "metadata": {},
     "outputs": [],
     "prompt_number": 12
    },
    {
     "cell_type": "code",
     "collapsed": false,
     "input": [
      "sa = SolventShellsAnalysis(seqs, shell_w=0.2)"
     ],
     "language": "python",
     "metadata": {},
     "outputs": [],
     "prompt_number": 13
    },
    {
     "cell_type": "code",
     "collapsed": false,
     "input": [
      "_ = sa.seqs2d"
     ],
     "language": "python",
     "metadata": {},
     "outputs": [],
     "prompt_number": 14
    },
    {
     "cell_type": "code",
     "collapsed": false,
     "input": [
      "cd together/hoh"
     ],
     "language": "python",
     "metadata": {},
     "outputs": [
      {
       "output_type": "stream",
       "stream": "stdout",
       "text": [
        "/home/harrigan/implement/wetmsm/gpcr/together/hoh\n"
       ]
      }
     ],
     "prompt_number": 15
    },
    {
     "cell_type": "code",
     "collapsed": false,
     "input": [
      "with open('1-seqs2d.pickl', 'wb') as f:\n",
      "    pickle.dump(sa.seqs2d, f)"
     ],
     "language": "python",
     "metadata": {},
     "outputs": [],
     "prompt_number": 16
    },
    {
     "cell_type": "code",
     "collapsed": false,
     "input": [],
     "language": "python",
     "metadata": {},
     "outputs": []
    }
   ],
   "metadata": {}
  }
 ]
}