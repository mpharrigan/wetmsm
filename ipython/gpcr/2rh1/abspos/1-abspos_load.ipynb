{
 "metadata": {
  "name": "",
  "signature": "sha256:9223c13c17ceb848a5b35666090236a4b712e2c1dee48b825306af8f406001f8"
 },
 "nbformat": 3,
 "nbformat_minor": 0,
 "worksheets": [
  {
   "cells": [
    {
     "cell_type": "code",
     "collapsed": false,
     "input": [
      "import pickle\n",
      "import glob"
     ],
     "language": "python",
     "metadata": {},
     "outputs": [],
     "prompt_number": 1
    },
    {
     "cell_type": "code",
     "collapsed": false,
     "input": [
      "cd ~/biox/implement/water/gpcr/"
     ],
     "language": "python",
     "metadata": {},
     "outputs": [
      {
       "output_type": "stream",
       "stream": "stdout",
       "text": [
        "/home/harrigan/mnt/biox/biox3/home/harrigan/implement/water/gpcr\n"
       ]
      }
     ],
     "prompt_number": 2
    },
    {
     "cell_type": "markdown",
     "metadata": {},
     "source": [
      "# Load sequences from disk"
     ]
    },
    {
     "cell_type": "code",
     "collapsed": false,
     "input": [
      "seqs = []\n",
      "fns = []\n",
      "for abspos_fn in glob.iglob('2rh1/generation2/trr/*/clone*.trr.abspos.pickl'):\n",
      "    with open(abspos_fn, 'rb') as f:\n",
      "        aa = pickle.load(f)\n",
      "        if len(aa) > 1:\n",
      "            seqs.append(aa)\n",
      "            fns.append(abspos_fn)"
     ],
     "language": "python",
     "metadata": {},
     "outputs": [],
     "prompt_number": 3
    },
    {
     "cell_type": "code",
     "collapsed": false,
     "input": [
      "print(len(seqs))"
     ],
     "language": "python",
     "metadata": {},
     "outputs": [
      {
       "output_type": "stream",
       "stream": "stdout",
       "text": [
        "9983\n"
       ]
      }
     ],
     "prompt_number": 4
    },
    {
     "cell_type": "code",
     "collapsed": false,
     "input": [
      "with open('/home/harrigan/implement/wetmsm/gpcr/abspos/1-seqs.pickl', 'wb') as f:\n",
      "    pickle.dump(seqs, f)\n",
      "with open('/home/harrigan/implement/wetmsm/gpcr/abspos/1-seqs.fns.pickl', 'wb') as f:\n",
      "    pickle.dump(fns, f)    "
     ],
     "language": "python",
     "metadata": {},
     "outputs": [],
     "prompt_number": 5
    },
    {
     "cell_type": "code",
     "collapsed": false,
     "input": [],
     "language": "python",
     "metadata": {},
     "outputs": []
    }
   ],
   "metadata": {}
  }
 ]
}