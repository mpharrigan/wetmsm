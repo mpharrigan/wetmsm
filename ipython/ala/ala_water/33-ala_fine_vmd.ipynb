{
 "metadata": {
  "name": "",
  "signature": "sha256:f278fec5a08b12d1877666cdefd761e626a62b9293cfd02c1017bcf2fffd2bea"
 },
 "nbformat": 3,
 "nbformat_minor": 0,
 "worksheets": [
  {
   "cells": [
    {
     "cell_type": "code",
     "collapsed": false,
     "input": [
      "%matplotlib inline"
     ],
     "language": "python",
     "metadata": {},
     "outputs": [],
     "prompt_number": 1
    },
    {
     "cell_type": "code",
     "collapsed": false,
     "input": [
      "import pickle\n",
      "from wetmsm.analysis import SolventShellsAnalysis\n",
      "from wetmsm import vmd_write\n",
      "import tables"
     ],
     "language": "python",
     "metadata": {},
     "outputs": [],
     "prompt_number": 2
    },
    {
     "cell_type": "code",
     "collapsed": false,
     "input": [
      "cd ~/implement/wetmsm/ala-fine"
     ],
     "language": "python",
     "metadata": {},
     "outputs": [
      {
       "output_type": "stream",
       "stream": "stdout",
       "text": [
        "/home/harrigan/implement/wetmsm/ala-fine\n"
       ]
      }
     ],
     "prompt_number": 3
    },
    {
     "cell_type": "code",
     "collapsed": false,
     "input": [
      "n_shells = 5\n",
      "shell_w = 0.2"
     ],
     "language": "python",
     "metadata": {},
     "outputs": [],
     "prompt_number": 4
    },
    {
     "cell_type": "code",
     "collapsed": false,
     "input": [
      "with open('2-tica.pickl', 'rb') as f:\n",
      "    sa = pickle.load(f)"
     ],
     "language": "python",
     "metadata": {},
     "outputs": [],
     "prompt_number": 5
    },
    {
     "cell_type": "code",
     "collapsed": false,
     "input": [
      "tic1 = sa.tica.components_[0] ** 2\n",
      "tic2 = sa.tica.components_[1] ** 2\n",
      "tic2 /= np.max(tic1)\n",
      "tic1 /= np.max(tic1)"
     ],
     "language": "python",
     "metadata": {},
     "outputs": [],
     "prompt_number": 6
    },
    {
     "cell_type": "code",
     "collapsed": false,
     "input": [
      "pc1 = sa.pca.components_[0] ** 2\n",
      "pc2 = sa.pca.components_[1] ** 2\n",
      "pc1 /= np.max(pc1)\n",
      "pc2 /= np.max(pc1)"
     ],
     "language": "python",
     "metadata": {},
     "outputs": [],
     "prompt_number": 7
    },
    {
     "cell_type": "markdown",
     "metadata": {},
     "source": [
      "# VMD"
     ]
    },
    {
     "cell_type": "code",
     "collapsed": false,
     "input": [
      "cd ~/biox/implement/water/ala-fine"
     ],
     "language": "python",
     "metadata": {},
     "outputs": [
      {
       "output_type": "stream",
       "stream": "stdout",
       "text": [
        "/home/harrigan/mnt/biox/biox3/home/harrigan/implement/water/ala-fine\n"
       ]
      }
     ],
     "prompt_number": 24
    },
    {
     "cell_type": "code",
     "collapsed": false,
     "input": [
      "assn_fo = tables.open_file('trajs/traj-2.dcd.o.assign.h5')\n",
      "assno = assn_fo.root.assignments\n",
      "\n",
      "assn_fh12 = tables.open_file('trajs/traj-2.dcd.h12.assign.h5')\n",
      "assnh12 = assn_fh12.root.assignments"
     ],
     "language": "python",
     "metadata": {},
     "outputs": [],
     "prompt_number": 9
    },
    {
     "cell_type": "code",
     "collapsed": false,
     "input": [
      "o_solvent = np.loadtxt('indices/solvent_indices.dat', dtype=int)\n",
      "h12_solvent = np.loadtxt('indices/h12_indices.dat', dtype=int)\n",
      "solute = np.loadtxt('indices/solute_indices.dat', dtype=int)"
     ],
     "language": "python",
     "metadata": {},
     "outputs": [],
     "prompt_number": 25
    },
    {
     "cell_type": "markdown",
     "metadata": {},
     "source": [
      "## Loaded everything, switch to local"
     ]
    },
    {
     "cell_type": "code",
     "collapsed": false,
     "input": [
      "cd ~/implement/wetmsm/ala-fine/"
     ],
     "language": "python",
     "metadata": {},
     "outputs": [
      {
       "output_type": "stream",
       "stream": "stdout",
       "text": [
        "/home/harrigan/implement/wetmsm/ala-fine\n"
       ]
      }
     ],
     "prompt_number": 26
    },
    {
     "cell_type": "code",
     "collapsed": false,
     "input": [
      "n_frames = 50000\n",
      "n_atoms = 3470\n",
      "n_solute = 9"
     ],
     "language": "python",
     "metadata": {},
     "outputs": [],
     "prompt_number": 12
    },
    {
     "cell_type": "code",
     "collapsed": false,
     "input": [
      "vmdo = vmd_write.VMDWriter(assn=assno, solvent_ind=o_solvent, n_frames=n_frames, n_atoms=n_atoms,\n",
      "                n_solute=n_solute, n_shells=n_shells)\n",
      "\n",
      "vmdh = vmd_write.VMDWriter(assn=assnh12, solvent_ind=h12_solvent, n_frames=n_frames, n_atoms=n_atoms,\n",
      "                n_solute=n_solute, n_shells=n_shells)"
     ],
     "language": "python",
     "metadata": {},
     "outputs": [],
     "prompt_number": 13
    },
    {
     "cell_type": "code",
     "collapsed": false,
     "input": [
      "deletedo = sa.deleted[np.where(sa.deleted < n_solute * n_shells)[0]]\n",
      "deletedh12 = sa.deleted[np.where(sa.deleted >= n_solute * n_shells)[0]] - n_solute * n_shells"
     ],
     "language": "python",
     "metadata": {},
     "outputs": [],
     "prompt_number": 14
    },
    {
     "cell_type": "code",
     "collapsed": false,
     "input": [
      "cutoff = 0.1\n",
      "\n",
      "l1 = (n_solute * n_shells) - len(deletedo)\n",
      "l2 = (n_solute * n_shells) - len(deletedh12)\n",
      "\n",
      "loadingo = np.copy(pc1[0:l1])\n",
      "loadingo[loadingo <= cutoff] = 0.0\n",
      "\n",
      "loadingh = np.copy(pc1[l1:])\n",
      "loadingh[loadingh <= cutoff] = 0.0\n",
      "\n",
      "plt.subplots(figsize=(8,5))\n",
      "plt.scatter(range(len(loadingo)), loadingo)\n",
      "plt.scatter(len(loadingo) + np.arange(len(loadingh)), loadingh)"
     ],
     "language": "python",
     "metadata": {},
     "outputs": [
      {
       "metadata": {},
       "output_type": "pyout",
       "prompt_number": 15,
       "text": [
        "<matplotlib.collections.PathCollection at 0x7f17064e8eb8>"
       ]
      },
      {
       "metadata": {},
       "output_type": "display_data",
       "png": "[encoded data removed]",
       "text": [
        "<matplotlib.figure.Figure at 0x7f1723da9b00>"
       ]
      }
     ],
     "prompt_number": 15
    },
    {
     "cell_type": "code",
     "collapsed": false,
     "input": [
      "lo2d = vmdo.translate_loading(loadingo, deletedo)\n",
      "lh2d = vmdh.translate_loading(loadingh, deletedh12)"
     ],
     "language": "python",
     "metadata": {},
     "outputs": [],
     "prompt_number": 17
    },
    {
     "cell_type": "code",
     "collapsed": false,
     "input": [
      "lo2d"
     ],
     "language": "python",
     "metadata": {},
     "outputs": [
      {
       "metadata": {},
       "output_type": "pyout",
       "prompt_number": 18,
       "text": [
        "array([[ 0.        ,  0.17173317,  0.        ,  0.        ,  0.        ],\n",
        "       [ 0.        ,  0.10835016,  0.        ,  0.        ,  0.        ],\n",
        "       [ 0.        ,  0.16696147,  0.        ,  0.        ,  0.        ],\n",
        "       [ 0.        ,  0.27559929,  0.        ,  0.        ,  0.        ],\n",
        "       [ 0.        ,  0.14302601,  0.        ,  0.        ,  0.        ],\n",
        "       [ 0.        ,  0.27329236,  0.        ,  0.        ,  0.        ],\n",
        "       [ 0.        ,  0.14437706,  0.        ,  0.        ,  0.        ],\n",
        "       [ 0.        ,  0.21373649,  0.        ,  0.        ,  0.        ],\n",
        "       [ 0.        ,  0.15287439,  0.        ,  0.        ,  0.        ]])"
       ]
      }
     ],
     "prompt_number": 18
    },
    {
     "cell_type": "code",
     "collapsed": false,
     "input": [
      "lh2d"
     ],
     "language": "python",
     "metadata": {},
     "outputs": [
      {
       "metadata": {},
       "output_type": "pyout",
       "prompt_number": 19,
       "text": [
        "array([[ 0.        ,  0.6335252 ,  0.        ,  0.        ,  0.        ],\n",
        "       [ 0.31282882,  0.35108517,  0.        ,  0.        ,  0.        ],\n",
        "       [ 0.        ,  0.66093352,  0.        ,  0.        ,  0.        ],\n",
        "       [ 0.        ,  1.        ,  0.        ,  0.        ,  0.        ],\n",
        "       [ 0.        ,  0.5719239 ,  0.        ,  0.        ,  0.        ],\n",
        "       [ 0.        ,  0.94459036,  0.        ,  0.        ,  0.        ],\n",
        "       [ 0.        ,  0.55139536,  0.        ,  0.        ,  0.        ],\n",
        "       [ 0.        ,  0.81529201,  0.        ,  0.        ,  0.        ],\n",
        "       [ 0.        ,  0.56386617,  0.        ,  0.        ,  0.        ]])"
       ]
      }
     ],
     "prompt_number": 19
    },
    {
     "cell_type": "code",
     "collapsed": false,
     "input": [
      "www = np.where(lh2d[:,1] > 0.65)[0]\n",
      "print(www)\n",
      "solute[www]"
     ],
     "language": "python",
     "metadata": {},
     "outputs": [
      {
       "output_type": "stream",
       "stream": "stdout",
       "text": [
        "[2 3 5 7]\n"
       ]
      },
      {
       "metadata": {},
       "output_type": "pyout",
       "prompt_number": 29,
       "text": [
        "array([ 6,  8, 14, 16])"
       ]
      }
     ],
     "prompt_number": 29
    },
    {
     "cell_type": "code",
     "collapsed": false,
     "input": [],
     "language": "python",
     "metadata": {},
     "outputs": []
    },
    {
     "cell_type": "code",
     "collapsed": false,
     "input": [
      "# Try taking max\n",
      "vmdo.which = 'avg'\n",
      "vmdh.which = 'avg'"
     ],
     "language": "python",
     "metadata": {},
     "outputs": [],
     "prompt_number": 16
    },
    {
     "cell_type": "code",
     "collapsed": false,
     "input": [
      "usero = vmdo.compute(loadingo, deletedo)"
     ],
     "language": "python",
     "metadata": {},
     "outputs": [],
     "prompt_number": 17
    },
    {
     "cell_type": "code",
     "collapsed": false,
     "input": [
      "userh = vmdh.compute(loadingh, deletedh12)"
     ],
     "language": "python",
     "metadata": {},
     "outputs": [],
     "prompt_number": 18
    },
    {
     "cell_type": "code",
     "collapsed": false,
     "input": [
      "user = usero + userh"
     ],
     "language": "python",
     "metadata": {},
     "outputs": [],
     "prompt_number": 19
    },
    {
     "cell_type": "code",
     "collapsed": false,
     "input": [
      "np.where(np.all(user==0, axis=1))"
     ],
     "language": "python",
     "metadata": {},
     "outputs": [
      {
       "metadata": {},
       "output_type": "pyout",
       "prompt_number": 20,
       "text": [
        "(array([], dtype=int64),)"
       ]
      }
     ],
     "prompt_number": 20
    },
    {
     "cell_type": "code",
     "collapsed": false,
     "input": [
      "np.savetxt('vis/tic1_avg.dat', user[::100, :], fmt='%.5f')"
     ],
     "language": "python",
     "metadata": {},
     "outputs": [],
     "prompt_number": 21
    },
    {
     "cell_type": "code",
     "collapsed": false,
     "input": [
      "del usero, userh"
     ],
     "language": "python",
     "metadata": {},
     "outputs": [],
     "prompt_number": 22
    },
    {
     "cell_type": "markdown",
     "metadata": {},
     "source": [
      "### Save a script"
     ]
    },
    {
     "cell_type": "code",
     "collapsed": false,
     "input": [
      "with open('vis/traj-2.tcl', 'w') as f:\n",
      "    f.write(vmd_write.VMDSCRIPT.format(\n",
      "            traj_fn='traj-2.dcd',\n",
      "            step=100,\n",
      "            top_fn='ala_vs.pdb',\n",
      "            dat_fn='traj-2.user.dat'\n",
      "))"
     ],
     "language": "python",
     "metadata": {},
     "outputs": [],
     "prompt_number": 26
    },
    {
     "cell_type": "markdown",
     "metadata": {},
     "source": [
      "## Save GMM States"
     ]
    },
    {
     "cell_type": "code",
     "collapsed": false,
     "input": [
      "s1inds = np.loadtxt('vis/state1.inds', dtype=int)\n",
      "s2inds = np.loadtxt('vis/state2.inds', dtype=int)"
     ],
     "language": "python",
     "metadata": {},
     "outputs": [],
     "prompt_number": 23
    },
    {
     "cell_type": "code",
     "collapsed": false,
     "input": [
      "np.savetxt('vis/state1_avg.dat', user[s1inds, :], fmt='%.5f')\n",
      "np.savetxt('vis/state2_avg.dat', user[s2inds, :], fmt='%.5f')"
     ],
     "language": "python",
     "metadata": {},
     "outputs": [],
     "prompt_number": 24
    },
    {
     "cell_type": "code",
     "collapsed": false,
     "input": [],
     "language": "python",
     "metadata": {},
     "outputs": []
    }
   ],
   "metadata": {}
  }
 ]
}