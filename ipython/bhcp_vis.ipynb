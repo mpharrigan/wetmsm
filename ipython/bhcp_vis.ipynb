{
 "metadata": {
  "name": "",
  "signature": "sha256:384a77879311cf11b86828cb8a40c419a9541cdd0abcc297f1ff4115a6cd933a"
 },
 "nbformat": 3,
 "nbformat_minor": 0,
 "worksheets": [
  {
   "cells": [
    {
     "cell_type": "code",
     "collapsed": false,
     "input": [
      "%load_ext autoreload\n",
      "%autoreload 2\n",
      "%matplotlib inline"
     ],
     "language": "python",
     "metadata": {},
     "outputs": [],
     "prompt_number": 1
    },
    {
     "cell_type": "code",
     "collapsed": false,
     "input": [
      "cd ~/biox/implement/water/bphc/"
     ],
     "language": "python",
     "metadata": {},
     "outputs": [
      {
       "output_type": "stream",
       "stream": "stdout",
       "text": [
        "/home/harrigan/mnt/biox/biox3/home/harrigan/implement/water/bphc\n"
       ]
      }
     ],
     "prompt_number": 2
    },
    {
     "cell_type": "code",
     "collapsed": false,
     "input": [
      "import mdtraj as md"
     ],
     "language": "python",
     "metadata": {},
     "outputs": [],
     "prompt_number": 6
    },
    {
     "cell_type": "markdown",
     "metadata": {},
     "source": [
      "# Visualize Waters that we consider\n",
      "To limit the number of features, I'm considering 5 shells of 1 Angstrom from each alpha carbon (CA) atom. I'd like to see how many water molecules are covered with these parameters, as well as flesh out code for extracting water atoms of interest from the shell assignments file"
     ]
    },
    {
     "cell_type": "code",
     "collapsed": false,
     "input": [
      "solute_ind = np.loadtxt('solute_ca_indices.dat', dtype=int, ndmin=2)\n",
      "solvent_ind = np.loadtxt('solvent_indices.dat', dtype=int, ndmin=2)"
     ],
     "language": "python",
     "metadata": {},
     "outputs": [],
     "prompt_number": 3
    },
    {
     "cell_type": "markdown",
     "metadata": {},
     "source": [
      "## Load in the assignments"
     ]
    },
    {
     "cell_type": "code",
     "collapsed": false,
     "input": [
      "assign = np.load('visdata/SYS1/shell_assign.npy')\n",
      "print assign"
     ],
     "language": "python",
     "metadata": {},
     "outputs": [
      {
       "output_type": "stream",
       "stream": "stdout",
       "text": [
        "[[    0  2486     0     0]\n",
        " [    0  3793     0     0]\n",
        " [    0  3929     0     0]\n",
        " ..., \n",
        " [   10 15878   291     0]\n",
        " [   10 15994   291     0]\n",
        " [   10 16213   291     0]]\n"
       ]
      }
     ],
     "prompt_number": 8
    },
    {
     "cell_type": "code",
     "collapsed": false,
     "input": [
      "traj = md.load('visdata/SYS1/0_centered.xtc', top='system_eq1.pdb')"
     ],
     "language": "python",
     "metadata": {},
     "outputs": [],
     "prompt_number": 9
    },
    {
     "cell_type": "code",
     "collapsed": false,
     "input": [
      "non_solvent = [a.index for a in traj.topology.atoms if a.residue.name != 'HOH']\n",
      "print len(non_solvent)\n",
      "print traj.n_atoms - (len(solvent_ind)*3)"
     ],
     "language": "python",
     "metadata": {},
     "outputs": [
      {
       "output_type": "stream",
       "stream": "stdout",
       "text": [
        "4476\n",
        "4476\n"
       ]
      }
     ],
     "prompt_number": 18
    },
    {
     "cell_type": "code",
     "collapsed": false,
     "input": [
      "# Solvent indices are zero-indexed relative to solvents only!\n",
      "first_solvent_i = np.min(assign[:,1])\n",
      "print first_solvent_i\n",
      "print solvent_ind[first_solvent_i, 0]"
     ],
     "language": "python",
     "metadata": {},
     "outputs": [
      {
       "output_type": "stream",
       "stream": "stdout",
       "text": [
        "0\n",
        "4468\n"
       ]
      }
     ],
     "prompt_number": 21
    },
    {
     "cell_type": "code",
     "collapsed": false,
     "input": [
      "for frame_i in xrange(traj.n_frames):\n",
      "    # Find row indices for this frame\n",
      "    frinds = np.where(assign[:,0] == frame_i)[0]\n",
      "    \n",
      "    \n",
      "    # Select solvent indices\n",
      "    sel_solv_ind = np.unique(assign[frinds, 1])\n",
      "    print len(frinds), len(sel_solv_ind)\n",
      "    \n",
      "    # Translate to mdtraj indices\n",
      "    md_solv_ind = solvent_ind[sel_solv_ind, 0]\n",
      "    "
     ],
     "language": "python",
     "metadata": {},
     "outputs": [
      {
       "output_type": "stream",
       "stream": "stdout",
       "text": [
        "14802 2638\n",
        "17380 2864\n",
        "17046 2803\n",
        "17012 2801\n",
        "17047 2808\n",
        "16718 2772\n",
        "16942 2842\n",
        "16750 2808\n",
        "16777 2790\n",
        "16547 2734\n",
        "16156 2685\n"
       ]
      }
     ],
     "prompt_number": 26
    },
    {
     "cell_type": "code",
     "collapsed": false,
     "input": [
      "4*292"
     ],
     "language": "python",
     "metadata": {},
     "outputs": [
      {
       "metadata": {},
       "output_type": "pyout",
       "prompt_number": 28,
       "text": [
        "1168"
       ]
      }
     ],
     "prompt_number": 28
    },
    {
     "cell_type": "markdown",
     "metadata": {},
     "source": [
      "## Compute extra data"
     ]
    },
    {
     "cell_type": "code",
     "collapsed": false,
     "input": [
      "traj = md.load('visdata/SYS1/0_centered.xtc', top='system_eq1.pdb')\n",
      "# Occupancy and beta\n",
      "extradat = extradat = np.zeros((traj.n_frames, traj.n_atoms, 2))\n",
      "\n",
      "for frame_i in xrange(traj.n_frames):\n",
      "    \n",
      "    # Select data for this frame\n",
      "    frame1 = big_solv_to_tic[big_solv_to_tic[:,0] == frame_i, 1:3]\n",
      "    \n",
      "    # Sum by solvent index (new column 0)\n",
      "    fr1v, fr1g = sum_by_group(frame1[:,1], frame1[:,0])\n",
      "    fr1g = np.asarray(fr1g, dtype=int)    \n",
      "    \n",
      "    extradat[frame_i, solvent_ind[fr1g], 0] = fr1v[:, np.newaxis]\n",
      "\n",
      "\n",
      "nxyz = np.concatenate((traj.xyz, extradat), axis=2)\n",
      "print nxyz.shape"
     ],
     "language": "python",
     "metadata": {},
     "outputs": [
      {
       "ename": "NameError",
       "evalue": "name 'md' is not defined",
       "output_type": "pyerr",
       "traceback": [
        "\u001b[1;31m---------------------------------------------------------------------------\u001b[0m\n\u001b[1;31mNameError\u001b[0m                                 Traceback (most recent call last)",
        "\u001b[1;32m<ipython-input-5-b847c0870703>\u001b[0m in \u001b[0;36m<module>\u001b[1;34m()\u001b[0m\n\u001b[1;32m----> 1\u001b[1;33m \u001b[0mtraj\u001b[0m \u001b[1;33m=\u001b[0m \u001b[0mmd\u001b[0m\u001b[1;33m.\u001b[0m\u001b[0mload\u001b[0m\u001b[1;33m(\u001b[0m\u001b[1;34m'visdata/SYS1/0_centered.xtc'\u001b[0m\u001b[1;33m,\u001b[0m \u001b[0mtop\u001b[0m\u001b[1;33m=\u001b[0m\u001b[1;34m'system_eq1.pdb'\u001b[0m\u001b[1;33m)\u001b[0m\u001b[1;33m\u001b[0m\u001b[0m\n\u001b[0m\u001b[0;32m      2\u001b[0m \u001b[1;31m# Occupancy and beta\u001b[0m\u001b[1;33m\u001b[0m\u001b[1;33m\u001b[0m\u001b[0m\n\u001b[0;32m      3\u001b[0m \u001b[0mextradat\u001b[0m \u001b[1;33m=\u001b[0m \u001b[0mextradat\u001b[0m \u001b[1;33m=\u001b[0m \u001b[0mnp\u001b[0m\u001b[1;33m.\u001b[0m\u001b[0mzeros\u001b[0m\u001b[1;33m(\u001b[0m\u001b[1;33m(\u001b[0m\u001b[0mtraj\u001b[0m\u001b[1;33m.\u001b[0m\u001b[0mn_frames\u001b[0m\u001b[1;33m,\u001b[0m \u001b[0mtraj\u001b[0m\u001b[1;33m.\u001b[0m\u001b[0mn_atoms\u001b[0m\u001b[1;33m,\u001b[0m \u001b[1;36m2\u001b[0m\u001b[1;33m)\u001b[0m\u001b[1;33m)\u001b[0m\u001b[1;33m\u001b[0m\u001b[0m\n\u001b[0;32m      4\u001b[0m \u001b[1;33m\u001b[0m\u001b[0m\n\u001b[0;32m      5\u001b[0m \u001b[1;32mfor\u001b[0m \u001b[0mframe_i\u001b[0m \u001b[1;32min\u001b[0m \u001b[0mxrange\u001b[0m\u001b[1;33m(\u001b[0m\u001b[0mtraj\u001b[0m\u001b[1;33m.\u001b[0m\u001b[0mn_frames\u001b[0m\u001b[1;33m)\u001b[0m\u001b[1;33m:\u001b[0m\u001b[1;33m\u001b[0m\u001b[0m\n",
        "\u001b[1;31mNameError\u001b[0m: name 'md' is not defined"
       ]
      }
     ],
     "prompt_number": 5
    },
    {
     "cell_type": "code",
     "collapsed": false,
     "input": [
      "def sum_by_group(values, groups):\n",
      "    \"\"\"Group, then sum\n",
      "    \n",
      "    http://stackoverflow.com/a/8732260\n",
      "    \"\"\"\n",
      "    order = np.argsort(groups)\n",
      "    groups = groups[order]\n",
      "    values = values[order]\n",
      "    values.cumsum(out=values)\n",
      "    index = np.ones(len(groups), 'bool')\n",
      "    index[:-1] = groups[1:] != groups[:-1]\n",
      "    values = values[index]\n",
      "    groups = groups[index]\n",
      "    values[1:] = values[1:] - values[:-1]\n",
      "    return values, groups"
     ],
     "language": "python",
     "metadata": {},
     "outputs": [],
     "prompt_number": 4
    },
    {
     "cell_type": "code",
     "collapsed": false,
     "input": [],
     "language": "python",
     "metadata": {},
     "outputs": []
    }
   ],
   "metadata": {}
  }
 ]
}