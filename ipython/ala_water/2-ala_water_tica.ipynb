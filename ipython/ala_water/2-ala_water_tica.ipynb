{
 "metadata": {
  "name": "",
  "signature": "sha256:63b739b5b41a86bb0e630d887e6fe395a43a376c8bf1c648d9e3fdadbbce54e5"
 },
 "nbformat": 3,
 "nbformat_minor": 0,
 "worksheets": [
  {
   "cells": [
    {
     "cell_type": "code",
     "collapsed": false,
     "input": [
      "%matplotlib inline"
     ],
     "language": "python",
     "metadata": {},
     "outputs": [],
     "prompt_number": 1
    },
    {
     "cell_type": "code",
     "collapsed": false,
     "input": [
      "import pickle"
     ],
     "language": "python",
     "metadata": {},
     "outputs": [],
     "prompt_number": 2
    },
    {
     "cell_type": "code",
     "collapsed": false,
     "input": [
      "cd ~/implement/wetmsm/ala"
     ],
     "language": "python",
     "metadata": {},
     "outputs": [
      {
       "output_type": "stream",
       "stream": "stdout",
       "text": [
        "/home/harrigan/implement/wetmsm/ala\n"
       ]
      }
     ],
     "prompt_number": 3
    },
    {
     "cell_type": "code",
     "collapsed": false,
     "input": [
      "with open('fp2d_all.pickl', 'rb') as f:\n",
      "    fp2d_all = pickle.load(f)"
     ],
     "language": "python",
     "metadata": {},
     "outputs": [],
     "prompt_number": 4
    },
    {
     "cell_type": "markdown",
     "metadata": {},
     "source": [
      "# tICA"
     ]
    },
    {
     "cell_type": "code",
     "collapsed": false,
     "input": [
      "from sklearn.decomposition import PCA, KernelPCA\n",
      "from mixtape.tica import tICA"
     ],
     "language": "python",
     "metadata": {},
     "outputs": [],
     "prompt_number": 5
    },
    {
     "cell_type": "code",
     "collapsed": false,
     "input": [
      "ica = tICA(n_components=10, lag_time=5, weighted_transform=True)"
     ],
     "language": "python",
     "metadata": {},
     "outputs": [],
     "prompt_number": 6
    },
    {
     "cell_type": "markdown",
     "metadata": {},
     "source": [
      "### Fit all trajectories"
     ]
    },
    {
     "cell_type": "code",
     "collapsed": false,
     "input": [
      "ica.fit(fp2d_all)"
     ],
     "language": "python",
     "metadata": {},
     "outputs": [
      {
       "metadata": {},
       "output_type": "pyout",
       "prompt_number": 7,
       "text": [
        "tICA(gamma=0.05, lag_time=5, n_components=10, weighted_transform=True)"
       ]
      }
     ],
     "prompt_number": 7
    },
    {
     "cell_type": "markdown",
     "metadata": {},
     "source": [
      "### Force it to eigensolve"
     ]
    },
    {
     "cell_type": "code",
     "collapsed": false,
     "input": [
      "print(ica.components_[0].shape)\n",
      "print(ica.components_[1].shape)"
     ],
     "language": "python",
     "metadata": {},
     "outputs": [
      {
       "output_type": "stream",
       "stream": "stdout",
       "text": [
        "(128,)\n",
        "(128,)\n"
       ]
      }
     ],
     "prompt_number": 8
    },
    {
     "cell_type": "code",
     "collapsed": false,
     "input": [
      "tic1 = ica.components_[0] ** 2\n",
      "tic2 = ica.components_[1] ** 2"
     ],
     "language": "python",
     "metadata": {},
     "outputs": [],
     "prompt_number": 9
    },
    {
     "cell_type": "code",
     "collapsed": false,
     "input": [
      "# Make the biggest one 1\n",
      "scale = np.max(tic1)\n",
      "tic1 /= scale\n",
      "tic2 /= scale"
     ],
     "language": "python",
     "metadata": {},
     "outputs": [],
     "prompt_number": 10
    },
    {
     "cell_type": "code",
     "collapsed": false,
     "input": [
      "plt.subplots(figsize=(8,5))\n",
      "plt.scatter(range(len(tic1)), tic1, c='r', s=10, linewidth=0)\n",
      "plt.scatter(range(len(tic2)), tic2, c='b', s=10, linewidth=0)"
     ],
     "language": "python",
     "metadata": {},
     "outputs": [
      {
       "metadata": {},
       "output_type": "pyout",
       "prompt_number": 12,
       "text": [
        "<matplotlib.collections.PathCollection at 0x7f6b23db7c18>"
       ]
      },
      {
       "metadata": {},
       "output_type": "display_data",
       "png": "[encoded data removed]",
       "text": [
        "<matplotlib.figure.Figure at 0x7f6b23e40e80>"
       ]
      }
     ],
     "prompt_number": 12
    },
    {
     "cell_type": "markdown",
     "metadata": {},
     "source": [
      "## tICA Timescales"
     ]
    },
    {
     "cell_type": "code",
     "collapsed": false,
     "input": [
      "plt.subplots(figsize=(3,5))\n",
      "plt.hlines(ica.timescales_, 0, 1, 'b')\n",
      "plt.xticks([])\n",
      "plt.ylabel('Timescale')\n",
      "plt.title('Water tICA Timescales')\n",
      "#plt.yscale('log')\n",
      "#plt.savefig('water_tica_timescales.png')"
     ],
     "language": "python",
     "metadata": {},
     "outputs": [
      {
       "metadata": {},
       "output_type": "pyout",
       "prompt_number": 12,
       "text": [
        "<matplotlib.text.Text at 0x7f1cd298b780>"
       ]
      },
      {
       "metadata": {},
       "output_type": "display_data",
       "png": "[encoded data removed]",
       "text": [
        "<matplotlib.figure.Figure at 0x7f1cd2a3c278>"
       ]
      }
     ],
     "prompt_number": 12
    },
    {
     "cell_type": "markdown",
     "metadata": {},
     "source": [
      "## 2D Plot"
     ]
    },
    {
     "cell_type": "code",
     "collapsed": false,
     "input": [
      "fp_ic = ica.transform(fp2d_all)"
     ],
     "language": "python",
     "metadata": {},
     "outputs": [],
     "prompt_number": 13
    },
    {
     "cell_type": "code",
     "collapsed": false,
     "input": [
      "txy = np.vstack([fp[:,:2] for fp in fp_ic])"
     ],
     "language": "python",
     "metadata": {},
     "outputs": [],
     "prompt_number": 14
    },
    {
     "cell_type": "code",
     "collapsed": false,
     "input": [
      "print(txy.shape)"
     ],
     "language": "python",
     "metadata": {},
     "outputs": [
      {
       "output_type": "stream",
       "stream": "stdout",
       "text": [
        "(350000, 2)\n"
       ]
      }
     ],
     "prompt_number": 15
    },
    {
     "cell_type": "code",
     "collapsed": false,
     "input": [
      "import scipy.stats"
     ],
     "language": "python",
     "metadata": {},
     "outputs": [],
     "prompt_number": 16
    },
    {
     "cell_type": "code",
     "collapsed": false,
     "input": [
      "kde = scipy.stats.gaussian_kde(txy.T)"
     ],
     "language": "python",
     "metadata": {},
     "outputs": [],
     "prompt_number": 17
    },
    {
     "cell_type": "code",
     "collapsed": false,
     "input": [
      "npoints = 100\n",
      "xlin = np.linspace(np.min(txy[:,0]), np.max(txy[:,0]), npoints)\n",
      "ylin = np.linspace(np.min(txy[:,1]), np.max(txy[:,1]), npoints)\n",
      "xx, yy = np.meshgrid(xlin, ylin)\n",
      "pos = np.vstack([xx.ravel(), yy.ravel()])\n",
      "pos.shape\n",
      "zz = kde.evaluate(pos)\n",
      "zz = np.reshape(zz.T, xx.shape)"
     ],
     "language": "python",
     "metadata": {},
     "outputs": [],
     "prompt_number": 18
    },
    {
     "cell_type": "code",
     "collapsed": false,
     "input": [
      "plt.subplots(figsize=(8,5))\n",
      "plt.contourf(xx,yy,zz, 200)\n",
      "plt.xlabel('Water tIC 1')\n",
      "plt.ylabel('Water tIC 2')\n",
      "plt.savefig('water_tic_kde_hs.png')"
     ],
     "language": "python",
     "metadata": {},
     "outputs": [
      {
       "metadata": {},
       "output_type": "display_data",
       "png": "[encoded data removed]",
       "text": [
        "<matplotlib.figure.Figure at 0x7ff990818898>"
       ]
      }
     ],
     "prompt_number": 19
    },
    {
     "cell_type": "markdown",
     "metadata": {},
     "source": [
      "## Save"
     ]
    },
    {
     "cell_type": "code",
     "collapsed": false,
     "input": [
      "pwd"
     ],
     "language": "python",
     "metadata": {},
     "outputs": [
      {
       "metadata": {},
       "output_type": "pyout",
       "prompt_number": 50,
       "text": [
        "'/home/harrigan/implement/wetmsm/ala'"
       ]
      }
     ],
     "prompt_number": 50
    },
    {
     "cell_type": "code",
     "collapsed": false,
     "input": [
      "if fp_ic is not None:\n",
      "    with open('fp_ic.pickl', 'wb') as f:\n",
      "        pickle.dump(fp_ic, f)"
     ],
     "language": "python",
     "metadata": {},
     "outputs": [],
     "prompt_number": 21
    },
    {
     "cell_type": "code",
     "collapsed": false,
     "input": [
      "if ica is not None:\n",
      "    with open('ic_estimator.pickl', 'wb') as f:\n",
      "        pickle.dump(ica, f)"
     ],
     "language": "python",
     "metadata": {},
     "outputs": [],
     "prompt_number": 22
    },
    {
     "cell_type": "markdown",
     "metadata": {},
     "source": [
      "# PCA"
     ]
    },
    {
     "cell_type": "code",
     "collapsed": false,
     "input": [
      "from sklearn.decomposition import PCA"
     ],
     "language": "python",
     "metadata": {},
     "outputs": [],
     "prompt_number": 24
    },
    {
     "cell_type": "code",
     "collapsed": false,
     "input": [
      "pca = PCA(n_components=10)"
     ],
     "language": "python",
     "metadata": {},
     "outputs": [],
     "prompt_number": 25
    },
    {
     "cell_type": "code",
     "collapsed": false,
     "input": [
      "pca.fit(np.vstack(fp2d_all))"
     ],
     "language": "python",
     "metadata": {},
     "outputs": [
      {
       "metadata": {},
       "output_type": "pyout",
       "prompt_number": 30,
       "text": [
        "PCA(copy=True, n_components=10, whiten=False)"
       ]
      }
     ],
     "prompt_number": 30
    },
    {
     "cell_type": "code",
     "collapsed": false,
     "input": [
      "pxy = pca.transform(np.vstack(fp2d_all))"
     ],
     "language": "python",
     "metadata": {},
     "outputs": [],
     "prompt_number": 31
    },
    {
     "cell_type": "code",
     "collapsed": false,
     "input": [
      "plt.scatter(pxy[:,0], pxy[:,1], alpha=0.1, s=1, linewidth=0)"
     ],
     "language": "python",
     "metadata": {},
     "outputs": [
      {
       "metadata": {},
       "output_type": "pyout",
       "prompt_number": 33,
       "text": [
        "<matplotlib.collections.PathCollection at 0x7ff951972ba8>"
       ]
      },
      {
       "metadata": {},
       "output_type": "display_data",
       "png": "[encoded data removed]",
       "text": [
        "<matplotlib.figure.Figure at 0x7ff9519e3cc0>"
       ]
      }
     ],
     "prompt_number": 33
    },
    {
     "cell_type": "code",
     "collapsed": false,
     "input": [
      "pc1 = pca.components_[0]\n",
      "pc2 = pca.components_[1]"
     ],
     "language": "python",
     "metadata": {},
     "outputs": [],
     "prompt_number": 47
    },
    {
     "cell_type": "code",
     "collapsed": false,
     "input": [
      "pc1 = pc1 ** 2\n",
      "pc2 = pc2 ** 2\n",
      "pc1 /= np.max(pc1)\n",
      "pc2 /= np.max(pc2)"
     ],
     "language": "python",
     "metadata": {},
     "outputs": [],
     "prompt_number": 50
    },
    {
     "cell_type": "code",
     "collapsed": false,
     "input": [
      "plt.scatter(range(len(pc1)), pc1, c='r')\n",
      "plt.scatter(range(len(pc2)), pc2, c='b')"
     ],
     "language": "python",
     "metadata": {},
     "outputs": [
      {
       "metadata": {},
       "output_type": "pyout",
       "prompt_number": 78,
       "text": [
        "<matplotlib.collections.PathCollection at 0x7ff951751fd0>"
       ]
      },
      {
       "metadata": {},
       "output_type": "display_data",
       "png": "[encoded data removed]",
       "text": [
        "<matplotlib.figure.Figure at 0x7ff9517850f0>"
       ]
      }
     ],
     "prompt_number": 78
    },
    {
     "cell_type": "code",
     "collapsed": false,
     "input": [
      "with open('pca_transform.pickl', 'wb') as f:\n",
      "    pickle.dump(pxy, f)"
     ],
     "language": "python",
     "metadata": {},
     "outputs": [],
     "prompt_number": 34
    },
    {
     "cell_type": "markdown",
     "metadata": {},
     "source": [
      "# VMD"
     ]
    },
    {
     "cell_type": "code",
     "collapsed": false,
     "input": [
      "from wetmsm import vmd_write\n",
      "import tables"
     ],
     "language": "python",
     "metadata": {},
     "outputs": [],
     "prompt_number": 13
    },
    {
     "cell_type": "code",
     "collapsed": false,
     "input": [
      "%load_ext autoreload\n",
      "%autoreload 2"
     ],
     "language": "python",
     "metadata": {},
     "outputs": [],
     "prompt_number": 14
    },
    {
     "cell_type": "code",
     "collapsed": false,
     "input": [
      "cd ~/biox/implement/water/ala-mine"
     ],
     "language": "python",
     "metadata": {},
     "outputs": [
      {
       "output_type": "stream",
       "stream": "stdout",
       "text": [
        "/home/harrigan/mnt/biox/biox3/home/harrigan/implement/water/ala-mine\n"
       ]
      }
     ],
     "prompt_number": 16
    },
    {
     "cell_type": "code",
     "collapsed": false,
     "input": [
      "assn_fo = tables.open_file('trajs/shells-traj-2.dcd_assign.h5')\n",
      "assno = assn_fo.root.assignments\n",
      "\n",
      "assn_fh1 = tables.open_file('trajs/traj-2.dcd.h1.assign.h5')\n",
      "assnh1 = assn_fh1.root.assignments\n",
      "\n",
      "assn_fh2 = tables.open_file('trajs/traj-2.dcd.h2.assign.h5')\n",
      "assnh2 = assn_fh2.root.assignments"
     ],
     "language": "python",
     "metadata": {},
     "outputs": [],
     "prompt_number": 17
    },
    {
     "cell_type": "code",
     "collapsed": false,
     "input": [
      "o_solvent = np.loadtxt('solvent_indices.dat', dtype=int)\n",
      "h1_solvent = np.loadtxt('h1_indices.dat', dtype=int)\n",
      "h2_solvent = np.loadtxt('h2_indices.dat', dtype=int)"
     ],
     "language": "python",
     "metadata": {},
     "outputs": [],
     "prompt_number": 19
    },
    {
     "cell_type": "markdown",
     "metadata": {},
     "source": [
      "## Loaded everything, switch to local"
     ]
    },
    {
     "cell_type": "code",
     "collapsed": false,
     "input": [
      "cd ~/implement/wetmsm/ala/"
     ],
     "language": "python",
     "metadata": {},
     "outputs": [
      {
       "output_type": "stream",
       "stream": "stdout",
       "text": [
        "/home/harrigan/implement/wetmsm/ala\n"
       ]
      }
     ],
     "prompt_number": 21
    },
    {
     "cell_type": "code",
     "collapsed": false,
     "input": [
      "n_frames = 50000\n",
      "n_atoms = 3470\n",
      "n_solute = 9\n",
      "n_shells = 5"
     ],
     "language": "python",
     "metadata": {},
     "outputs": [],
     "prompt_number": 22
    },
    {
     "cell_type": "code",
     "collapsed": false,
     "input": [
      "vmdo = vmd_write.VMDWriter(assn=assno, solvent_ind=o_solvent, n_frames=n_frames, n_atoms=n_atoms,\n",
      "                n_solute=n_solute, n_shells=n_shells)\n",
      "vmdh1 = vmd_write.VMDWriter(assn=assnh1, solvent_ind=h1_solvent, n_frames=n_frames, n_atoms=n_atoms,\n",
      "                n_solute=n_solute, n_shells=n_shells)\n",
      "vmdh2 = vmd_write.VMDWriter(assn=assnh2, solvent_ind=h2_solvent, n_frames=n_frames, n_atoms=n_atoms,\n",
      "                n_solute=n_solute, n_shells=n_shells)"
     ],
     "language": "python",
     "metadata": {},
     "outputs": [],
     "prompt_number": 41
    },
    {
     "cell_type": "code",
     "collapsed": false,
     "input": [
      "with open('fp2d_deleted.pickl', 'rb') as f:\n",
      "    # For some reason, it saved it as a tuple (deleted,)\n",
      "    deleted = pickle.load(f)[0]\n",
      "print(deleted)"
     ],
     "language": "python",
     "metadata": {},
     "outputs": [
      {
       "output_type": "stream",
       "stream": "stdout",
       "text": [
        "[ 0 10 15 20 25 35 40]\n"
       ]
      }
     ],
     "prompt_number": 42
    },
    {
     "cell_type": "code",
     "collapsed": false,
     "input": [
      "_ = vmdo.set_up_translation(deleted)\n",
      "# Nothing deleted from h1, h2\n",
      "_ = vmdh1.set_up_translation([])\n",
      "_ = vmdh2.set_up_translation([])"
     ],
     "language": "python",
     "metadata": {},
     "outputs": [],
     "prompt_number": 44
    },
    {
     "cell_type": "code",
     "collapsed": false,
     "input": [
      "del loading"
     ],
     "language": "python",
     "metadata": {},
     "outputs": [],
     "prompt_number": 46
    },
    {
     "cell_type": "code",
     "collapsed": false,
     "input": [
      "cutoff = 0.4\n",
      "\n",
      "l1 = (9*5)-len(deleted)\n",
      "l2 = (9*5)\n",
      "\n",
      "loadingo = tic1[0:l1]\n",
      "loadingo[loadingo <= cutoff] = 0.0\n",
      "\n",
      "loadingh1 = tic1[l1:l1+l2]\n",
      "loadingh1[loadingh1 <= cutoff] = 0.0\n",
      "\n",
      "loadingh2 = tic1[l1+l2:l1+l2+l2]\n",
      "loadingh2[loadingh2 <= cutoff] = 0.0\n",
      "\n",
      "plt.subplots(figsize=(8,5))\n",
      "plt.scatter(range(len(loadingo)), loadingo)\n",
      "plt.scatter(len(loadingo) + np.arange(len(loadingh1)), loadingh1)\n",
      "plt.scatter(len(loadingo) + len(loadingh1) + np.arange(len(loadingh2)), loadingh2)"
     ],
     "language": "python",
     "metadata": {},
     "outputs": [
      {
       "metadata": {},
       "output_type": "pyout",
       "prompt_number": 49,
       "text": [
        "<matplotlib.collections.PathCollection at 0x7f6ac9076748>"
       ]
      },
      {
       "metadata": {},
       "output_type": "display_data",
       "png": "[encoded data removed]",
       "text": [
        "<matplotlib.figure.Figure at 0x7f6ac912c9b0>"
       ]
      }
     ],
     "prompt_number": 49
    },
    {
     "cell_type": "code",
     "collapsed": false,
     "input": [
      "loading2d = np.zeros((n_solute, n_shells))\n",
      "i = 0\n",
      "for ute in range(n_solute):\n",
      "    for sh in range(n_shells):\n",
      "        if not np.in1d(i, deleted):\n",
      "            loading2d[ute, sh] = loadingo[i]\n",
      "            i += 1\n",
      "        else:\n",
      "            loading2d[ute, sh] = 0.0"
     ],
     "language": "python",
     "metadata": {},
     "outputs": []
    },
    {
     "cell_type": "code",
     "collapsed": false,
     "input": [
      "import logging\n",
      "log = logging.getLogger()\n",
      "log.setLevel(logging.INFO)"
     ],
     "language": "python",
     "metadata": {},
     "outputs": [],
     "prompt_number": 51
    },
    {
     "cell_type": "code",
     "collapsed": false,
     "input": [
      "usero = vmdo.compute(loadingo)"
     ],
     "language": "python",
     "metadata": {},
     "outputs": [],
     "prompt_number": 52
    },
    {
     "cell_type": "code",
     "collapsed": false,
     "input": [
      "userh1 = vmdh1.compute(loadingh1)"
     ],
     "language": "python",
     "metadata": {},
     "outputs": [],
     "prompt_number": 53
    },
    {
     "cell_type": "code",
     "collapsed": false,
     "input": [
      "userh2 = vmdh2.compute(loadingh2)"
     ],
     "language": "python",
     "metadata": {},
     "outputs": [],
     "prompt_number": 54
    },
    {
     "cell_type": "code",
     "collapsed": false,
     "input": [
      "user = usero + userh1 + userh2"
     ],
     "language": "python",
     "metadata": {},
     "outputs": [],
     "prompt_number": 55
    },
    {
     "cell_type": "code",
     "collapsed": false,
     "input": [
      "np.savetxt('vis/vmd_traj2.dat', user[::100, :], fmt='%.5f')"
     ],
     "language": "python",
     "metadata": {},
     "outputs": [],
     "prompt_number": 56
    },
    {
     "cell_type": "code",
     "collapsed": false,
     "input": [],
     "language": "python",
     "metadata": {},
     "outputs": []
    }
   ],
   "metadata": {}
  }
 ]
}