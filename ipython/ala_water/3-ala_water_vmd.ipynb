{
 "metadata": {
  "name": "",
  "signature": "sha256:b3a74b2815b4d199cad7723a1fccdfc9d8861230f02628bfd1699e69e8b31215"
 },
 "nbformat": 3,
 "nbformat_minor": 0,
 "worksheets": [
  {
   "cells": [
    {
     "cell_type": "code",
     "collapsed": false,
     "input": [
      "%matplotlib inline"
     ],
     "language": "python",
     "metadata": {},
     "outputs": [],
     "prompt_number": 1
    },
    {
     "cell_type": "code",
     "collapsed": false,
     "input": [
      "import pickle\n",
      "from wetmsm.analysis import SolventShellsAnalysis\n",
      "from wetmsm import vmd_write\n",
      "import tables"
     ],
     "language": "python",
     "metadata": {},
     "outputs": [],
     "prompt_number": 2
    },
    {
     "cell_type": "code",
     "collapsed": false,
     "input": [
      "cd ~/implement/wetmsm/ala-2"
     ],
     "language": "python",
     "metadata": {},
     "outputs": [
      {
       "output_type": "stream",
       "stream": "stdout",
       "text": [
        "/home/harrigan/implement/wetmsm/ala-2\n"
       ]
      }
     ],
     "prompt_number": 3
    },
    {
     "cell_type": "code",
     "collapsed": false,
     "input": [
      "n_shells = 5\n",
      "shell_w = 0.2\n",
      "code = \"{:d}x{:d}a\".format(n_shells, int(10*shell_w))"
     ],
     "language": "python",
     "metadata": {},
     "outputs": [],
     "prompt_number": 4
    },
    {
     "cell_type": "code",
     "collapsed": false,
     "input": [
      "with open('{}_2-solvent_analysis_tica.pickl'.format(code), 'rb') as f:\n",
      "    sa = pickle.load(f)"
     ],
     "language": "python",
     "metadata": {},
     "outputs": [],
     "prompt_number": 5
    },
    {
     "cell_type": "code",
     "collapsed": false,
     "input": [
      "tic1 = sa.tica.components_[0] ** 2\n",
      "tic2 = sa.tica.components_[1] ** 2\n",
      "tic2 /= np.max(tic1)\n",
      "tic1 /= np.max(tic1)"
     ],
     "language": "python",
     "metadata": {},
     "outputs": [],
     "prompt_number": 6
    },
    {
     "cell_type": "markdown",
     "metadata": {},
     "source": [
      "# VMD"
     ]
    },
    {
     "cell_type": "code",
     "collapsed": false,
     "input": [
      "cd ~/biox/implement/water/ala-mine2"
     ],
     "language": "python",
     "metadata": {},
     "outputs": [
      {
       "output_type": "stream",
       "stream": "stdout",
       "text": [
        "/home/harrigan/mnt/biox/biox3/home/harrigan/implement/water/ala-mine2\n"
       ]
      }
     ],
     "prompt_number": 7
    },
    {
     "cell_type": "code",
     "collapsed": false,
     "input": [
      "assn_fo = tables.open_file('trajs/traj-2.dcd.o.{}.assign.h5'.format(code))\n",
      "assno = assn_fo.root.assignments\n",
      "\n",
      "assn_fh12 = tables.open_file('trajs/traj-2.dcd.h12.{}.assign.h5'.format(code))\n",
      "assnh12 = assn_fh12.root.assignments"
     ],
     "language": "python",
     "metadata": {},
     "outputs": [],
     "prompt_number": 9
    },
    {
     "cell_type": "code",
     "collapsed": false,
     "input": [
      "o_solvent = np.loadtxt('indices/o_indices.dat', dtype=int)\n",
      "h12_solvent = np.loadtxt('indices/h12_indices.dat', dtype=int)"
     ],
     "language": "python",
     "metadata": {},
     "outputs": [],
     "prompt_number": 10
    },
    {
     "cell_type": "markdown",
     "metadata": {},
     "source": [
      "## Loaded everything, switch to local"
     ]
    },
    {
     "cell_type": "code",
     "collapsed": false,
     "input": [
      "cd ~/implement/wetmsm/ala-2/"
     ],
     "language": "python",
     "metadata": {},
     "outputs": [
      {
       "output_type": "stream",
       "stream": "stdout",
       "text": [
        "/home/harrigan/implement/wetmsm/ala-2\n"
       ]
      }
     ],
     "prompt_number": 11
    },
    {
     "cell_type": "code",
     "collapsed": false,
     "input": [
      "n_frames = 50000\n",
      "n_atoms = 3470\n",
      "n_solute = 9"
     ],
     "language": "python",
     "metadata": {},
     "outputs": [],
     "prompt_number": 12
    },
    {
     "cell_type": "code",
     "collapsed": false,
     "input": [
      "vmdo = vmd_write.VMDWriter(assn=assno, solvent_ind=o_solvent, n_frames=n_frames, n_atoms=n_atoms,\n",
      "                n_solute=n_solute, n_shells=n_shells)\n",
      "\n",
      "vmdh = vmd_write.VMDWriter(assn=assnh12, solvent_ind=h12_solvent, n_frames=n_frames, n_atoms=n_atoms,\n",
      "                n_solute=n_solute, n_shells=n_shells)"
     ],
     "language": "python",
     "metadata": {},
     "outputs": [],
     "prompt_number": 13
    },
    {
     "cell_type": "code",
     "collapsed": false,
     "input": [
      "deletedo = sa.deleted[np.where(sa.deleted < n_solute * n_shells)[0]]\n",
      "deletedh12 = sa.deleted[np.where(sa.deleted >= n_solute * n_shells)[0]] - n_solute * n_shells"
     ],
     "language": "python",
     "metadata": {},
     "outputs": [],
     "prompt_number": 14
    },
    {
     "cell_type": "code",
     "collapsed": false,
     "input": [
      "cutoff = 0.1\n",
      "\n",
      "l1 = (n_solute * n_shells) - len(deletedo)\n",
      "l2 = (n_solute * n_shells) - len(deletedh12)\n",
      "\n",
      "loadingo = np.copy(tic1[0:l1])\n",
      "loadingo[loadingo <= cutoff] = 0.0\n",
      "\n",
      "loadingh = np.copy(tic1[l1:])\n",
      "loadingh[loadingh <= cutoff] = 0.0\n",
      "\n",
      "plt.subplots(figsize=(8,5))\n",
      "plt.scatter(range(len(loadingo)), loadingo)\n",
      "plt.scatter(len(loadingo) + np.arange(len(loadingh)), loadingh)"
     ],
     "language": "python",
     "metadata": {},
     "outputs": [
      {
       "metadata": {},
       "output_type": "pyout",
       "prompt_number": 15,
       "text": [
        "<matplotlib.collections.PathCollection at 0x7f1788308e48>"
       ]
      },
      {
       "metadata": {},
       "output_type": "display_data",
       "png": "[encoded data removed]",
       "text": [
        "<matplotlib.figure.Figure at 0x7f1789dcc9b0>"
       ]
      }
     ],
     "prompt_number": 15
    },
    {
     "cell_type": "code",
     "collapsed": false,
     "input": [
      "usero = vmdo.compute(loadingo, deletedo)"
     ],
     "language": "python",
     "metadata": {},
     "outputs": [],
     "prompt_number": 16
    },
    {
     "cell_type": "code",
     "collapsed": false,
     "input": [
      "userh = vmdh.compute(loadingh, deletedh12)"
     ],
     "language": "python",
     "metadata": {},
     "outputs": [],
     "prompt_number": 17
    },
    {
     "cell_type": "code",
     "collapsed": false,
     "input": [
      "user = usero + userh"
     ],
     "language": "python",
     "metadata": {},
     "outputs": [],
     "prompt_number": 18
    },
    {
     "cell_type": "code",
     "collapsed": false,
     "input": [
      "np.where(np.all(user==0, axis=1))"
     ],
     "language": "python",
     "metadata": {},
     "outputs": [
      {
       "metadata": {},
       "output_type": "pyout",
       "prompt_number": 19,
       "text": [
        "(array([], dtype=int64),)"
       ]
      }
     ],
     "prompt_number": 19
    },
    {
     "cell_type": "code",
     "collapsed": false,
     "input": [
      "np.savetxt('traj-2/data.{}.dat'.format(code), user[::100, :], fmt='%.5f')"
     ],
     "language": "python",
     "metadata": {},
     "outputs": [],
     "prompt_number": 20
    },
    {
     "cell_type": "code",
     "collapsed": false,
     "input": [
      "del usero, userh"
     ],
     "language": "python",
     "metadata": {},
     "outputs": [],
     "prompt_number": 30
    },
    {
     "cell_type": "code",
     "collapsed": false,
     "input": [],
     "language": "python",
     "metadata": {},
     "outputs": []
    }
   ],
   "metadata": {}
  }
 ]
}