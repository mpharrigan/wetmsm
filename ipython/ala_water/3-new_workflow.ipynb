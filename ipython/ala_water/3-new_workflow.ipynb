{
 "metadata": {
  "name": "",
  "signature": "sha256:06913e3ea9c82942a243e11efc0b30bc7fcbcad3b131f15e1ae4ddfe4a909507"
 },
 "nbformat": 3,
 "nbformat_minor": 0,
 "worksheets": [
  {
   "cells": [
    {
     "cell_type": "code",
     "collapsed": false,
     "input": [
      "%load_ext autoreload\n",
      "%autoreload 2\n",
      "%matplotlib inline"
     ],
     "language": "python",
     "metadata": {},
     "outputs": [],
     "prompt_number": 1
    },
    {
     "cell_type": "code",
     "collapsed": false,
     "input": [
      "cd /home/harrigan/implement/wetmsm/ala-biox/"
     ],
     "language": "python",
     "metadata": {},
     "outputs": [
      {
       "output_type": "stream",
       "stream": "stdout",
       "text": [
        "/home/harrigan/implement/wetmsm/ala-biox\n"
       ]
      }
     ],
     "prompt_number": 2
    },
    {
     "cell_type": "code",
     "collapsed": false,
     "input": [
      "import glob\n",
      "from wetmsm.shells import SolventShellsComputation\n",
      "import itertools\n",
      "from multiprocessing import Pool"
     ],
     "language": "python",
     "metadata": {},
     "outputs": [],
     "prompt_number": 3
    },
    {
     "cell_type": "code",
     "collapsed": false,
     "input": [
      "traj_fns = glob.glob('trajs/traj-*.dcd')\n",
      "top_fn = 'ala_vs.pdb'\n",
      "vents = ['o', 'h12']\n",
      "n_shells = 6\n",
      "shell_w = 0.1\n",
      "shell_desc_str = \"{:d}x{:d}a\".format(n_shells, int(10*shell_w))"
     ],
     "language": "python",
     "metadata": {},
     "outputs": [],
     "prompt_number": 6
    },
    {
     "cell_type": "code",
     "collapsed": false,
     "input": [
      "# Make computation objects\n",
      "comps = [\n",
      "    SolventShellsComputation(\n",
      "        solute_indices_fn = 'indices/solute_indices.dat',\n",
      "        solvent_indices_fn = 'indices/{}_indices.dat'.format(vent),\n",
      "        traj_fn = traj_fn,\n",
      "        traj_top = top_fn,\n",
      "        counts_out_fn = '{}.{}.{}.count.h5'.format(traj_fn, vent, shell_desc_str),\n",
      "        assign_out_fn = '{}.{}.{}.assign.h5'.format(traj_fn, vent, shell_desc_str),\n",
      "        n_shells = n_shells,\n",
      "        shell_width = shell_w            \n",
      "    )\n",
      "    for traj_fn, vent in itertools.product(traj_fns, vents)                                \n",
      "]"
     ],
     "language": "python",
     "metadata": {},
     "outputs": [],
     "prompt_number": 8
    },
    {
     "cell_type": "code",
     "collapsed": false,
     "input": [
      "for c in comps:\n",
      "    print(str(c))"
     ],
     "language": "python",
     "metadata": {},
     "outputs": [
      {
       "output_type": "stream",
       "stream": "stdout",
       "text": [
        "Shells: trajs/traj-1.dcd with 6 shells of width 0.1 using indices/solute_indices.dat and indices/o_indices.dat\n",
        "Shells: trajs/traj-1.dcd with 6 shells of width 0.1 using indices/solute_indices.dat and indices/h12_indices.dat\n",
        "Shells: trajs/traj-2.dcd with 6 shells of width 0.1 using indices/solute_indices.dat and indices/o_indices.dat\n",
        "Shells: trajs/traj-2.dcd with 6 shells of width 0.1 using indices/solute_indices.dat and indices/h12_indices.dat\n",
        "Shells: trajs/traj-3.dcd with 6 shells of width 0.1 using indices/solute_indices.dat and indices/o_indices.dat\n",
        "Shells: trajs/traj-3.dcd with 6 shells of width 0.1 using indices/solute_indices.dat and indices/h12_indices.dat\n",
        "Shells: trajs/traj-4.dcd with 6 shells of width 0.1 using indices/solute_indices.dat and indices/o_indices.dat\n",
        "Shells: trajs/traj-4.dcd with 6 shells of width 0.1 using indices/solute_indices.dat and indices/h12_indices.dat\n",
        "Shells: trajs/traj-5.dcd with 6 shells of width 0.1 using indices/solute_indices.dat and indices/o_indices.dat\n",
        "Shells: trajs/traj-5.dcd with 6 shells of width 0.1 using indices/solute_indices.dat and indices/h12_indices.dat\n",
        "Shells: trajs/traj-6.dcd with 6 shells of width 0.1 using indices/solute_indices.dat and indices/o_indices.dat\n",
        "Shells: trajs/traj-6.dcd with 6 shells of width 0.1 using indices/solute_indices.dat and indices/h12_indices.dat\n",
        "Shells: trajs/traj-7.dcd with 6 shells of width 0.1 using indices/solute_indices.dat and indices/o_indices.dat\n",
        "Shells: trajs/traj-7.dcd with 6 shells of width 0.1 using indices/solute_indices.dat and indices/h12_indices.dat\n"
       ]
      }
     ],
     "prompt_number": 9
    },
    {
     "cell_type": "code",
     "collapsed": false,
     "input": [
      "comps[0].featurize_all()"
     ],
     "language": "python",
     "metadata": {},
     "outputs": []
    },
    {
     "cell_type": "code",
     "collapsed": false,
     "input": [
      "pool = Pool(5)\n",
      "def _callit(c):\n",
      "    c.main()\n",
      "    del c"
     ],
     "language": "python",
     "metadata": {},
     "outputs": [],
     "prompt_number": 11
    },
    {
     "cell_type": "code",
     "collapsed": false,
     "input": [
      "pool.map(_callit, comps)"
     ],
     "language": "python",
     "metadata": {},
     "outputs": [
      {
       "output_type": "stream",
       "stream": "stderr",
       "text": [
        "Process ForkPoolWorker-1:\n",
        "Process ForkPoolWorker-4:\n",
        "Process ForkPoolWorker-2:\n",
        "Process ForkPoolWorker-3:\n",
        "Process ForkPoolWorker-5:\n",
        "Traceback (most recent call last):\n",
        "Traceback (most recent call last):\n",
        "Traceback (most recent call last):\n",
        "Traceback (most recent call last):\n",
        "Traceback (most recent call last):\n",
        "  File \"/usr/lib/python3.4/multiprocessing/process.py\", line 254, in _bootstrap\n",
        "    self.run()\n",
        "  File \"/usr/lib/python3.4/multiprocessing/process.py\", line 254, in _bootstrap\n",
        "    self.run()\n",
        "  File \"/usr/lib/python3.4/multiprocessing/process.py\", line 254, in _bootstrap\n",
        "    self.run()\n",
        "  File \"/usr/lib/python3.4/multiprocessing/process.py\", line 254, in _bootstrap\n",
        "    self.run()\n",
        "  File \"/usr/lib/python3.4/multiprocessing/process.py\", line 254, in _bootstrap\n",
        "    self.run()\n",
        "  File \"/usr/lib/python3.4/multiprocessing/process.py\", line 93, in run\n",
        "    self._target(*self._args, **self._kwargs)\n",
        "  File \"/usr/lib/python3.4/multiprocessing/process.py\", line 93, in run\n",
        "    self._target(*self._args, **self._kwargs)\n",
        "  File \"/usr/lib/python3.4/multiprocessing/process.py\", line 93, in run\n",
        "    self._target(*self._args, **self._kwargs)\n",
        "  File \"/usr/lib/python3.4/multiprocessing/process.py\", line 93, in run\n",
        "    self._target(*self._args, **self._kwargs)\n",
        "  File \"/usr/lib/python3.4/multiprocessing/process.py\", line 93, in run\n",
        "    self._target(*self._args, **self._kwargs)\n",
        "  File \"/usr/lib/python3.4/multiprocessing/pool.py\", line 108, in worker\n",
        "    task = get()\n",
        "  File \"/usr/lib/python3.4/multiprocessing/pool.py\", line 108, in worker\n",
        "    task = get()\n",
        "  File \"/usr/lib/python3.4/multiprocessing/pool.py\", line 108, in worker\n",
        "    task = get()\n",
        "  File \"/usr/lib/python3.4/multiprocessing/pool.py\", line 108, in worker\n",
        "    task = get()\n",
        "  File \"/usr/lib/python3.4/multiprocessing/pool.py\", line 108, in worker\n",
        "    task = get()\n",
        "  File \"/usr/lib/python3.4/multiprocessing/queues.py\", line 357, in get\n",
        "    return ForkingPickler.loads(res)\n",
        "  File \"/usr/lib/python3.4/multiprocessing/queues.py\", line 357, in get\n",
        "    return ForkingPickler.loads(res)\n",
        "  File \"/usr/lib/python3.4/multiprocessing/queues.py\", line 357, in get\n",
        "    return ForkingPickler.loads(res)\n",
        "  File \"/usr/lib/python3.4/multiprocessing/queues.py\", line 357, in get\n",
        "    return ForkingPickler.loads(res)\n",
        "  File \"/usr/lib/python3.4/multiprocessing/queues.py\", line 357, in get\n",
        "    return ForkingPickler.loads(res)\n",
        "AttributeError: Can't get attribute '_callit' on <module '__main__'>\n",
        "AttributeError: Can't get attribute '_callit' on <module '__main__'>\n",
        "AttributeError: Can't get attribute '_callit' on <module '__main__'>\n",
        "AttributeError: Can't get attribute '_callit' on <module '__main__'>\n",
        "AttributeError: Can't get attribute '_callit' on <module '__main__'>\n"
       ]
      },
      {
       "ename": "KeyboardInterrupt",
       "evalue": "",
       "output_type": "pyerr",
       "traceback": [
        "\u001b[1;31m---------------------------------------------------------------------------\u001b[0m\n\u001b[1;31mKeyboardInterrupt\u001b[0m                         Traceback (most recent call last)",
        "\u001b[1;32m<ipython-input-12-713cc06f33d8>\u001b[0m in \u001b[0;36m<module>\u001b[1;34m()\u001b[0m\n\u001b[1;32m----> 1\u001b[1;33m \u001b[0mpool\u001b[0m\u001b[1;33m.\u001b[0m\u001b[0mmap\u001b[0m\u001b[1;33m(\u001b[0m\u001b[0m_callit\u001b[0m\u001b[1;33m,\u001b[0m \u001b[0mcomps\u001b[0m\u001b[1;33m)\u001b[0m\u001b[1;33m\u001b[0m\u001b[0m\n\u001b[0m",
        "\u001b[1;32m/usr/lib/python3.4/multiprocessing/pool.py\u001b[0m in \u001b[0;36mmap\u001b[1;34m(self, func, iterable, chunksize)\u001b[0m\n\u001b[0;32m    258\u001b[0m         \u001b[1;32min\u001b[0m \u001b[0ma\u001b[0m \u001b[0mlist\u001b[0m \u001b[0mthat\u001b[0m \u001b[1;32mis\u001b[0m \u001b[0mreturned\u001b[0m\u001b[1;33m.\u001b[0m\u001b[1;33m\u001b[0m\u001b[0m\n\u001b[0;32m    259\u001b[0m         '''\n\u001b[1;32m--> 260\u001b[1;33m         \u001b[1;32mreturn\u001b[0m \u001b[0mself\u001b[0m\u001b[1;33m.\u001b[0m\u001b[0m_map_async\u001b[0m\u001b[1;33m(\u001b[0m\u001b[0mfunc\u001b[0m\u001b[1;33m,\u001b[0m \u001b[0miterable\u001b[0m\u001b[1;33m,\u001b[0m \u001b[0mmapstar\u001b[0m\u001b[1;33m,\u001b[0m \u001b[0mchunksize\u001b[0m\u001b[1;33m)\u001b[0m\u001b[1;33m.\u001b[0m\u001b[0mget\u001b[0m\u001b[1;33m(\u001b[0m\u001b[1;33m)\u001b[0m\u001b[1;33m\u001b[0m\u001b[0m\n\u001b[0m\u001b[0;32m    261\u001b[0m \u001b[1;33m\u001b[0m\u001b[0m\n\u001b[0;32m    262\u001b[0m     \u001b[1;32mdef\u001b[0m \u001b[0mstarmap\u001b[0m\u001b[1;33m(\u001b[0m\u001b[0mself\u001b[0m\u001b[1;33m,\u001b[0m \u001b[0mfunc\u001b[0m\u001b[1;33m,\u001b[0m \u001b[0miterable\u001b[0m\u001b[1;33m,\u001b[0m \u001b[0mchunksize\u001b[0m\u001b[1;33m=\u001b[0m\u001b[1;32mNone\u001b[0m\u001b[1;33m)\u001b[0m\u001b[1;33m:\u001b[0m\u001b[1;33m\u001b[0m\u001b[0m\n",
        "\u001b[1;32m/usr/lib/python3.4/multiprocessing/pool.py\u001b[0m in \u001b[0;36mget\u001b[1;34m(self, timeout)\u001b[0m\n\u001b[0;32m    591\u001b[0m \u001b[1;33m\u001b[0m\u001b[0m\n\u001b[0;32m    592\u001b[0m     \u001b[1;32mdef\u001b[0m \u001b[0mget\u001b[0m\u001b[1;33m(\u001b[0m\u001b[0mself\u001b[0m\u001b[1;33m,\u001b[0m \u001b[0mtimeout\u001b[0m\u001b[1;33m=\u001b[0m\u001b[1;32mNone\u001b[0m\u001b[1;33m)\u001b[0m\u001b[1;33m:\u001b[0m\u001b[1;33m\u001b[0m\u001b[0m\n\u001b[1;32m--> 593\u001b[1;33m         \u001b[0mself\u001b[0m\u001b[1;33m.\u001b[0m\u001b[0mwait\u001b[0m\u001b[1;33m(\u001b[0m\u001b[0mtimeout\u001b[0m\u001b[1;33m)\u001b[0m\u001b[1;33m\u001b[0m\u001b[0m\n\u001b[0m\u001b[0;32m    594\u001b[0m         \u001b[1;32mif\u001b[0m \u001b[1;32mnot\u001b[0m \u001b[0mself\u001b[0m\u001b[1;33m.\u001b[0m\u001b[0mready\u001b[0m\u001b[1;33m(\u001b[0m\u001b[1;33m)\u001b[0m\u001b[1;33m:\u001b[0m\u001b[1;33m\u001b[0m\u001b[0m\n\u001b[0;32m    595\u001b[0m             \u001b[1;32mraise\u001b[0m \u001b[0mTimeoutError\u001b[0m\u001b[1;33m\u001b[0m\u001b[0m\n",
        "\u001b[1;32m/usr/lib/python3.4/multiprocessing/pool.py\u001b[0m in \u001b[0;36mwait\u001b[1;34m(self, timeout)\u001b[0m\n\u001b[0;32m    588\u001b[0m \u001b[1;33m\u001b[0m\u001b[0m\n\u001b[0;32m    589\u001b[0m     \u001b[1;32mdef\u001b[0m \u001b[0mwait\u001b[0m\u001b[1;33m(\u001b[0m\u001b[0mself\u001b[0m\u001b[1;33m,\u001b[0m \u001b[0mtimeout\u001b[0m\u001b[1;33m=\u001b[0m\u001b[1;32mNone\u001b[0m\u001b[1;33m)\u001b[0m\u001b[1;33m:\u001b[0m\u001b[1;33m\u001b[0m\u001b[0m\n\u001b[1;32m--> 590\u001b[1;33m         \u001b[0mself\u001b[0m\u001b[1;33m.\u001b[0m\u001b[0m_event\u001b[0m\u001b[1;33m.\u001b[0m\u001b[0mwait\u001b[0m\u001b[1;33m(\u001b[0m\u001b[0mtimeout\u001b[0m\u001b[1;33m)\u001b[0m\u001b[1;33m\u001b[0m\u001b[0m\n\u001b[0m\u001b[0;32m    591\u001b[0m \u001b[1;33m\u001b[0m\u001b[0m\n\u001b[0;32m    592\u001b[0m     \u001b[1;32mdef\u001b[0m \u001b[0mget\u001b[0m\u001b[1;33m(\u001b[0m\u001b[0mself\u001b[0m\u001b[1;33m,\u001b[0m \u001b[0mtimeout\u001b[0m\u001b[1;33m=\u001b[0m\u001b[1;32mNone\u001b[0m\u001b[1;33m)\u001b[0m\u001b[1;33m:\u001b[0m\u001b[1;33m\u001b[0m\u001b[0m\n",
        "\u001b[1;32m/usr/lib/python3.4/threading.py\u001b[0m in \u001b[0;36mwait\u001b[1;34m(self, timeout)\u001b[0m\n\u001b[0;32m    550\u001b[0m             \u001b[0msignaled\u001b[0m \u001b[1;33m=\u001b[0m \u001b[0mself\u001b[0m\u001b[1;33m.\u001b[0m\u001b[0m_flag\u001b[0m\u001b[1;33m\u001b[0m\u001b[0m\n\u001b[0;32m    551\u001b[0m             \u001b[1;32mif\u001b[0m \u001b[1;32mnot\u001b[0m \u001b[0msignaled\u001b[0m\u001b[1;33m:\u001b[0m\u001b[1;33m\u001b[0m\u001b[0m\n\u001b[1;32m--> 552\u001b[1;33m                 \u001b[0msignaled\u001b[0m \u001b[1;33m=\u001b[0m \u001b[0mself\u001b[0m\u001b[1;33m.\u001b[0m\u001b[0m_cond\u001b[0m\u001b[1;33m.\u001b[0m\u001b[0mwait\u001b[0m\u001b[1;33m(\u001b[0m\u001b[0mtimeout\u001b[0m\u001b[1;33m)\u001b[0m\u001b[1;33m\u001b[0m\u001b[0m\n\u001b[0m\u001b[0;32m    553\u001b[0m             \u001b[1;32mreturn\u001b[0m \u001b[0msignaled\u001b[0m\u001b[1;33m\u001b[0m\u001b[0m\n\u001b[0;32m    554\u001b[0m         \u001b[1;32mfinally\u001b[0m\u001b[1;33m:\u001b[0m\u001b[1;33m\u001b[0m\u001b[0m\n",
        "\u001b[1;32m/usr/lib/python3.4/threading.py\u001b[0m in \u001b[0;36mwait\u001b[1;34m(self, timeout)\u001b[0m\n\u001b[0;32m    287\u001b[0m         \u001b[1;32mtry\u001b[0m\u001b[1;33m:\u001b[0m    \u001b[1;31m# restore state no matter what (e.g., KeyboardInterrupt)\u001b[0m\u001b[1;33m\u001b[0m\u001b[0m\n\u001b[0;32m    288\u001b[0m             \u001b[1;32mif\u001b[0m \u001b[0mtimeout\u001b[0m \u001b[1;32mis\u001b[0m \u001b[1;32mNone\u001b[0m\u001b[1;33m:\u001b[0m\u001b[1;33m\u001b[0m\u001b[0m\n\u001b[1;32m--> 289\u001b[1;33m                 \u001b[0mwaiter\u001b[0m\u001b[1;33m.\u001b[0m\u001b[0macquire\u001b[0m\u001b[1;33m(\u001b[0m\u001b[1;33m)\u001b[0m\u001b[1;33m\u001b[0m\u001b[0m\n\u001b[0m\u001b[0;32m    290\u001b[0m                 \u001b[0mgotit\u001b[0m \u001b[1;33m=\u001b[0m \u001b[1;32mTrue\u001b[0m\u001b[1;33m\u001b[0m\u001b[0m\n\u001b[0;32m    291\u001b[0m             \u001b[1;32melse\u001b[0m\u001b[1;33m:\u001b[0m\u001b[1;33m\u001b[0m\u001b[0m\n",
        "\u001b[1;31mKeyboardInterrupt\u001b[0m: "
       ]
      }
     ],
     "prompt_number": 12
    },
    {
     "cell_type": "code",
     "collapsed": false,
     "input": [
      "del comps"
     ],
     "language": "python",
     "metadata": {},
     "outputs": [],
     "prompt_number": 13
    },
    {
     "cell_type": "code",
     "collapsed": false,
     "input": [
      "del pool"
     ],
     "language": "python",
     "metadata": {},
     "outputs": [],
     "prompt_number": 14
    },
    {
     "cell_type": "code",
     "collapsed": false,
     "input": [
      "del c"
     ],
     "language": "python",
     "metadata": {},
     "outputs": [],
     "prompt_number": 15
    },
    {
     "cell_type": "code",
     "collapsed": false,
     "input": [],
     "language": "python",
     "metadata": {},
     "outputs": []
    }
   ],
   "metadata": {}
  }
 ]
}